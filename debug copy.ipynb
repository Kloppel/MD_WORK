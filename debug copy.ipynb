{
 "cells": [
  {
   "cell_type": "code",
   "execution_count": 1,
   "metadata": {},
   "outputs": [
    {
     "data": {
      "application/vnd.jupyter.widget-view+json": {
       "model_id": "48be8f55d6cf4d67844c9e61703ab4bf",
       "version_major": 2,
       "version_minor": 0
      },
      "text/plain": []
     },
     "metadata": {},
     "output_type": "display_data"
    }
   ],
   "source": [
    "import numpy as np\n",
    "import matplotlib.pyplot as plt\n",
    "import seaborn as sns\n",
    "import os \n",
    "import subprocess as sp \n",
    "import shutil\n",
    "from pathlib import Path\n",
    "import MDAnalysis as mda\n",
    "import MDAnalysisTests as mdat\n",
    "import MDAnalysis.transformations as trans\n",
    "import nglview as nv\n",
    "\n",
    "import Package.helpers as helpers\n",
    "import Package.organizer as organizer\n",
    "import Package.NAMD as NAMD\n",
    "import Package.MDA as MDA"
   ]
  },
  {
   "cell_type": "markdown",
   "metadata": {},
   "source": [
    "MDA.empty_universe"
   ]
  },
  {
   "cell_type": "code",
   "execution_count": 2,
   "metadata": {},
   "outputs": [
    {
     "name": "stdout",
     "output_type": "stream",
     "text": [
      "Number of atoms (n_atoms) is unknown and guessed to be for a universe to be filled with water. Therefore, n_atoms will be n_residues*3.\n"
     ]
    },
    {
     "name": "stderr",
     "output_type": "stream",
     "text": [
      "/home/pbuser/miniconda3/envs/work/lib/python3.9/site-packages/MDAnalysis/core/universe.py:439: UserWarning: Segments specified but no segment_resindex given.  All residues will be placed in first Segment\n",
      "  warnings.warn(\n"
     ]
    }
   ],
   "source": [
    "empty = MDA.MDA.empty_universe(n_residues=10)"
   ]
  },
  {
   "cell_type": "markdown",
   "metadata": {},
   "source": [
    "MDA.create_waterverse"
   ]
  },
  {
   "cell_type": "code",
   "execution_count": 3,
   "metadata": {},
   "outputs": [
    {
     "name": "stdout",
     "output_type": "stream",
     "text": [
      "Filling universe with water.\n",
      "Number of atoms (n_atoms) is unknown and guessed to be for a universe to be filled with water. Therefore, n_atoms will be n_residues*3.\n"
     ]
    }
   ],
   "source": [
    "waterverse = MDA.MDA.create_waterverse(waters=10)"
   ]
  },
  {
   "cell_type": "markdown",
   "metadata": {},
   "source": [
    "MDA.add_segment"
   ]
  },
  {
   "cell_type": "code",
   "execution_count": 4,
   "metadata": {},
   "outputs": [
    {
     "name": "stdout",
     "output_type": "stream",
     "text": [
      "Assuming all atoms are already in the universe, this function just splits existing atoms into new segments. Residues can not be split among two segments.\n"
     ]
    }
   ],
   "source": [
    "TIP3P = MDA.MDA.add_segment(universe = waterverse, segID='TIP3P', residue_selection='all')"
   ]
  },
  {
   "cell_type": "markdown",
   "metadata": {},
   "source": [
    "MDA.tile_universe"
   ]
  },
  {
   "cell_type": "code",
   "execution_count": 5,
   "metadata": {},
   "outputs": [],
   "source": [
    "#TIP3P_tiled = MDA.MDA.tile_universe(universe=TIP3P, n_x=100, n_y=100, n_z=100)"
   ]
  },
  {
   "cell_type": "code",
   "execution_count": 6,
   "metadata": {},
   "outputs": [
    {
     "name": "stdout",
     "output_type": "stream",
     "text": [
      "[73.23912 73.23912 73.23912 90.      90.      90.     ]\n"
     ]
    }
   ],
   "source": [
    "print(TIP3P.dimensions)"
   ]
  },
  {
   "cell_type": "markdown",
   "metadata": {},
   "source": [
    "MDA.import_structure"
   ]
  },
  {
   "cell_type": "code",
   "execution_count": 7,
   "metadata": {},
   "outputs": [],
   "source": [
    "#MDA.MDA.import_structure(structure='cco_and_water.pdb', waterverse=TIP3P)"
   ]
  },
  {
   "cell_type": "code",
   "execution_count": 8,
   "metadata": {},
   "outputs": [],
   "source": [
    "#import MDAnalysis as mda\n",
    "#structure = 'cco_and_water.pdb'\n",
    "#waterverse = waterverse\n",
    "#import protein\n",
    "#protiverse = mda.Universe(structure)\n",
    "#center around origin\n",
    "#water_cog_ = waterverse.atoms.center_of_geometry()\n",
    "#waterverse.atoms.positions -= water_cog_\n",
    "#water_cog = waterverse.atoms.center_of_geometry()\n",
    "#protein_cog_ = protiverse.atoms.center_of_geometry()\n",
    "#protiverse.atoms.positions -= protein_cog_\n",
    "#protein_cog = protiverse.atoms.center_of_geometry()\n",
    "#print('Water Center of geometry '+ water_cog)\n",
    "#print('Protein Center of geometry '+ protein_cog)\n",
    "#for pos in water_cog:\n",
    "#    if pos > 0.1:\n",
    "#        print('Aligning origins resulted in unusually large values. Please consider looking at the center of geometry operations of the waterverse.')\n",
    "#for pos in protein_cog:\n",
    "#    if pos > 0.1:\n",
    "#        print('Aligning origins resulted in unusually large values. Please consider looking at the center of geometry operations of the protiverse.')\n",
    "#create merged universe\n",
    "#universe = mda.Merge(protiverse.atoms, waterverse.atoms)\n",
    "#find the size of our universe as 1.5 times the largest size in one direction\n",
    "#dist = 1.5*(max(u.atoms.positions[:, 0]) - min(u.atoms.positions[:, 0]))\n",
    "#fix the size of our universe, 90 for 90° angles (box-shaped universe)\n",
    "#universe.dimensions = [dist, dist, dist, 90, 90, 90]\n",
    "#tile out the universe (explicit PBCs)\n",
    "#if kwargs.get('tile') is not None:\n",
    "#    if kwargs.get('n_x') is not None:\n",
    "#        if kwargs.get('n_y') is not None:\n",
    "#            if kwargs.get('n_z') is not None:\n",
    "#                universe = MDA.tile_universe(universe=universe, n_x=n_x, n_y=n_y, n_z=n_z)\n",
    "#    else:\n",
    "#        sys.exit('Tiling out the system was requested, but no specifications for tiling have been given. Please enter n_x, n_y, n_z values as function arguments.')"
   ]
  },
  {
   "cell_type": "code",
   "execution_count": 9,
   "metadata": {},
   "outputs": [
    {
     "name": "stdout",
     "output_type": "stream",
     "text": [
      "Number of atoms (n_atoms) is unknown and guessed to be for a universe to be filled with water. Therefore, n_atoms will be n_residues*3.\n",
      "Filling universe with water.\n",
      "Number of atoms (n_atoms) is unknown and guessed to be for a universe to be filled with water. Therefore, n_atoms will be n_residues*3.\n",
      "Filling universe with water.\n",
      "Number of atoms (n_atoms) is unknown and guessed to be for a universe to be filled with water. Therefore, n_atoms will be n_residues*3.\n"
     ]
    }
   ],
   "source": [
    "empty = MDA.MDA.empty_universe(n_residues=100)\n",
    "waterverse_ = MDA.MDA.create_waterverse(waters=10)\n",
    "waterverse__ = MDA.MDA.create_waterverse(waters=10)"
   ]
  },
  {
   "cell_type": "code",
   "execution_count": 10,
   "metadata": {},
   "outputs": [],
   "source": [
    "universes = []\n",
    "universes.append(empty.atoms)\n",
    "universes.append(waterverse_.atoms)\n",
    "universes.append(waterverse__.atoms)\n",
    "#waterverse___ = mda.Merge(*universes)"
   ]
  },
  {
   "cell_type": "markdown",
   "metadata": {},
   "source": [
    "MDA.MDA.align_structures"
   ]
  },
  {
   "cell_type": "code",
   "execution_count": 19,
   "metadata": {},
   "outputs": [
    {
     "data": {
      "text/plain": [
       "<PDBReader cco_and_membrane.pdb with 1 frames of 37932 atoms>"
      ]
     },
     "execution_count": 19,
     "metadata": {},
     "output_type": "execute_result"
    }
   ],
   "source": [
    "protiverse=mda.coordinates.PDB.PDBReader('cco_and_membrane.pdb')\n",
    "#waterverse=\n",
    "#universe = MDA.MDA.align_structures(protiverse=cco_and_membrane.pdb, waterverse=water.pdb)\n",
    "protiverse#=mda.Universe(protiverse)"
   ]
  },
  {
   "cell_type": "code",
   "execution_count": null,
   "metadata": {},
   "outputs": [],
   "source": [
    "#MDA.MDA.tile_universe(universe=waterverse, n_x=75, n_y=75, n_z=75)\n",
    "#tile_universe is written so suboptimally, that it routinely crashes my computer."
   ]
  },
  {
   "cell_type": "code",
   "execution_count": null,
   "metadata": {},
   "outputs": [],
   "source": []
  }
 ],
 "metadata": {
  "interpreter": {
   "hash": "aee8b7b246df8f9039afb4144a1f6fd8d2ca17a180786b69acc140d282b71a49"
  },
  "kernelspec": {
   "display_name": "Python 3.9.7 64-bit",
   "language": "python",
   "name": "python3"
  },
  "language_info": {
   "codemirror_mode": {
    "name": "ipython",
    "version": 3
   },
   "file_extension": ".py",
   "mimetype": "text/x-python",
   "name": "python",
   "nbconvert_exporter": "python",
   "pygments_lexer": "ipython3",
   "version": "3.9.7"
  },
  "orig_nbformat": 4
 },
 "nbformat": 4,
 "nbformat_minor": 2
}
