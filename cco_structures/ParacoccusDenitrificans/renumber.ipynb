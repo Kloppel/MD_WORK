{
 "cells": [
  {
   "cell_type": "code",
   "execution_count": 95,
   "metadata": {},
   "outputs": [],
   "source": [
    "import re\n",
    "from itertools import chain\n",
    "import pandas as pd\n",
    "from typing import List\n",
    "\n",
    "#re.sub(pattern, repl, string, count=0, flags=0)\n",
    "\n",
    "#with open('BCHA.crd', 'r') as file:\n",
    "#    content = file.read()\n",
    "#    new_content = re.sub(pattern = '\\s*\\d*\\s*\\d*\\s*\\w*\\s*\\w*\\s*\\d*\\.{1}\\d*\\s*\\d*\\.{1}\\d*\\s*\\d*\\.{1}\\d*\\s*\\w*\\s*\\d*\\s*\\d*\\.{1}\\d*', repl = '', string = content)"
   ]
  },
  {
   "cell_type": "code",
   "execution_count": 58,
   "metadata": {},
   "outputs": [
    {
     "data": {
      "text/plain": [
       "['      2505']"
      ]
     },
     "execution_count": 58,
     "metadata": {},
     "output_type": "execute_result"
    }
   ],
   "source": [
    "file = open('BCHA.crd')\n",
    "content = file.readlines()\n",
    "\n",
    "\n",
    "\n",
    "for line in content:\n",
    "    #extract first two columns with numbers\n",
    "    atomnos_resnos = re.findall(pattern = '\\s+\\d+\\s+\\d+\\s+', string=line)\n",
    "    #print(atomnos_resnos)\n",
    "    for elem in atomnos_resnos:\n",
    "        #split first and second columns of numbers\n",
    "        atomnos = re.findall(pattern='\\s+\\d+', string=elem)\n",
    "        container = []\n",
    "        container.append(atomnos[0])\n",
    "        container_ = []\n",
    "        container_.append(atomnos[1])\n",
    "        #renumber atom numbers\n",
    "        for line in container:\n",
    "            atomnumber = int(line)\n",
    "            atomnumber = atomnumber + 4184\n",
    "            container_atomnumbers = []\n",
    "            container_atomnumbers.append('      ' + str(atomnumber))\n",
    "        #renumber residue numbers\n",
    "        for line in container:\n",
    "            residuenumber = int(line)\n",
    "            residuenumber = residuenumber + 529\n",
    "            container_residuenumbers = []\n",
    "            container_residuenumbers.append('      ' + str(residuenumber))\n",
    "        #containers = [\"\" in zip(container, container_)\n",
    "        \n",
    "container_residuenumbers\n",
    "        #print(container_)\n",
    "        #print(container__)\n",
    "        #print(atomnos)"
   ]
  },
  {
   "cell_type": "code",
   "execution_count": 136,
   "metadata": {},
   "outputs": [],
   "source": [
    "def unlevel(obj):\n",
    "    while isinstance(obj, list) and len(obj) == 1:\n",
    "        obj = obj[0]\n",
    "    if isinstance(obj, list):\n",
    "        return [unlevel(item) for item in obj]\n",
    "    else:\n",
    "        return obj\n",
    "\n",
    "\n",
    "def _elementwise_concat(a: List[str], b: List[str]) -> List[str]:\n",
    "    \"\"\"\n",
    "    Elementwise concatenate.\n",
    "    :param a: List of strings.\n",
    "    :param b: List of strings.\n",
    "    :return: List, same length, strings concatenated.\n",
    "    \"\"\"\n",
    "    df = pd.DataFrame({\"a\": a, \"b\": b})\n",
    "    df[\"c\"] = df.a + df.b\n",
    "    return df.c.values\n",
    "\n",
    "def renumber(input_file, output_file, last_atom_prev_chain, last_residue_prev_chain, **kwargs):\n",
    "    file = open(input_file)\n",
    "    content = file.readlines()\n",
    "    content_ = []\n",
    "    container = []\n",
    "    atom_numbers = []\n",
    "    residue_numbers = []\n",
    "    cont = []\n",
    "    atom_numbers_ = []\n",
    "    residue_numbers_ = []\n",
    "    content__ = []\n",
    "    for line in content:\n",
    "        beg_line = re.findall(pattern='\\s+\\d+\\s+\\d+\\s+', string=line)\n",
    "        content_.append(beg_line)\n",
    "    content_ = unlevel(content_)\n",
    "    content_ = content_[1:]\n",
    "    for line in content_:\n",
    "        atom_res = re.findall(pattern='\\s+\\d+', string=line)\n",
    "        #container.append(atom_res)\n",
    "        atom_numbers.append(atom_res[0])\n",
    "        residue_numbers.append(atom_res[1])\n",
    "    for line in atom_numbers:\n",
    "        atom_number = '      ' + str(int(line)+last_atom_prev_chain)\n",
    "        atom_numbers_.append(atom_number)\n",
    "    for line in residue_numbers:\n",
    "        residue_number = '       ' + str(int(line)+last_residue_prev_chain) + '  '\n",
    "        residue_numbers_.append(residue_number)\n",
    "    residue_numbers = residue_numbers_\n",
    "    atom_numbers = atom_numbers_\n",
    "    repl = _elementwise_concat(a=atom_numbers, b=residue_numbers)\n",
    "    repl = list(repl)\n",
    "    repl = ['']+repl\n",
    "    i=0\n",
    "    for line in content:\n",
    "        line_ = re.sub(pattern='\\s+\\d+\\s+\\d+\\s+', repl=repl[i], string=line)\n",
    "        content__.append(line_)\n",
    "        i+=1\n",
    "    #content__\n",
    "    writefile = open(output_file, 'w')\n",
    "    writefile.writelines(content__)\n",
    "    writefile.close()\n",
    "    return\n"
   ]
  },
  {
   "cell_type": "code",
   "execution_count": 138,
   "metadata": {},
   "outputs": [],
   "source": [
    "renumber(input_file='BCHA.crd', output_file='BCHA', last_atom_prev_chain=4184, last_residue_prev_chain=529)"
   ]
  },
  {
   "cell_type": "code",
   "execution_count": 135,
   "metadata": {},
   "outputs": [],
   "source": [
    "file = open('BCHA.crd')\n",
    "content = file.readlines()\n",
    "\n",
    "content_ = []\n",
    "container = []\n",
    "atom_numbers = []\n",
    "residue_numbers = []\n",
    "cont = []\n",
    "atom_numbers_ = []\n",
    "residue_numbers_ = []\n",
    "content__ = []\n",
    "\n",
    "last_atom_prev_chain = 4184\n",
    "last_residue_prev_chain = 529\n",
    "\n",
    "for line in content:\n",
    "    beg_line = re.findall(pattern='\\s+\\d+\\s+\\d+\\s+', string=line)\n",
    "    content_.append(beg_line)\n",
    "content_ = unlevel(content_)\n",
    "content_ = content_[1:]\n",
    "for line in content_:\n",
    "    atom_res = re.findall(pattern='\\s+\\d+', string=line)\n",
    "    #container.append(atom_res)\n",
    "    atom_numbers.append(atom_res[0])\n",
    "    residue_numbers.append(atom_res[1])\n",
    "for line in atom_numbers:\n",
    "    atom_number = '      ' + str(int(line)+last_atom_prev_chain)\n",
    "    atom_numbers_.append(atom_number)\n",
    "for line in residue_numbers:\n",
    "    residue_number = '       ' + str(int(line)+last_residue_prev_chain) + '  '\n",
    "    residue_numbers_.append(residue_number)\n",
    "residue_numbers = residue_numbers_\n",
    "atom_numbers = atom_numbers_\n",
    "repl = _elementwise_concat(a=atom_numbers, b=residue_numbers)\n",
    "repl = list(repl)\n",
    "repl = ['']+repl\n",
    "i=0\n",
    "for line in content:\n",
    "    line_ = re.sub(pattern='\\s+\\d+\\s+\\d+\\s+', repl=repl[i], string=line)\n",
    "    content__.append(line_)\n",
    "    i+=1\n",
    "#content__\n",
    "writefile = open('BCHA', 'w')\n",
    "writefile.writelines(content__)\n",
    "writefile.close()\n"
   ]
  },
  {
   "cell_type": "code",
   "execution_count": 130,
   "metadata": {},
   "outputs": [
    {
     "data": {
      "text/plain": [
       "'      4185       530  '"
      ]
     },
     "execution_count": 130,
     "metadata": {},
     "output_type": "execute_result"
    }
   ],
   "source": [
    "repl[1]"
   ]
  },
  {
   "cell_type": "code",
   "execution_count": null,
   "metadata": {},
   "outputs": [],
   "source": []
  }
 ],
 "metadata": {
  "interpreter": {
   "hash": "2140ed94d7e985123a1a7c2e7e16e6e539e040772859bef8d97bb297edf06d90"
  },
  "kernelspec": {
   "display_name": "Python 3.9.7 64-bit ('work': conda)",
   "language": "python",
   "name": "python3"
  },
  "language_info": {
   "codemirror_mode": {
    "name": "ipython",
    "version": 3
   },
   "file_extension": ".py",
   "mimetype": "text/x-python",
   "name": "python",
   "nbconvert_exporter": "python",
   "pygments_lexer": "ipython3",
   "version": "3.9.7"
  },
  "orig_nbformat": 4
 },
 "nbformat": 4,
 "nbformat_minor": 2
}
