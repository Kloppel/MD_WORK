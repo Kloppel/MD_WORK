{
 "cells": [
  {
   "cell_type": "code",
   "execution_count": 1,
   "metadata": {},
   "outputs": [
    {
     "ename": "ValueError",
     "evalue": "numpy.ndarray size changed, may indicate binary incompatibility. Expected 88 from C header, got 80 from PyObject",
     "output_type": "error",
     "traceback": [
      "\u001b[0;31m---------------------------------------------------------------------------\u001b[0m",
      "\u001b[0;31mValueError\u001b[0m                                Traceback (most recent call last)",
      "\u001b[0;32m/tmp/ipykernel_140778/2051283459.py\u001b[0m in \u001b[0;36m<module>\u001b[0;34m\u001b[0m\n\u001b[1;32m      3\u001b[0m \u001b[0;32mimport\u001b[0m \u001b[0mmatplotlib\u001b[0m\u001b[0;34m.\u001b[0m\u001b[0mpyplot\u001b[0m \u001b[0;32mas\u001b[0m \u001b[0mplt\u001b[0m\u001b[0;34m\u001b[0m\u001b[0;34m\u001b[0m\u001b[0m\n\u001b[1;32m      4\u001b[0m \u001b[0;32mimport\u001b[0m \u001b[0mseaborn\u001b[0m \u001b[0;32mas\u001b[0m \u001b[0msns\u001b[0m\u001b[0;34m\u001b[0m\u001b[0;34m\u001b[0m\u001b[0m\n\u001b[0;32m----> 5\u001b[0;31m \u001b[0;32mimport\u001b[0m \u001b[0mMDAnalysis\u001b[0m \u001b[0;32mas\u001b[0m \u001b[0mmda\u001b[0m\u001b[0;34m\u001b[0m\u001b[0;34m\u001b[0m\u001b[0m\n\u001b[0m\u001b[1;32m      6\u001b[0m \u001b[0;32mimport\u001b[0m \u001b[0mMDAnalysisTests\u001b[0m \u001b[0;32mas\u001b[0m \u001b[0mmdt\u001b[0m\u001b[0;34m\u001b[0m\u001b[0;34m\u001b[0m\u001b[0m\n\u001b[1;32m      7\u001b[0m \u001b[0;32mimport\u001b[0m \u001b[0mnglview\u001b[0m \u001b[0;32mas\u001b[0m \u001b[0mngl\u001b[0m\u001b[0;34m\u001b[0m\u001b[0;34m\u001b[0m\u001b[0m\n",
      "\u001b[0;32m~/miniconda3/envs/work/lib/python3.9/site-packages/MDAnalysis/__init__.py\u001b[0m in \u001b[0;36m<module>\u001b[0;34m\u001b[0m\n\u001b[1;32m    189\u001b[0m )\n\u001b[1;32m    190\u001b[0m \u001b[0;34m\u001b[0m\u001b[0m\n\u001b[0;32m--> 191\u001b[0;31m \u001b[0;32mfrom\u001b[0m \u001b[0;34m.\u001b[0m\u001b[0mlib\u001b[0m \u001b[0;32mimport\u001b[0m \u001b[0mlog\u001b[0m\u001b[0;34m\u001b[0m\u001b[0;34m\u001b[0m\u001b[0m\n\u001b[0m\u001b[1;32m    192\u001b[0m \u001b[0;32mfrom\u001b[0m \u001b[0;34m.\u001b[0m\u001b[0mlib\u001b[0m\u001b[0;34m.\u001b[0m\u001b[0mlog\u001b[0m \u001b[0;32mimport\u001b[0m \u001b[0mstart_logging\u001b[0m\u001b[0;34m,\u001b[0m \u001b[0mstop_logging\u001b[0m\u001b[0;34m\u001b[0m\u001b[0;34m\u001b[0m\u001b[0m\n\u001b[1;32m    193\u001b[0m \u001b[0;34m\u001b[0m\u001b[0m\n",
      "\u001b[0;32m~/miniconda3/envs/work/lib/python3.9/site-packages/MDAnalysis/lib/__init__.py\u001b[0m in \u001b[0;36m<module>\u001b[0;34m\u001b[0m\n\u001b[1;32m     32\u001b[0m \u001b[0;34m\u001b[0m\u001b[0m\n\u001b[1;32m     33\u001b[0m \u001b[0;32mfrom\u001b[0m \u001b[0;34m.\u001b[0m \u001b[0;32mimport\u001b[0m \u001b[0mlog\u001b[0m\u001b[0;34m\u001b[0m\u001b[0;34m\u001b[0m\u001b[0m\n\u001b[0;32m---> 34\u001b[0;31m \u001b[0;32mfrom\u001b[0m \u001b[0;34m.\u001b[0m \u001b[0;32mimport\u001b[0m \u001b[0mtransformations\u001b[0m\u001b[0;34m\u001b[0m\u001b[0;34m\u001b[0m\u001b[0m\n\u001b[0m\u001b[1;32m     35\u001b[0m \u001b[0;32mfrom\u001b[0m \u001b[0;34m.\u001b[0m \u001b[0;32mimport\u001b[0m \u001b[0mutil\u001b[0m\u001b[0;34m\u001b[0m\u001b[0;34m\u001b[0m\u001b[0m\n\u001b[1;32m     36\u001b[0m \u001b[0;32mfrom\u001b[0m \u001b[0;34m.\u001b[0m \u001b[0;32mimport\u001b[0m \u001b[0mmdamath\u001b[0m\u001b[0;34m\u001b[0m\u001b[0;34m\u001b[0m\u001b[0m\n",
      "\u001b[0;32m~/miniconda3/envs/work/lib/python3.9/site-packages/MDAnalysis/lib/transformations.py\u001b[0m in \u001b[0;36m<module>\u001b[0;34m\u001b[0m\n\u001b[1;32m    196\u001b[0m \u001b[0;32mfrom\u001b[0m \u001b[0mnumpy\u001b[0m\u001b[0;34m.\u001b[0m\u001b[0mlinalg\u001b[0m \u001b[0;32mimport\u001b[0m \u001b[0mnorm\u001b[0m\u001b[0;34m\u001b[0m\u001b[0;34m\u001b[0m\u001b[0m\n\u001b[1;32m    197\u001b[0m \u001b[0;34m\u001b[0m\u001b[0m\n\u001b[0;32m--> 198\u001b[0;31m \u001b[0;32mfrom\u001b[0m \u001b[0;34m.\u001b[0m\u001b[0mmdamath\u001b[0m \u001b[0;32mimport\u001b[0m \u001b[0mangle\u001b[0m \u001b[0;32mas\u001b[0m \u001b[0mvecangle\u001b[0m\u001b[0;34m\u001b[0m\u001b[0;34m\u001b[0m\u001b[0m\n\u001b[0m\u001b[1;32m    199\u001b[0m \u001b[0;34m\u001b[0m\u001b[0m\n\u001b[1;32m    200\u001b[0m \u001b[0;32mdef\u001b[0m \u001b[0midentity_matrix\u001b[0m\u001b[0;34m(\u001b[0m\u001b[0;34m)\u001b[0m\u001b[0;34m:\u001b[0m\u001b[0;34m\u001b[0m\u001b[0;34m\u001b[0m\u001b[0m\n",
      "\u001b[0;32m~/miniconda3/envs/work/lib/python3.9/site-packages/MDAnalysis/lib/mdamath.py\u001b[0m in \u001b[0;36m<module>\u001b[0;34m\u001b[0m\n\u001b[1;32m     47\u001b[0m \u001b[0;34m\u001b[0m\u001b[0m\n\u001b[1;32m     48\u001b[0m \u001b[0;32mfrom\u001b[0m \u001b[0;34m.\u001b[0m\u001b[0;34m.\u001b[0m\u001b[0mexceptions\u001b[0m \u001b[0;32mimport\u001b[0m \u001b[0mNoDataError\u001b[0m\u001b[0;34m\u001b[0m\u001b[0;34m\u001b[0m\u001b[0m\n\u001b[0;32m---> 49\u001b[0;31m \u001b[0;32mfrom\u001b[0m \u001b[0;34m.\u001b[0m \u001b[0;32mimport\u001b[0m \u001b[0mutil\u001b[0m\u001b[0;34m\u001b[0m\u001b[0;34m\u001b[0m\u001b[0m\n\u001b[0m\u001b[1;32m     50\u001b[0m from ._cutil import (make_whole, find_fragments, _sarrus_det_single,\n\u001b[1;32m     51\u001b[0m                      _sarrus_det_multiple)\n",
      "\u001b[0;32m~/miniconda3/envs/work/lib/python3.9/site-packages/MDAnalysis/lib/util.py\u001b[0m in \u001b[0;36m<module>\u001b[0;34m\u001b[0m\n\u001b[1;32m    215\u001b[0m \u001b[0;32mfrom\u001b[0m \u001b[0;34m.\u001b[0m\u001b[0;34m.\u001b[0m\u001b[0mexceptions\u001b[0m \u001b[0;32mimport\u001b[0m \u001b[0mStreamWarning\u001b[0m\u001b[0;34m,\u001b[0m \u001b[0mDuplicateWarning\u001b[0m\u001b[0;34m\u001b[0m\u001b[0;34m\u001b[0m\u001b[0m\n\u001b[1;32m    216\u001b[0m \u001b[0;32mtry\u001b[0m\u001b[0;34m:\u001b[0m\u001b[0;34m\u001b[0m\u001b[0;34m\u001b[0m\u001b[0m\n\u001b[0;32m--> 217\u001b[0;31m     \u001b[0;32mfrom\u001b[0m \u001b[0;34m.\u001b[0m\u001b[0m_cutil\u001b[0m \u001b[0;32mimport\u001b[0m \u001b[0munique_int_1d\u001b[0m\u001b[0;34m\u001b[0m\u001b[0;34m\u001b[0m\u001b[0m\n\u001b[0m\u001b[1;32m    218\u001b[0m \u001b[0;32mexcept\u001b[0m \u001b[0mImportError\u001b[0m\u001b[0;34m:\u001b[0m\u001b[0;34m\u001b[0m\u001b[0;34m\u001b[0m\u001b[0m\n\u001b[1;32m    219\u001b[0m     raise ImportError(\"MDAnalysis not installed properly. \"\n",
      "\u001b[0;32mMDAnalysis/lib/_cutil.pyx\u001b[0m in \u001b[0;36minit MDAnalysis.lib._cutil\u001b[0;34m()\u001b[0m\n",
      "\u001b[0;31mValueError\u001b[0m: numpy.ndarray size changed, may indicate binary incompatibility. Expected 88 from C header, got 80 from PyObject"
     ]
    }
   ],
   "source": [
    "import numpy as np\n",
    "import pandas as pd\n",
    "import matplotlib.pyplot as plt \n",
    "import seaborn as sns\n",
    "import MDAnalysis as mda \n",
    "import MDAnalysisTests as mdt \n",
    "import nglview as ngl\n",
    "from MDAnalysis.analysis import rms \n",
    "from MDAnalysis.analysis import align \n",
    "from MDAnalysis.analysis import distances \n",
    "import pdbtools as pdb \n",
    "import os\n",
    "import Bio\n",
    "from Bio.PDB.PDBParser import PDBParser as pdbparser \n",
    "from Bio.PDB import PDBIO as pdbio "
   ]
  },
  {
   "cell_type": "markdown",
   "metadata": {},
   "source": [
    "## 3HB3"
   ]
  },
  {
   "cell_type": "code",
   "execution_count": null,
   "metadata": {},
   "outputs": [
    {
     "name": "stderr",
     "output_type": "stream",
     "text": [
      "/home/pbuser/miniconda3/envs/work/lib/python3.9/site-packages/MDAnalysis/topology/PDBParser.py:403: UserWarning: PDB file contained CONECT record to TER entry. These are not included in bonds.\n",
      "  warnings.warn(\n"
     ]
    }
   ],
   "source": [
    "_3hb3 = mda.Universe('x-ray/O-state/3hb3.pdb')\n",
    "_3hb3.atoms\n",
    "#Check for atoms where the masses could not be guessed. (Not guessed masses are 0)\n",
    "#np.where(_3hb3.atoms.masses==0)[0]\n",
    "#check how to access MN atom\n",
    "mn_3hb3 = _3hb3.select_atoms('resname MN')\n",
    "#how do i change the mass of the Mn atom?"
   ]
  },
  {
   "cell_type": "code",
   "execution_count": null,
   "metadata": {},
   "outputs": [
    {
     "name": "stdout",
     "output_type": "stream",
     "text": [
      "<AtomGroup [<Atom 6186: FE of type FE of resname HEA, resid 559 and segid A and altLoc >, <Atom 6246: FE of type FE of resname HEA, resid 560 and segid A and altLoc >]>\n"
     ]
    }
   ],
   "source": [
    "heme_fe = _3hb3.select_atoms('name FE')\n",
    "print(heme_fe)"
   ]
  },
  {
   "cell_type": "code",
   "execution_count": null,
   "metadata": {},
   "outputs": [
    {
     "name": "stdout",
     "output_type": "stream",
     "text": [
      "<AtomGroup [<Atom 6186: FE of type FE of resname HEA, resid 559 and segid A and altLoc >]> <AtomGroup [<Atom 6246: FE of type FE of resname HEA, resid 560 and segid A and altLoc >]> <AtomGroup []>\n"
     ]
    }
   ],
   "source": [
    "_3hb3_heme_a_fe = _3hb3.select_atoms('name FE and resid 559')\n",
    "_3hb3_heme_a3_fe = _3hb3.select_atoms('name FE and resid 560')\n",
    "_3hb3_mn = _3hb3.select_atoms('name MN')\n",
    "print(_3hb3_heme_a_fe, _3hb3_heme_a3_fe, _3hb3_mn)"
   ]
  },
  {
   "cell_type": "markdown",
   "metadata": {},
   "source": [
    "## 1AR1"
   ]
  },
  {
   "cell_type": "code",
   "execution_count": null,
   "metadata": {},
   "outputs": [],
   "source": [
    "_1ar1 = mda.Universe('x-ray/O-state/1ar1.pdb')"
   ]
  },
  {
   "cell_type": "code",
   "execution_count": null,
   "metadata": {},
   "outputs": [
    {
     "name": "stdout",
     "output_type": "stream",
     "text": [
      "<AtomGroup [<Atom 6163: FE of type FE of resname HEA, resid 562 and segid A and altLoc >, <Atom 6223: FE of type FE of resname HEA, resid 563 and segid A and altLoc >]>\n"
     ]
    }
   ],
   "source": [
    "heme_fe = _1ar1.select_atoms('name FE')\n",
    "print(heme_fe)"
   ]
  },
  {
   "cell_type": "code",
   "execution_count": null,
   "metadata": {},
   "outputs": [
    {
     "name": "stdout",
     "output_type": "stream",
     "text": [
      "<AtomGroup [<Atom 6163: FE of type FE of resname HEA, resid 562 and segid A and altLoc >]> <AtomGroup [<Atom 6223: FE of type FE of resname HEA, resid 563 and segid A and altLoc >]> <AtomGroup [<Atom 6161: MG of type MG of resname MG, resid 560 and segid A and altLoc >]>\n"
     ]
    }
   ],
   "source": [
    "_1ar1_heme_a_fe = _1ar1.select_atoms('name FE and resid 562')\n",
    "_1ar1_heme_a3_fe = _1ar1.select_atoms('name FE and resid 563')\n",
    "_1ar1_mn = _1ar1.select_atoms('name MG')\n",
    "print(_1ar1_heme_a_fe, _1ar1_heme_a3_fe, _1ar1_mn)"
   ]
  },
  {
   "cell_type": "markdown",
   "metadata": {},
   "source": [
    "## 7AU3"
   ]
  },
  {
   "cell_type": "code",
   "execution_count": null,
   "metadata": {},
   "outputs": [],
   "source": [
    "_7au3 = mda.Universe('cEM/F-state/7au3.pdb')\n",
    "#np.where(_7au3.atoms.masses==0)[0]\n",
    "mn_7au3 = _7au3.select_atoms('resname MN')"
   ]
  },
  {
   "cell_type": "markdown",
   "metadata": {},
   "source": [
    "unit cell dimensions placeholder Warning can safely be ignored, \n",
    "since unit cell dimensions specified in the PDB are (1.0,1.0,1.0,90,90,90)"
   ]
  },
  {
   "cell_type": "code",
   "execution_count": null,
   "metadata": {},
   "outputs": [
    {
     "name": "stdout",
     "output_type": "stream",
     "text": [
      "<AtomGroup [<Atom 6218: FE of type FE of resname HEA, resid 602 and segid A and altLoc >, <Atom 6278: FE of type FE of resname HEA, resid 603 and segid A and altLoc >]>\n"
     ]
    }
   ],
   "source": [
    "heme_fe = _7au3.select_atoms('name FE')\n",
    "print(heme_fe)"
   ]
  },
  {
   "cell_type": "code",
   "execution_count": null,
   "metadata": {},
   "outputs": [
    {
     "name": "stdout",
     "output_type": "stream",
     "text": [
      "<AtomGroup [<Atom 6218: FE of type FE of resname HEA, resid 602 and segid A and altLoc >]> <AtomGroup [<Atom 6278: FE of type FE of resname HEA, resid 603 and segid A and altLoc >]> <AtomGroup []>\n"
     ]
    }
   ],
   "source": [
    "_7au3_heme_a_fe = _7au3.select_atoms('name FE and resid 602')\n",
    "_7au3_heme_a3_fe = _7au3.select_atoms('name FE and resid 603')\n",
    "_7au3_mn = _7au3.select_atoms('name MN')\n",
    "print(_7au3_heme_a_fe, _7au3_heme_a3_fe, _7au3_mn)"
   ]
  },
  {
   "cell_type": "markdown",
   "metadata": {},
   "source": [
    "## 7AU6"
   ]
  },
  {
   "cell_type": "code",
   "execution_count": null,
   "metadata": {},
   "outputs": [],
   "source": [
    "_7au6 = mda.Universe('cEM/O-state/7au6.pdb')\n",
    "#np.where(_7au6.atoms.masses==0)[0]\n",
    "#mn_7au6 = _7au6.select_atoms('resname MN')"
   ]
  },
  {
   "cell_type": "code",
   "execution_count": null,
   "metadata": {},
   "outputs": [
    {
     "name": "stdout",
     "output_type": "stream",
     "text": [
      "<AtomGroup [<Atom 6205: FE of type FE of resname HEA, resid 601 and segid A and altLoc >, <Atom 6265: FE of type FE of resname HEA, resid 602 and segid A and altLoc >]>\n"
     ]
    }
   ],
   "source": [
    "heme_fe = _7au6.select_atoms('name FE')\n",
    "print(heme_fe)"
   ]
  },
  {
   "cell_type": "code",
   "execution_count": null,
   "metadata": {},
   "outputs": [
    {
     "name": "stdout",
     "output_type": "stream",
     "text": [
      "<AtomGroup [<Atom 6205: FE of type FE of resname HEA, resid 601 and segid A and altLoc >]> <AtomGroup [<Atom 6265: FE of type FE of resname HEA, resid 602 and segid A and altLoc >]> <AtomGroup []>\n"
     ]
    }
   ],
   "source": [
    "_7au6_heme_a_fe = _7au6.select_atoms('name FE and resid 601')\n",
    "_7au6_heme_a3_fe = _7au6.select_atoms('name FE and resid 602')\n",
    "_7au6_mn = _7au6.select_atoms('name MN')\n",
    "print(_7au6_heme_a_fe, _7au6_heme_a3_fe, _7au6_mn)"
   ]
  },
  {
   "cell_type": "markdown",
   "metadata": {},
   "source": [
    "## 7ATE"
   ]
  },
  {
   "cell_type": "code",
   "execution_count": null,
   "metadata": {},
   "outputs": [],
   "source": [
    "_7ate = mda.Universe('cEM/P-state/7ate.pdb')\n",
    "#np.where(_7ate.atoms.masses==0)[0]\n",
    "#mn_7ate = _7ate.select_atoms('resname MN')"
   ]
  },
  {
   "cell_type": "code",
   "execution_count": null,
   "metadata": {},
   "outputs": [
    {
     "name": "stdout",
     "output_type": "stream",
     "text": [
      "<AtomGroup [<Atom 6226: FE of type FE of resname HEA, resid 602 and segid A and altLoc >, <Atom 6286: FE of type FE of resname HEA, resid 603 and segid A and altLoc >]>\n"
     ]
    }
   ],
   "source": [
    "heme_fe = _7ate.select_atoms('name FE')\n",
    "print(heme_fe)"
   ]
  },
  {
   "cell_type": "code",
   "execution_count": null,
   "metadata": {},
   "outputs": [
    {
     "name": "stdout",
     "output_type": "stream",
     "text": [
      "<AtomGroup [<Atom 6226: FE of type FE of resname HEA, resid 602 and segid A and altLoc >]> <AtomGroup [<Atom 6286: FE of type FE of resname HEA, resid 603 and segid A and altLoc >]> <AtomGroup []>\n"
     ]
    }
   ],
   "source": [
    "_7ate_heme_a_fe = _7ate.select_atoms('name FE and resid 602')\n",
    "_7ate_heme_a3_fe = _7ate.select_atoms('name FE and resid 603')\n",
    "_7ate_mn = _7ate.select_atoms('name MN')\n",
    "print(_7ate_heme_a_fe, _7ate_heme_a3_fe, _7ate_mn)"
   ]
  },
  {
   "cell_type": "markdown",
   "metadata": {},
   "source": [
    "## 7ATN"
   ]
  },
  {
   "cell_type": "code",
   "execution_count": null,
   "metadata": {},
   "outputs": [],
   "source": [
    "_7atn = mda.Universe('cEM/R-state/7atn.pdb')\n",
    "#np.where(_7atn.atoms.masses==0)[0]\n",
    "#mn_7atn = _7atn.select_atoms('resname MN')"
   ]
  },
  {
   "cell_type": "code",
   "execution_count": null,
   "metadata": {},
   "outputs": [
    {
     "name": "stdout",
     "output_type": "stream",
     "text": [
      "<AtomGroup [<Atom 6234: FE of type FE of resname HEA, resid 602 and segid A and altLoc >, <Atom 6296: FE of type FE of resname HEA, resid 605 and segid A and altLoc >]>\n"
     ]
    }
   ],
   "source": [
    "heme_fe = _7atn.select_atoms('name FE')\n",
    "print(heme_fe)"
   ]
  },
  {
   "cell_type": "code",
   "execution_count": null,
   "metadata": {},
   "outputs": [
    {
     "name": "stdout",
     "output_type": "stream",
     "text": [
      "<AtomGroup [<Atom 6234: FE of type FE of resname HEA, resid 602 and segid A and altLoc >]> <AtomGroup []> <AtomGroup []>\n"
     ]
    }
   ],
   "source": [
    "_7atn_heme_a_fe = _7atn.select_atoms('name FE and resid 602')\n",
    "_7atn_heme_a3_fe = _7atn.select_atoms('name FE and resid 603')\n",
    "_7atn_mn = _7atn.select_atoms('name MN')\n",
    "print(_7atn_heme_a_fe, _7atn_heme_a3_fe, _7atn_mn)"
   ]
  },
  {
   "cell_type": "markdown",
   "metadata": {},
   "source": [
    "## Distances"
   ]
  },
  {
   "cell_type": "code",
   "execution_count": null,
   "metadata": {},
   "outputs": [
    {
     "data": {
      "text/plain": [
       "array([13.27784298, 15.89315557,  4.62071264])"
      ]
     },
     "execution_count": 121,
     "metadata": {},
     "output_type": "execute_result"
    }
   ],
   "source": [
    "dist_3hb3 = distances.self_distance_array(_3hb3.select_atoms('name FE or name MN or name CU').positions)\n",
    "dist_3hb3\n",
    "#iron(heme a) - iron(heme a3), iron(heme a) - MN, iron(heme a3) - MN, 270 CU - iron heme a3, 271 Cu - iron heme a3, \n",
    "# Cu 561 - iron heme a, 560 fe - mn, 560 fe 270 cu, 560 fe 271 cu, 561 cu - mn\n",
    "# Cu 561 - 270 Cu, 561 cu - 271 cu, mn - 270 cu, mn - 271 cu, 270 cu - 271 cu"
   ]
  },
  {
   "cell_type": "code",
   "execution_count": null,
   "metadata": {},
   "outputs": [
    {
     "name": "stdout",
     "output_type": "stream",
     "text": [
      "<AtomGroup [<Atom 6186: FE of type FE of resname HEA, resid 559 and segid A and altLoc >, <Atom 6246: FE of type FE of resname HEA, resid 560 and segid A and altLoc >]>\n"
     ]
    }
   ],
   "source": [
    "print(_3hb3.select_atoms('name FE or name MN'))"
   ]
  },
  {
   "cell_type": "markdown",
   "metadata": {},
   "source": [
    "Find out which distance in self_distance_array is which, when selection worded like above"
   ]
  },
  {
   "cell_type": "code",
   "execution_count": null,
   "metadata": {},
   "outputs": [
    {
     "data": {
      "text/plain": [
       "array([], shape=(2, 0), dtype=float64)"
      ]
     },
     "execution_count": 123,
     "metadata": {},
     "output_type": "execute_result"
    }
   ],
   "source": [
    "fe_3hb3 = _3hb3.select_atoms('name FE')\n",
    "mn_3hb3 = _3hb3.select_atoms('name MN')\n",
    "distances.distance_array(fe_3hb3.positions, mn_3hb3.positions, box=_3hb3.dimensions)\n",
    "#distances.distance_array(fe_3hb3.positions, fe_3hb3.positions, box=_3hb3.dimensions)"
   ]
  },
  {
   "cell_type": "code",
   "execution_count": null,
   "metadata": {},
   "outputs": [
    {
     "data": {
      "text/plain": [
       "array(['O', '13.277842982266828', '15.893155574384092',\n",
       "       '4.620712644300235'], dtype='<U32')"
      ]
     },
     "execution_count": 124,
     "metadata": {},
     "output_type": "execute_result"
    }
   ],
   "source": [
    "np.append(np.array('O'), dist_3hb3)"
   ]
  },
  {
   "cell_type": "code",
   "execution_count": null,
   "metadata": {},
   "outputs": [],
   "source": [
    "#iron(heme a) - iron(heme a3), iron(heme a) - MN, iron(heme a3) - MN \n",
    "dist_3hb3 = distances.self_distance_array(_3hb3.select_atoms('name FE or name MN or name CU').positions)\n",
    "dist_3hb3 = np.append(np.array('O'), dist_3hb3)\n",
    "\n",
    "dist_1ar1 = distances.self_distance_array(_1ar1.select_atoms('name FE or name MG or name CU').positions)\n",
    "dist_1ar1 = np.append(np.array('O'), dist_1ar1)\n",
    "\n",
    "dist_7au3 = distances.self_distance_array(_7au3.select_atoms('name FE or name MN or name CU or name CU1 or name CU2').positions)\n",
    "dist_7au3 = np.append(np.array('F'), dist_7au3)\n",
    "\n",
    "dist_7au6 = distances.self_distance_array(_7au6.select_atoms('name FE or name MN or name CU or name CU1 or name CU2').positions)\n",
    "dist_7au6 = np.append(np.array('O'), dist_7au6)\n",
    "\n",
    "dist_7ate = distances.self_distance_array(_7ate.select_atoms('name FE or name MN or name CU or name CU1 or name CU2').positions)\n",
    "dist_7ate = np.append(np.array('P'), dist_7ate)\n",
    "\n",
    "dist_7atn = distances.self_distance_array(_7atn.select_atoms('name FE or name MN or name CU or name CU1 or name CU2').positions)\n",
    "dist_7atn = np.append(np.array('R'), dist_7atn)\n",
    "\n",
    "#print(dist_3hb3, dist_1ar1, dist_7au3, dist_7au6, dist_7ate, dist_7atn)\n"
   ]
  },
  {
   "cell_type": "code",
   "execution_count": null,
   "metadata": {},
   "outputs": [],
   "source": [
    "#dist = pd.DataFrame([dist_3hb3, dist_1ar1, dist_7au3, dist_7au6, dist_7ate, dist_7atn], index=['3HB3', '1AR1', '7AU3', '7AU6', '7ATE', '7ATN'], columns=['state', 'Fe(a) - Fe(a3)', 'Fe(a) - Mn/Mg', 'Fe(a3) - Mn/Mg', 'Cu_A1 - Fe(a3)', 'Cu_A2 - Fe(a3)', 'Cu_B - Fe(a)', 'Fe(a3) - MG/MN', 'Fe(a3) - Cu_A1', 'Fe(a3) - Cu_A2', 'Cu_B - Mn/Mg', 'Cu_B - Cu_A1', 'Cu_B - Cu_A2', 'Mn/Mg - Cu_A2', 'Mn/Mg - Cu_A1', 'Cu_A1 - Cu_A2'])\n",
    "#dist"
   ]
  },
  {
   "cell_type": "code",
   "execution_count": null,
   "metadata": {},
   "outputs": [],
   "source": [
    "#drop unrelevant distances\n",
    "#dist = dist.drop(['Cu_A1 - Fe(a3)', 'Cu_A2 - Fe(a3)', 'Fe(a3) - Cu_A1', 'Fe(a3) - Cu_A2', 'Cu_B - Cu_A1', 'Cu_B - Cu_A2', 'Mn/Mg - Cu_A2', 'Mn/Mg - Cu_A1', 'Cu_A1 - Cu_A2'], axis=1)\n",
    "#dist"
   ]
  },
  {
   "cell_type": "markdown",
   "metadata": {},
   "source": [
    "observe values not matching expectations: \n",
    "Fe(a3) - Mn/Mg: 1AR1\n",
    "Cu_B - Fe(a): 1AR1,7AU3,7ATE\n",
    "Cu_B - Mn/Mg: 7AU3, 7ATE"
   ]
  },
  {
   "cell_type": "markdown",
   "metadata": {},
   "source": [
    "Order determined for 3HB3\n",
    "iron(heme a) - iron(heme a3), iron(heme a) - MN, iron(heme a3) - MN, 270 CU - iron heme a3, 271 Cu - iron heme a3, \n",
    "Cu 561 - iron heme a, 560 fe - mn, 560 fe 270 cu, 560 fe 270 cu, 561 cu - mn\n",
    "Cu 561 - 270 Cu, 561 cu - 271 cu, mn - 270 cu, mn - 271 cu, 270 cu - 271 cu"
   ]
  },
  {
   "cell_type": "code",
   "execution_count": null,
   "metadata": {},
   "outputs": [
    {
     "data": {
      "text/plain": [
       "array(['F', '13.360880458079311', '15.821935298101156',\n",
       "       '19.37285177915332', '21.952174291712055', '4.462446620285363',\n",
       "       '22.134563898575674', '24.23814571967684', '21.91568959331642',\n",
       "       '23.669252353081784', '2.7307145850803436'], dtype='<U32')"
      ]
     },
     "execution_count": 128,
     "metadata": {},
     "output_type": "execute_result"
    }
   ],
   "source": [
    "dist_7au3 = distances.self_distance_array(_7au3.select_atoms('name FE or name MN or name CU or name CU1 or name CU2').positions)\n",
    "dist_7au3 = np.append(np.array('F'), dist_7au3)\n",
    "dist_7au3"
   ]
  },
  {
   "cell_type": "markdown",
   "metadata": {},
   "source": [
    "Rename Copper Atoms in the PDB files, create copies of the original PDBs with the _original.pdb file-ending. Check rename-ing."
   ]
  },
  {
   "cell_type": "code",
   "execution_count": null,
   "metadata": {},
   "outputs": [],
   "source": [
    "_7au3_ = mda.Universe('cEM/F-state/7au3.pdb')\n",
    "CuA_7au3 = _7au3_.select_atoms('resname CUA')\n",
    "CuB_7au3 = _7au3_.select_atoms('resname CUB')"
   ]
  },
  {
   "cell_type": "code",
   "execution_count": null,
   "metadata": {},
   "outputs": [
    {
     "name": "stdout",
     "output_type": "stream",
     "text": [
      "<AtomGroup [<Atom 6343: CU1 of type CU of resname CUA, resid 301 and segid B and altLoc >, <Atom 6344: CU2 of type CU of resname CUA, resid 301 and segid B and altLoc >]>\n"
     ]
    }
   ],
   "source": [
    "print(CuA_7au3)"
   ]
  },
  {
   "cell_type": "code",
   "execution_count": null,
   "metadata": {},
   "outputs": [
    {
     "name": "stdout",
     "output_type": "stream",
     "text": [
      "<AtomGroup [<Atom 6338: CU of type CU of resname CUB, resid 604 and segid A and altLoc >]>\n"
     ]
    }
   ],
   "source": [
    "print(CuB_7au3)"
   ]
  },
  {
   "cell_type": "code",
   "execution_count": null,
   "metadata": {},
   "outputs": [],
   "source": [
    "_7au6_ = mda.Universe('cEM/O-state/7au6.pdb')\n",
    "CuA_7au6 = _7au6_.select_atoms('resname CUA')\n",
    "CuB_7au6 = _7au6_.select_atoms('resname CUB')"
   ]
  },
  {
   "cell_type": "code",
   "execution_count": null,
   "metadata": {},
   "outputs": [
    {
     "name": "stdout",
     "output_type": "stream",
     "text": [
      "<AtomGroup [<Atom 6342: CU1 of type CU of resname CUA, resid 301 and segid B and altLoc >, <Atom 6343: CU2 of type CU of resname CUA, resid 301 and segid B and altLoc >]>\n"
     ]
    }
   ],
   "source": [
    "print(CuA_7au6)"
   ]
  },
  {
   "cell_type": "code",
   "execution_count": null,
   "metadata": {},
   "outputs": [
    {
     "name": "stdout",
     "output_type": "stream",
     "text": [
      "<AtomGroup [<Atom 6325: CU of type CU of resname CUB, resid 603 and segid A and altLoc >]>\n"
     ]
    }
   ],
   "source": [
    "print(CuB_7au6)"
   ]
  },
  {
   "cell_type": "code",
   "execution_count": null,
   "metadata": {},
   "outputs": [],
   "source": [
    "_7ate_ = mda.Universe('cEM/P-state/7ate.pdb')\n",
    "CuA_7ate = _7ate_.select_atoms('resname CUA')\n",
    "CuB_7ate = _7ate_.select_atoms('resname CUB')"
   ]
  },
  {
   "cell_type": "code",
   "execution_count": null,
   "metadata": {},
   "outputs": [
    {
     "name": "stdout",
     "output_type": "stream",
     "text": [
      "<AtomGroup [<Atom 6350: CU1 of type CU of resname CUA, resid 301 and segid B and altLoc >, <Atom 6351: CU2 of type CU of resname CUA, resid 301 and segid B and altLoc >]>\n"
     ]
    }
   ],
   "source": [
    "print(CuA_7ate)"
   ]
  },
  {
   "cell_type": "code",
   "execution_count": null,
   "metadata": {},
   "outputs": [
    {
     "name": "stdout",
     "output_type": "stream",
     "text": [
      "<AtomGroup [<Atom 6346: CU of type CU of resname CUB, resid 604 and segid A and altLoc >]>\n"
     ]
    }
   ],
   "source": [
    "print(CuB_7ate)"
   ]
  },
  {
   "cell_type": "code",
   "execution_count": null,
   "metadata": {},
   "outputs": [],
   "source": [
    "_7atn_ = mda.Universe('cEM/R-state/7atn.pdb')\n",
    "CuA_7atn = _7atn_.select_atoms('resname CUA')\n",
    "CuB_7atn = _7atn_.select_atoms('resname CUB')"
   ]
  },
  {
   "cell_type": "code",
   "execution_count": null,
   "metadata": {},
   "outputs": [
    {
     "name": "stdout",
     "output_type": "stream",
     "text": [
      "<AtomGroup [<Atom 6356: CU1 of type CU of resname CUA, resid 301 and segid B and altLoc >, <Atom 6357: CU2 of type CU of resname CUA, resid 301 and segid B and altLoc >]>\n"
     ]
    }
   ],
   "source": [
    "print(CuA_7atn)"
   ]
  },
  {
   "cell_type": "code",
   "execution_count": null,
   "metadata": {},
   "outputs": [
    {
     "name": "stdout",
     "output_type": "stream",
     "text": [
      "<AtomGroup [<Atom 6294: CU of type CU of resname CUB, resid 603 and segid A and altLoc >]>\n"
     ]
    }
   ],
   "source": [
    "print(CuB_7atn)"
   ]
  },
  {
   "cell_type": "code",
   "execution_count": null,
   "metadata": {},
   "outputs": [],
   "source": [
    "_1ar1_ = mda.Universe('x-ray/O-state/1ar1.pdb')\n",
    "CuA_1ar1 = _1ar1_.select_atoms('resname CUA')\n",
    "CuB_1ar1 = _1ar1_.select_atoms('resname CUB')"
   ]
  },
  {
   "cell_type": "code",
   "execution_count": null,
   "metadata": {},
   "outputs": [
    {
     "name": "stdout",
     "output_type": "stream",
     "text": [
      "<AtomGroup [<Atom 6379: CU1 of type CU of resname CUA, resid 270 and segid B and altLoc >, <Atom 6380: CU2 of type CU of resname CUA, resid 271 and segid B and altLoc >]>\n"
     ]
    }
   ],
   "source": [
    "print(CuA_1ar1)"
   ]
  },
  {
   "cell_type": "code",
   "execution_count": null,
   "metadata": {},
   "outputs": [
    {
     "name": "stdout",
     "output_type": "stream",
     "text": [
      "<AtomGroup [<Atom 6160: CU of type CU of resname CUB, resid 559 and segid A and altLoc >]>\n"
     ]
    }
   ],
   "source": [
    "print(CuB_1ar1)"
   ]
  },
  {
   "cell_type": "code",
   "execution_count": null,
   "metadata": {},
   "outputs": [],
   "source": [
    "_3hb3_ = mda.Universe('x-ray/O-state/3hb3.pdb')\n",
    "CuA_3hb3 = _3hb3_.select_atoms('resname CUA')\n",
    "CuB_3hb3 = _3hb3_.select_atoms('resname CUB')"
   ]
  },
  {
   "cell_type": "code",
   "execution_count": null,
   "metadata": {},
   "outputs": [
    {
     "name": "stdout",
     "output_type": "stream",
     "text": [
      "<AtomGroup [<Atom 6726: CU1 of type CU of resname CUA, resid 270 and segid B and altLoc >, <Atom 6727: CU2 of type CU of resname CUA, resid 271 and segid B and altLoc >]>\n"
     ]
    }
   ],
   "source": [
    "print(CuA_3hb3)"
   ]
  },
  {
   "cell_type": "code",
   "execution_count": null,
   "metadata": {},
   "outputs": [
    {
     "name": "stdout",
     "output_type": "stream",
     "text": [
      "<AtomGroup [<Atom 6306: CU of type CU of resname CUB, resid 561 and segid A and altLoc >]>\n"
     ]
    }
   ],
   "source": [
    "print(CuB_3hb3)"
   ]
  },
  {
   "cell_type": "markdown",
   "metadata": {},
   "source": [
    "According to https://www.ncbi.nlm.nih.gov/pmc/articles/PMC2638054/ the Mn is measured because Mg is not measurable in EPR measurements, and therefore the bacterria is grown on Manganese rich soil because that is measurable with EPR techniques and not affecting function that much."
   ]
  },
  {
   "cell_type": "markdown",
   "metadata": {},
   "source": [
    "\"Rhodobacter sphaeroides grown in a Mn(II)-rich medium replaces the intrinsic Mg(II) ion with an EPR-detectable Mn(II) ion without change in activity. Due to its close proximity and a shared ligand, oxidized CuA is spin-coupled to the Mn(II) ion, affecting the EPR spectrum. An examination of both bovine and R.s. oxidase crystal structures reveals a hydrogen-bonding pattern in the vicinity of the Mg(II) site that is consistent with three water ligands of the Mg(Mn) center when CuA is oxidized.\""
   ]
  },
  {
   "cell_type": "markdown",
   "metadata": {},
   "source": [
    "Therefore, all instances of MN will be changed to MG in the modified PDB files. Reload Files with Mg atoms. "
   ]
  },
  {
   "cell_type": "code",
   "execution_count": null,
   "metadata": {},
   "outputs": [],
   "source": [
    "_3hb3 = mda.Universe('x-ray/O-state/3hb3.pdb')\n",
    "_1ar1 = mda.Universe('x-ray/O-state/1ar1.pdb')\n",
    "_7au3 = mda.Universe('cEM/F-state/7au3.pdb')\n",
    "_7au6 = mda.Universe('cEM/O-state/7au6.pdb')\n",
    "_7ate = mda.Universe('cEM/P-state/7ate.pdb')\n",
    "_7atn = mda.Universe('cEM/R-state/7atn.pdb')"
   ]
  },
  {
   "cell_type": "markdown",
   "metadata": {},
   "source": [
    "Add Dimensions to 7(...) structures, since none are given with the PDB files"
   ]
  },
  {
   "cell_type": "code",
   "execution_count": null,
   "metadata": {},
   "outputs": [
    {
     "data": {
      "text/plain": [
       "65.881996"
      ]
     },
     "execution_count": 148,
     "metadata": {},
     "output_type": "execute_result"
    }
   ],
   "source": [
    "max(_7au3.atoms.positions[:, 0]) - min(_7au3.atoms.positions[:, 0])"
   ]
  },
  {
   "cell_type": "code",
   "execution_count": null,
   "metadata": {},
   "outputs": [
    {
     "data": {
      "application/vnd.jupyter.widget-view+json": {
       "model_id": "73ae5460d1ed47c6a132a74ff37f16a7",
       "version_major": 2,
       "version_minor": 0
      },
      "text/plain": [
       "NGLWidget()"
      ]
     },
     "metadata": {},
     "output_type": "display_data"
    }
   ],
   "source": [
    "_7au3.dimensions=[93.500,151.000,156.700,90.00,90.00,90.00]\n",
    "_7au3.dimensions\n",
    "ngl.show_mdanalysis(_7au3)"
   ]
  },
  {
   "cell_type": "markdown",
   "metadata": {},
   "source": [
    "Warning:"
   ]
  },
  {
   "cell_type": "markdown",
   "metadata": {},
   "source": [
    "/home/pbuser/miniconda3/envs/work/lib/python3.9/site-packages/MDAnalysis/coordinates/PDB.py:429: UserWarning: 1 A^3 CRYST1 record, this is usually a placeholder. Unit cell dimensions will be set to None.\n",
    "  warnings.warn(\"1 A^3 CRYST1 record,\""
   ]
  },
  {
   "cell_type": "markdown",
   "metadata": {},
   "source": [
    "Changing dimensions with MDA does not work properly, so I changed the unit cell dimensions (CRYST1 in the PDB files) to the CRYST1 values of 1AR1, which are very similar to the CRYST1 values of 3HB3. "
   ]
  },
  {
   "cell_type": "code",
   "execution_count": null,
   "metadata": {},
   "outputs": [
    {
     "name": "stderr",
     "output_type": "stream",
     "text": [
      "/home/pbuser/miniconda3/envs/work/lib/python3.9/site-packages/MDAnalysis/topology/PDBParser.py:403: UserWarning: PDB file contained CONECT record to TER entry. These are not included in bonds.\n",
      "  warnings.warn(\n"
     ]
    }
   ],
   "source": [
    "_3hb3 = mda.Universe('x-ray/O-state/3hb3.pdb')\n",
    "_1ar1 = mda.Universe('x-ray/O-state/1ar1.pdb')\n",
    "_7au3 = mda.Universe('cEM/F-state/7au3.pdb')\n",
    "_7au6 = mda.Universe('cEM/O-state/7au6.pdb')\n",
    "_7ate = mda.Universe('cEM/P-state/7ate.pdb')\n",
    "_7atn = mda.Universe('cEM/R-state/7atn.pdb')"
   ]
  },
  {
   "cell_type": "markdown",
   "metadata": {},
   "source": [
    "## Alignment"
   ]
  },
  {
   "cell_type": "markdown",
   "metadata": {},
   "source": [
    "Backbone and C-alpha alignment to check for easily overlooked mistakes"
   ]
  },
  {
   "cell_type": "code",
   "execution_count": null,
   "metadata": {},
   "outputs": [
    {
     "name": "stdout",
     "output_type": "stream",
     "text": [
      "(44.23768490404212, 0.4834316133425554)\n",
      "RMSD in Angstrom: 0.4831399834204646 between structures 3HB3 and 1AR1\n"
     ]
    }
   ],
   "source": [
    "#merged_xray = mda.Merge(_3hb3.atoms, _1ar1.atoms)\n",
    "#nv.show_mdanalysis(merged_xray)\n",
    "_3hb3_1ar1 = align.alignto(_3hb3, _1ar1, select='backbone or name CA', match_atoms=True)\n",
    "print(_3hb3_1ar1)\n",
    "#nv.show_mdanalysis(mda.Merge(_3hb3.atoms, _1ar1.atoms))\n",
    "RMSD = rms.rmsd(_3hb3.select_atoms('backbone').positions, _1ar1.select_atoms('backbone').positions, center=True, superposition=True)\n",
    "print(f'RMSD in Angstrom: {RMSD} between structures 3HB3 and 1AR1')"
   ]
  },
  {
   "cell_type": "code",
   "execution_count": null,
   "metadata": {},
   "outputs": [],
   "source": [
    "#_3hb3_7au3 = align.alignto(_3hb3, _7au3, select='backbone or name CA', match_atoms=True)\n",
    "#print(_3hb3_7au3)\n",
    "#RMSD = rms.rmsd(_3hb3.select_atoms('backbone').positions, _7au3.select_atoms('backbone').positions, center=True, superposition=True)\n",
    "#print(f'RMSD in Angstrom: {RMSD} between structures 3HB3 and 7AU3')"
   ]
  },
  {
   "cell_type": "markdown",
   "metadata": {},
   "source": [
    "Distance between backbone atoms present between x-ray structures and cEM structure need different selection when aligning and comparing"
   ]
  },
  {
   "cell_type": "code",
   "execution_count": null,
   "metadata": {},
   "outputs": [
    {
     "data": {
      "text/plain": [
       "[]"
      ]
     },
     "execution_count": 153,
     "metadata": {},
     "output_type": "execute_result"
    }
   ],
   "source": [
    "_3hb3_resids = _3hb3.select_atoms('backbone or name CA').residues\n",
    "_7au3_resids = _7au3.select_atoms('backbone or name CA').residues\n",
    "diff = list(set(list(_3hb3_resids)).difference(list(_7au3_resids)))\n",
    "diff"
   ]
  },
  {
   "cell_type": "code",
   "execution_count": null,
   "metadata": {},
   "outputs": [
    {
     "data": {
      "text/plain": [
       "[<Residue GLY, 17>,\n",
       " <Residue PHE, 18>,\n",
       " <Residue PHE, 19>,\n",
       " <Residue THR, 20>,\n",
       " <Residue ARG, 21>,\n",
       " <Residue TRP, 22>,\n",
       " <Residue PHE, 23>,\n",
       " <Residue MET, 24>,\n",
       " <Residue SER, 25>,\n",
       " <Residue THR, 26>,\n",
       " <Residue ASN, 27>,\n",
       " <Residue HIS, 28>,\n",
       " <Residue LYS, 29>,\n",
       " <Residue ASP, 30>,\n",
       " <Residue ILE, 31>,\n",
       " <Residue GLY, 32>,\n",
       " <Residue ILE, 33>,\n",
       " <Residue LEU, 34>,\n",
       " <Residue TYR, 35>,\n",
       " <Residue LEU, 36>,\n",
       " <Residue PHE, 37>,\n",
       " <Residue THR, 38>,\n",
       " <Residue ALA, 39>,\n",
       " <Residue GLY, 40>,\n",
       " <Residue ILE, 41>,\n",
       " <Residue VAL, 42>,\n",
       " <Residue GLY, 43>,\n",
       " <Residue LEU, 44>,\n",
       " <Residue ILE, 45>,\n",
       " <Residue SER, 46>,\n",
       " <Residue VAL, 47>,\n",
       " <Residue CYS, 48>,\n",
       " <Residue PHE, 49>,\n",
       " <Residue THR, 50>,\n",
       " <Residue VAL, 51>,\n",
       " <Residue TYR, 52>,\n",
       " <Residue MET, 53>,\n",
       " <Residue ARG, 54>,\n",
       " <Residue MET, 55>,\n",
       " <Residue GLU, 56>,\n",
       " <Residue LEU, 57>,\n",
       " <Residue GLN, 58>,\n",
       " <Residue HIS, 59>,\n",
       " <Residue PRO, 60>,\n",
       " <Residue GLY, 61>,\n",
       " <Residue VAL, 62>,\n",
       " <Residue GLN, 63>,\n",
       " <Residue TYR, 64>,\n",
       " <Residue MET, 65>,\n",
       " <Residue CYS, 66>,\n",
       " <Residue LEU, 67>,\n",
       " <Residue GLU, 68>,\n",
       " <Residue GLY, 69>,\n",
       " <Residue ALA, 70>,\n",
       " <Residue ARG, 71>,\n",
       " <Residue LEU, 72>,\n",
       " <Residue ILE, 73>,\n",
       " <Residue ALA, 74>,\n",
       " <Residue ASP, 75>,\n",
       " <Residue ALA, 76>,\n",
       " <Residue SER, 77>,\n",
       " <Residue ALA, 78>,\n",
       " <Residue GLU, 79>,\n",
       " <Residue CYS, 80>,\n",
       " <Residue THR, 81>,\n",
       " <Residue PRO, 82>,\n",
       " <Residue ASN, 83>,\n",
       " <Residue GLY, 84>,\n",
       " <Residue HIS, 85>,\n",
       " <Residue LEU, 86>,\n",
       " <Residue TRP, 87>,\n",
       " <Residue ASN, 88>,\n",
       " <Residue VAL, 89>,\n",
       " <Residue MET, 90>,\n",
       " <Residue ILE, 91>,\n",
       " <Residue THR, 92>,\n",
       " <Residue TYR, 93>,\n",
       " <Residue HIS, 94>,\n",
       " <Residue GLY, 95>,\n",
       " <Residue VAL, 96>,\n",
       " <Residue LEU, 97>,\n",
       " <Residue MET, 98>,\n",
       " <Residue MET, 99>,\n",
       " <Residue PHE, 100>,\n",
       " <Residue PHE, 101>,\n",
       " <Residue VAL, 102>,\n",
       " <Residue VAL, 103>,\n",
       " <Residue ILE, 104>,\n",
       " <Residue PRO, 105>,\n",
       " <Residue ALA, 106>,\n",
       " <Residue LEU, 107>,\n",
       " <Residue PHE, 108>,\n",
       " <Residue GLY, 109>,\n",
       " <Residue GLY, 110>,\n",
       " <Residue PHE, 111>,\n",
       " <Residue GLY, 112>,\n",
       " <Residue ASN, 113>,\n",
       " <Residue TYR, 114>,\n",
       " <Residue PHE, 115>,\n",
       " <Residue MET, 116>,\n",
       " <Residue PRO, 117>,\n",
       " <Residue LEU, 118>,\n",
       " <Residue HIS, 119>,\n",
       " <Residue ILE, 120>,\n",
       " <Residue GLY, 121>,\n",
       " <Residue ALA, 122>,\n",
       " <Residue PRO, 123>,\n",
       " <Residue ASP, 124>,\n",
       " <Residue MET, 125>,\n",
       " <Residue ALA, 126>,\n",
       " <Residue PHE, 127>,\n",
       " <Residue PRO, 128>,\n",
       " <Residue ARG, 129>,\n",
       " <Residue LEU, 130>,\n",
       " <Residue ASN, 131>,\n",
       " <Residue ASN, 132>,\n",
       " <Residue LEU, 133>,\n",
       " <Residue SER, 134>,\n",
       " <Residue TYR, 135>,\n",
       " <Residue TRP, 136>,\n",
       " <Residue MET, 137>,\n",
       " <Residue TYR, 138>,\n",
       " <Residue VAL, 139>,\n",
       " <Residue CYS, 140>,\n",
       " <Residue GLY, 141>,\n",
       " <Residue VAL, 142>,\n",
       " <Residue ALA, 143>,\n",
       " <Residue LEU, 144>,\n",
       " <Residue GLY, 145>,\n",
       " <Residue VAL, 146>,\n",
       " <Residue ALA, 147>,\n",
       " <Residue SER, 148>,\n",
       " <Residue LEU, 149>,\n",
       " <Residue LEU, 150>,\n",
       " <Residue ALA, 151>,\n",
       " <Residue PRO, 152>,\n",
       " <Residue GLY, 153>,\n",
       " <Residue GLY, 154>,\n",
       " <Residue ASN, 155>,\n",
       " <Residue ASP, 156>,\n",
       " <Residue GLN, 157>,\n",
       " <Residue MET, 158>,\n",
       " <Residue GLY, 159>,\n",
       " <Residue SER, 160>,\n",
       " <Residue GLY, 161>,\n",
       " <Residue VAL, 162>,\n",
       " <Residue GLY, 163>,\n",
       " <Residue TRP, 164>,\n",
       " <Residue VAL, 165>,\n",
       " <Residue LEU, 166>,\n",
       " <Residue TYR, 167>,\n",
       " <Residue PRO, 168>,\n",
       " <Residue PRO, 169>,\n",
       " <Residue LEU, 170>,\n",
       " <Residue SER, 171>,\n",
       " <Residue THR, 172>,\n",
       " <Residue THR, 173>,\n",
       " <Residue GLU, 174>,\n",
       " <Residue ALA, 175>,\n",
       " <Residue GLY, 176>,\n",
       " <Residue TYR, 177>,\n",
       " <Residue SER, 178>,\n",
       " <Residue MET, 179>,\n",
       " <Residue ASP, 180>,\n",
       " <Residue LEU, 181>,\n",
       " <Residue ALA, 182>,\n",
       " <Residue ILE, 183>,\n",
       " <Residue PHE, 184>,\n",
       " <Residue ALA, 185>,\n",
       " <Residue VAL, 186>,\n",
       " <Residue HIS, 187>,\n",
       " <Residue VAL, 188>,\n",
       " <Residue SER, 189>,\n",
       " <Residue GLY, 190>,\n",
       " <Residue ALA, 191>,\n",
       " <Residue SER, 192>,\n",
       " <Residue SER, 193>,\n",
       " <Residue ILE, 194>,\n",
       " <Residue LEU, 195>,\n",
       " <Residue GLY, 196>,\n",
       " <Residue ALA, 197>,\n",
       " <Residue ILE, 198>,\n",
       " <Residue ASN, 199>,\n",
       " <Residue ILE, 200>,\n",
       " <Residue ILE, 201>,\n",
       " <Residue THR, 202>,\n",
       " <Residue THR, 203>,\n",
       " <Residue PHE, 204>,\n",
       " <Residue LEU, 205>,\n",
       " <Residue ASN, 206>,\n",
       " <Residue MET, 207>,\n",
       " <Residue ARG, 208>,\n",
       " <Residue ALA, 209>,\n",
       " <Residue PRO, 210>,\n",
       " <Residue GLY, 211>,\n",
       " <Residue MET, 212>,\n",
       " <Residue THR, 213>,\n",
       " <Residue LEU, 214>,\n",
       " <Residue PHE, 215>,\n",
       " <Residue LYS, 216>,\n",
       " <Residue VAL, 217>,\n",
       " <Residue PRO, 218>,\n",
       " <Residue LEU, 219>,\n",
       " <Residue PHE, 220>,\n",
       " <Residue ALA, 221>,\n",
       " <Residue TRP, 222>,\n",
       " <Residue SER, 223>,\n",
       " <Residue VAL, 224>,\n",
       " <Residue PHE, 225>,\n",
       " <Residue ILE, 226>,\n",
       " <Residue THR, 227>,\n",
       " <Residue ALA, 228>,\n",
       " <Residue TRP, 229>,\n",
       " <Residue LEU, 230>,\n",
       " <Residue ILE, 231>,\n",
       " <Residue LEU, 232>,\n",
       " <Residue LEU, 233>,\n",
       " <Residue SER, 234>,\n",
       " <Residue LEU, 235>,\n",
       " <Residue PRO, 236>,\n",
       " <Residue VAL, 237>,\n",
       " <Residue LEU, 238>,\n",
       " <Residue ALA, 239>,\n",
       " <Residue GLY, 240>,\n",
       " <Residue ALA, 241>,\n",
       " <Residue ILE, 242>,\n",
       " <Residue THR, 243>,\n",
       " <Residue MET, 244>,\n",
       " <Residue LEU, 245>,\n",
       " <Residue LEU, 246>,\n",
       " <Residue MET, 247>,\n",
       " <Residue ASP, 248>,\n",
       " <Residue ARG, 249>,\n",
       " <Residue ASN, 250>,\n",
       " <Residue PHE, 251>,\n",
       " <Residue GLY, 252>,\n",
       " <Residue THR, 253>,\n",
       " <Residue GLN, 254>,\n",
       " <Residue PHE, 255>,\n",
       " <Residue PHE, 256>,\n",
       " <Residue ASP, 257>,\n",
       " <Residue PRO, 258>,\n",
       " <Residue ALA, 259>,\n",
       " <Residue GLY, 260>,\n",
       " <Residue GLY, 261>,\n",
       " <Residue GLY, 262>,\n",
       " <Residue ASP, 263>,\n",
       " <Residue PRO, 264>,\n",
       " <Residue VAL, 265>,\n",
       " <Residue LEU, 266>,\n",
       " <Residue TYR, 267>,\n",
       " <Residue GLN, 268>,\n",
       " <Residue HIS, 269>,\n",
       " <Residue ILE, 270>,\n",
       " <Residue LEU, 271>,\n",
       " <Residue TRP, 272>,\n",
       " <Residue PHE, 273>,\n",
       " <Residue PHE, 274>,\n",
       " <Residue GLY, 275>,\n",
       " <Residue HIS, 276>,\n",
       " <Residue PRO, 277>,\n",
       " <Residue GLU, 278>,\n",
       " <Residue VAL, 279>,\n",
       " <Residue TYR, 280>,\n",
       " <Residue ILE, 281>,\n",
       " <Residue ILE, 282>,\n",
       " <Residue ILE, 283>,\n",
       " <Residue LEU, 284>,\n",
       " <Residue PRO, 285>,\n",
       " <Residue GLY, 286>,\n",
       " <Residue PHE, 287>,\n",
       " <Residue GLY, 288>,\n",
       " <Residue ILE, 289>,\n",
       " <Residue ILE, 290>,\n",
       " <Residue SER, 291>,\n",
       " <Residue HIS, 292>,\n",
       " <Residue VAL, 293>,\n",
       " <Residue ILE, 294>,\n",
       " <Residue SER, 295>,\n",
       " <Residue THR, 296>,\n",
       " <Residue PHE, 297>,\n",
       " <Residue ALA, 298>,\n",
       " <Residue LYS, 299>,\n",
       " <Residue LYS, 300>,\n",
       " <Residue PRO, 301>,\n",
       " <Residue ILE, 302>,\n",
       " <Residue PHE, 303>,\n",
       " <Residue GLY, 304>,\n",
       " <Residue TYR, 305>,\n",
       " <Residue LEU, 306>,\n",
       " <Residue PRO, 307>,\n",
       " <Residue MET, 308>,\n",
       " <Residue VAL, 309>,\n",
       " <Residue LEU, 310>,\n",
       " <Residue ALA, 311>,\n",
       " <Residue MET, 312>,\n",
       " <Residue ALA, 313>,\n",
       " <Residue ALA, 314>,\n",
       " <Residue ILE, 315>,\n",
       " <Residue GLY, 316>,\n",
       " <Residue ILE, 317>,\n",
       " <Residue LEU, 318>,\n",
       " <Residue GLY, 319>,\n",
       " <Residue PHE, 320>,\n",
       " <Residue VAL, 321>,\n",
       " <Residue VAL, 322>,\n",
       " <Residue TRP, 323>,\n",
       " <Residue ALA, 324>,\n",
       " <Residue HIS, 325>,\n",
       " <Residue HIS, 326>,\n",
       " <Residue MET, 327>,\n",
       " <Residue TYR, 328>,\n",
       " <Residue THR, 329>,\n",
       " <Residue ALA, 330>,\n",
       " <Residue GLY, 331>,\n",
       " <Residue MET, 332>,\n",
       " <Residue SER, 333>,\n",
       " <Residue LEU, 334>,\n",
       " <Residue THR, 335>,\n",
       " <Residue GLN, 336>,\n",
       " <Residue GLN, 337>,\n",
       " <Residue ALA, 338>,\n",
       " <Residue TYR, 339>,\n",
       " <Residue PHE, 340>,\n",
       " <Residue MET, 341>,\n",
       " <Residue LEU, 342>,\n",
       " <Residue ALA, 343>,\n",
       " <Residue THR, 344>,\n",
       " <Residue MET, 345>,\n",
       " <Residue THR, 346>,\n",
       " <Residue ILE, 347>,\n",
       " <Residue ALA, 348>,\n",
       " <Residue VAL, 349>,\n",
       " <Residue PRO, 350>,\n",
       " <Residue THR, 351>,\n",
       " <Residue GLY, 352>,\n",
       " <Residue ILE, 353>,\n",
       " <Residue LYS, 354>,\n",
       " <Residue VAL, 355>,\n",
       " <Residue PHE, 356>,\n",
       " <Residue SER, 357>,\n",
       " <Residue TRP, 358>,\n",
       " <Residue ILE, 359>,\n",
       " <Residue ALA, 360>,\n",
       " <Residue THR, 361>,\n",
       " <Residue MET, 362>,\n",
       " <Residue TRP, 363>,\n",
       " <Residue GLY, 364>,\n",
       " <Residue GLY, 365>,\n",
       " <Residue SER, 366>,\n",
       " <Residue ILE, 367>,\n",
       " <Residue GLU, 368>,\n",
       " <Residue PHE, 369>,\n",
       " <Residue LYS, 370>,\n",
       " <Residue THR, 371>,\n",
       " <Residue PRO, 372>,\n",
       " <Residue MET, 373>,\n",
       " <Residue LEU, 374>,\n",
       " <Residue TRP, 375>,\n",
       " <Residue ALA, 376>,\n",
       " <Residue PHE, 377>,\n",
       " <Residue GLY, 378>,\n",
       " <Residue PHE, 379>,\n",
       " <Residue LEU, 380>,\n",
       " <Residue PHE, 381>,\n",
       " <Residue LEU, 382>,\n",
       " <Residue PHE, 383>,\n",
       " <Residue THR, 384>,\n",
       " <Residue VAL, 385>,\n",
       " <Residue GLY, 386>,\n",
       " <Residue GLY, 387>,\n",
       " <Residue VAL, 388>,\n",
       " <Residue THR, 389>,\n",
       " <Residue GLY, 390>,\n",
       " <Residue VAL, 391>,\n",
       " <Residue VAL, 392>,\n",
       " <Residue LEU, 393>,\n",
       " <Residue SER, 394>,\n",
       " <Residue GLN, 395>,\n",
       " <Residue ALA, 396>,\n",
       " <Residue PRO, 397>,\n",
       " <Residue LEU, 398>,\n",
       " <Residue ASP, 399>,\n",
       " <Residue ARG, 400>,\n",
       " <Residue VAL, 401>,\n",
       " <Residue TYR, 402>,\n",
       " <Residue HIS, 403>,\n",
       " <Residue ASP, 404>,\n",
       " <Residue THR, 405>,\n",
       " <Residue TYR, 406>,\n",
       " <Residue TYR, 407>,\n",
       " <Residue VAL, 408>,\n",
       " <Residue VAL, 409>,\n",
       " <Residue ALA, 410>,\n",
       " <Residue HIS, 411>,\n",
       " <Residue PHE, 412>,\n",
       " <Residue HIS, 413>,\n",
       " <Residue TYR, 414>,\n",
       " <Residue VAL, 415>,\n",
       " <Residue MET, 416>,\n",
       " <Residue SER, 417>,\n",
       " <Residue LEU, 418>,\n",
       " <Residue GLY, 419>,\n",
       " <Residue ALA, 420>,\n",
       " <Residue VAL, 421>,\n",
       " <Residue PHE, 422>,\n",
       " <Residue GLY, 423>,\n",
       " <Residue ILE, 424>,\n",
       " <Residue PHE, 425>,\n",
       " <Residue ALA, 426>,\n",
       " <Residue GLY, 427>,\n",
       " <Residue VAL, 428>,\n",
       " <Residue TYR, 429>,\n",
       " <Residue TYR, 430>,\n",
       " <Residue TRP, 431>,\n",
       " <Residue ILE, 432>,\n",
       " <Residue GLY, 433>,\n",
       " <Residue LYS, 434>,\n",
       " <Residue MET, 435>,\n",
       " <Residue SER, 436>,\n",
       " <Residue GLY, 437>,\n",
       " <Residue ARG, 438>,\n",
       " <Residue GLN, 439>,\n",
       " <Residue TYR, 440>,\n",
       " <Residue PRO, 441>,\n",
       " <Residue GLU, 442>,\n",
       " <Residue TRP, 443>,\n",
       " <Residue ALA, 444>,\n",
       " <Residue GLY, 445>,\n",
       " <Residue GLN, 446>,\n",
       " <Residue LEU, 447>,\n",
       " <Residue HIS, 448>,\n",
       " <Residue PHE, 449>,\n",
       " <Residue TRP, 450>,\n",
       " <Residue MET, 451>,\n",
       " <Residue MET, 452>,\n",
       " <Residue PHE, 453>,\n",
       " <Residue ILE, 454>,\n",
       " <Residue GLY, 455>,\n",
       " <Residue SER, 456>,\n",
       " <Residue ASN, 457>,\n",
       " <Residue LEU, 458>,\n",
       " <Residue ILE, 459>,\n",
       " <Residue PHE, 460>,\n",
       " <Residue PHE, 461>,\n",
       " <Residue PRO, 462>,\n",
       " <Residue GLN, 463>,\n",
       " <Residue HIS, 464>,\n",
       " <Residue PHE, 465>,\n",
       " <Residue LEU, 466>,\n",
       " <Residue GLY, 467>,\n",
       " <Residue ARG, 468>,\n",
       " <Residue GLN, 469>,\n",
       " <Residue GLY, 470>,\n",
       " <Residue MET, 471>,\n",
       " <Residue PRO, 472>,\n",
       " <Residue ARG, 473>,\n",
       " <Residue ARG, 474>,\n",
       " <Residue TYR, 475>,\n",
       " <Residue ILE, 476>,\n",
       " <Residue ASP, 477>,\n",
       " <Residue TYR, 478>,\n",
       " <Residue PRO, 479>,\n",
       " <Residue VAL, 480>,\n",
       " <Residue GLU, 481>,\n",
       " <Residue PHE, 482>,\n",
       " <Residue ALA, 483>,\n",
       " <Residue TYR, 484>,\n",
       " <Residue TRP, 485>,\n",
       " <Residue ASN, 486>,\n",
       " <Residue ASN, 487>,\n",
       " <Residue ILE, 488>,\n",
       " <Residue SER, 489>,\n",
       " <Residue SER, 490>,\n",
       " <Residue ILE, 491>,\n",
       " <Residue GLY, 492>,\n",
       " <Residue ALA, 493>,\n",
       " <Residue TYR, 494>,\n",
       " <Residue ILE, 495>,\n",
       " <Residue SER, 496>,\n",
       " <Residue PHE, 497>,\n",
       " <Residue ALA, 498>,\n",
       " <Residue SER, 499>,\n",
       " <Residue PHE, 500>,\n",
       " <Residue LEU, 501>,\n",
       " <Residue PHE, 502>,\n",
       " <Residue PHE, 503>,\n",
       " <Residue ILE, 504>,\n",
       " <Residue GLY, 505>,\n",
       " <Residue ILE, 506>,\n",
       " <Residue VAL, 507>,\n",
       " <Residue PHE, 508>,\n",
       " <Residue TYR, 509>,\n",
       " <Residue THR, 510>,\n",
       " <Residue LEU, 511>,\n",
       " <Residue PHE, 512>,\n",
       " <Residue ALA, 513>,\n",
       " <Residue GLY, 514>,\n",
       " <Residue LYS, 515>,\n",
       " <Residue ARG, 516>,\n",
       " <Residue VAL, 517>,\n",
       " <Residue ASN, 518>,\n",
       " <Residue VAL, 519>,\n",
       " <Residue PRO, 520>,\n",
       " <Residue ASN, 521>,\n",
       " <Residue TYR, 522>,\n",
       " <Residue TRP, 523>,\n",
       " <Residue ASN, 524>,\n",
       " <Residue GLU, 525>,\n",
       " <Residue HIS, 526>,\n",
       " <Residue ALA, 527>,\n",
       " <Residue ASP, 528>,\n",
       " <Residue THR, 529>,\n",
       " <Residue LEU, 530>,\n",
       " <Residue GLU, 531>,\n",
       " <Residue TRP, 532>,\n",
       " <Residue THR, 533>,\n",
       " <Residue LEU, 534>,\n",
       " <Residue PRO, 535>,\n",
       " <Residue SER, 536>,\n",
       " <Residue PRO, 537>,\n",
       " <Residue PRO, 538>,\n",
       " <Residue PRO, 539>,\n",
       " <Residue GLU, 540>,\n",
       " <Residue HIS, 541>,\n",
       " <Residue THR, 542>,\n",
       " <Residue PHE, 543>,\n",
       " <Residue GLU, 544>,\n",
       " <Residue THR, 545>,\n",
       " <Residue GLN, 1>,\n",
       " <Residue ASP, 2>,\n",
       " <Residue VAL, 3>,\n",
       " <Residue LEU, 4>,\n",
       " <Residue GLY, 5>,\n",
       " <Residue ASP, 6>,\n",
       " <Residue LEU, 7>,\n",
       " <Residue PRO, 8>,\n",
       " <Residue VAL, 9>,\n",
       " <Residue ILE, 10>,\n",
       " <Residue GLY, 11>,\n",
       " <Residue LYS, 12>,\n",
       " <Residue PRO, 13>,\n",
       " <Residue VAL, 14>,\n",
       " <Residue ASN, 15>,\n",
       " <Residue GLY, 16>,\n",
       " <Residue GLY, 17>,\n",
       " <Residue MET, 18>,\n",
       " <Residue ASN, 19>,\n",
       " <Residue PHE, 20>,\n",
       " <Residue GLN, 21>,\n",
       " <Residue PRO, 22>,\n",
       " <Residue ALA, 23>,\n",
       " <Residue SER, 24>,\n",
       " <Residue SER, 25>,\n",
       " <Residue PRO, 26>,\n",
       " <Residue LEU, 27>,\n",
       " <Residue ALA, 28>,\n",
       " <Residue HIS, 29>,\n",
       " <Residue ASP, 30>,\n",
       " <Residue GLN, 31>,\n",
       " <Residue GLN, 32>,\n",
       " <Residue TRP, 33>,\n",
       " <Residue LEU, 34>,\n",
       " <Residue ASP, 35>,\n",
       " <Residue HIS, 36>,\n",
       " <Residue PHE, 37>,\n",
       " <Residue VAL, 38>,\n",
       " <Residue LEU, 39>,\n",
       " <Residue TYR, 40>,\n",
       " <Residue ILE, 41>,\n",
       " <Residue ILE, 42>,\n",
       " <Residue THR, 43>,\n",
       " <Residue ALA, 44>,\n",
       " <Residue VAL, 45>,\n",
       " <Residue THR, 46>,\n",
       " <Residue ILE, 47>,\n",
       " <Residue PHE, 48>,\n",
       " <Residue VAL, 49>,\n",
       " <Residue CYS, 50>,\n",
       " <Residue LEU, 51>,\n",
       " <Residue LEU, 52>,\n",
       " <Residue LEU, 53>,\n",
       " <Residue LEU, 54>,\n",
       " <Residue ILE, 55>,\n",
       " <Residue CYS, 56>,\n",
       " <Residue ILE, 57>,\n",
       " <Residue VAL, 58>,\n",
       " <Residue ARG, 59>,\n",
       " <Residue PHE, 60>,\n",
       " <Residue ASN, 61>,\n",
       " <Residue ARG, 62>,\n",
       " <Residue ARG, 63>,\n",
       " <Residue ALA, 64>,\n",
       " <Residue ASN, 65>,\n",
       " <Residue PRO, 66>,\n",
       " <Residue VAL, 67>,\n",
       " <Residue PRO, 68>,\n",
       " <Residue ALA, 69>,\n",
       " <Residue ARG, 70>,\n",
       " <Residue PHE, 71>,\n",
       " <Residue THR, 72>,\n",
       " <Residue HIS, 73>,\n",
       " <Residue ASN, 74>,\n",
       " <Residue THR, 75>,\n",
       " <Residue PRO, 76>,\n",
       " <Residue ILE, 77>,\n",
       " <Residue GLU, 78>,\n",
       " <Residue VAL, 79>,\n",
       " <Residue ILE, 80>,\n",
       " <Residue TRP, 81>,\n",
       " <Residue THR, 82>,\n",
       " <Residue LEU, 83>,\n",
       " <Residue VAL, 84>,\n",
       " <Residue PRO, 85>,\n",
       " <Residue VAL, 86>,\n",
       " <Residue LEU, 87>,\n",
       " <Residue ILE, 88>,\n",
       " <Residue LEU, 89>,\n",
       " <Residue VAL, 90>,\n",
       " <Residue ALA, 91>,\n",
       " <Residue ILE, 92>,\n",
       " <Residue GLY, 93>,\n",
       " <Residue ALA, 94>,\n",
       " <Residue PHE, 95>,\n",
       " <Residue SER, 96>,\n",
       " <Residue LEU, 97>,\n",
       " <Residue PRO, 98>,\n",
       " <Residue ILE, 99>,\n",
       " <Residue LEU, 100>,\n",
       " <Residue PHE, 101>,\n",
       " <Residue ARG, 102>,\n",
       " <Residue SER, 103>,\n",
       " <Residue GLN, 104>,\n",
       " <Residue GLU, 105>,\n",
       " <Residue MET, 106>,\n",
       " <Residue PRO, 107>,\n",
       " <Residue ASN, 108>,\n",
       " <Residue ASP, 109>,\n",
       " <Residue PRO, 110>,\n",
       " <Residue ASP, 111>,\n",
       " <Residue LEU, 112>,\n",
       " <Residue VAL, 113>,\n",
       " <Residue ILE, 114>,\n",
       " <Residue LYS, 115>,\n",
       " <Residue ALA, 116>,\n",
       " <Residue ILE, 117>,\n",
       " <Residue GLY, 118>,\n",
       " <Residue HIS, 119>,\n",
       " <Residue GLN, 120>,\n",
       " <Residue TRP, 121>,\n",
       " <Residue TYR, 122>,\n",
       " <Residue TRP, 123>,\n",
       " <Residue SER, 124>,\n",
       " <Residue TYR, 125>,\n",
       " <Residue GLU, 126>,\n",
       " <Residue TYR, 127>,\n",
       " <Residue PRO, 128>,\n",
       " <Residue ASN, 129>,\n",
       " <Residue ASP, 130>,\n",
       " <Residue GLY, 131>,\n",
       " <Residue VAL, 132>,\n",
       " <Residue ALA, 133>,\n",
       " <Residue PHE, 134>,\n",
       " <Residue ASP, 135>,\n",
       " <Residue ALA, 136>,\n",
       " <Residue LEU, 137>,\n",
       " <Residue MET, 138>,\n",
       " <Residue LEU, 139>,\n",
       " <Residue GLU, 140>,\n",
       " <Residue LYS, 141>,\n",
       " <Residue GLU, 142>,\n",
       " <Residue ALA, 143>,\n",
       " <Residue LEU, 144>,\n",
       " <Residue ALA, 145>,\n",
       " <Residue ASP, 146>,\n",
       " <Residue ALA, 147>,\n",
       " <Residue GLY, 148>,\n",
       " <Residue TYR, 149>,\n",
       " <Residue SER, 150>,\n",
       " <Residue GLU, 151>,\n",
       " <Residue ASP, 152>,\n",
       " <Residue GLU, 153>,\n",
       " <Residue TYR, 154>,\n",
       " <Residue LEU, 155>,\n",
       " <Residue LEU, 156>,\n",
       " <Residue ALA, 157>,\n",
       " <Residue THR, 158>,\n",
       " <Residue ASP, 159>,\n",
       " <Residue ASN, 160>,\n",
       " <Residue PRO, 161>,\n",
       " <Residue VAL, 162>,\n",
       " <Residue VAL, 163>,\n",
       " <Residue VAL, 164>,\n",
       " <Residue PRO, 165>,\n",
       " <Residue VAL, 166>,\n",
       " <Residue GLY, 167>,\n",
       " <Residue LYS, 168>,\n",
       " <Residue LYS, 169>,\n",
       " <Residue VAL, 170>,\n",
       " <Residue LEU, 171>,\n",
       " <Residue VAL, 172>,\n",
       " <Residue GLN, 173>,\n",
       " <Residue VAL, 174>,\n",
       " <Residue THR, 175>,\n",
       " <Residue ALA, 176>,\n",
       " <Residue THR, 177>,\n",
       " <Residue ASP, 178>,\n",
       " <Residue VAL, 179>,\n",
       " <Residue ILE, 180>,\n",
       " <Residue HIS, 181>,\n",
       " <Residue ALA, 182>,\n",
       " <Residue TRP, 183>,\n",
       " <Residue THR, 184>,\n",
       " <Residue ILE, 185>,\n",
       " <Residue PRO, 186>,\n",
       " <Residue ALA, 187>,\n",
       " <Residue PHE, 188>,\n",
       " <Residue ALA, 189>,\n",
       " <Residue VAL, 190>,\n",
       " <Residue LYS, 191>,\n",
       " <Residue GLN, 192>,\n",
       " <Residue ASP, 193>,\n",
       " <Residue ALA, 194>,\n",
       " <Residue VAL, 195>,\n",
       " <Residue PRO, 196>,\n",
       " <Residue GLY, 197>,\n",
       " <Residue ARG, 198>,\n",
       " <Residue ILE, 199>,\n",
       " <Residue ALA, 200>,\n",
       " <Residue GLN, 201>,\n",
       " <Residue LEU, 202>,\n",
       " <Residue TRP, 203>,\n",
       " <Residue PHE, 204>,\n",
       " <Residue SER, 205>,\n",
       " <Residue VAL, 206>,\n",
       " <Residue ASP, 207>,\n",
       " <Residue GLN, 208>,\n",
       " <Residue GLU, 209>,\n",
       " <Residue GLY, 210>,\n",
       " <Residue VAL, 211>,\n",
       " <Residue TYR, 212>,\n",
       " <Residue PHE, 213>,\n",
       " <Residue GLY, 214>,\n",
       " <Residue GLN, 215>,\n",
       " <Residue CYS, 216>,\n",
       " <Residue SER, 217>,\n",
       " <Residue GLU, 218>,\n",
       " <Residue LEU, 219>,\n",
       " <Residue CYS, 220>,\n",
       " <Residue GLY, 221>,\n",
       " <Residue ILE, 222>,\n",
       " <Residue ASN, 223>,\n",
       " <Residue HIS, 224>,\n",
       " <Residue ALA, 225>,\n",
       " <Residue TYR, 226>,\n",
       " <Residue MET, 227>,\n",
       " <Residue PRO, 228>,\n",
       " <Residue ILE, 229>,\n",
       " <Residue VAL, 230>,\n",
       " <Residue VAL, 231>,\n",
       " <Residue LYS, 232>,\n",
       " <Residue ALA, 233>,\n",
       " <Residue VAL, 234>,\n",
       " <Residue SER, 235>,\n",
       " <Residue GLN, 236>,\n",
       " <Residue GLU, 237>,\n",
       " <Residue LYS, 238>,\n",
       " <Residue TYR, 239>,\n",
       " <Residue GLU, 240>,\n",
       " <Residue ALA, 241>,\n",
       " <Residue TRP, 242>,\n",
       " <Residue LEU, 243>,\n",
       " <Residue ALA, 244>,\n",
       " <Residue GLY, 245>,\n",
       " <Residue ALA, 246>,\n",
       " <Residue LYS, 247>,\n",
       " <Residue GLU, 248>,\n",
       " <Residue GLU, 249>,\n",
       " <Residue PHE, 250>,\n",
       " <Residue ALA, 251>,\n",
       " <Residue ALA, 252>,\n",
       " <Residue CA, 563>]"
      ]
     },
     "execution_count": 154,
     "metadata": {},
     "output_type": "execute_result"
    }
   ],
   "source": [
    "_3hb3_resids = _3hb3.select_atoms('backbone or name CA').residues\n",
    "list(_3hb3_resids)"
   ]
  },
  {
   "cell_type": "markdown",
   "metadata": {},
   "source": [
    "Comparing structures does not work because comparing lists of Residue objects does not work with regular pythonic ways. Therefore, the structures will be changed in a way, that chain names are more clear, and can be accessed more easily and less error prone. "
   ]
  },
  {
   "cell_type": "markdown",
   "metadata": {},
   "source": [
    "PDB Format:"
   ]
  },
  {
   "cell_type": "markdown",
   "metadata": {},
   "source": [
    "1 -  6         Record name   \"ATOM  \""
   ]
  },
  {
   "cell_type": "markdown",
   "metadata": {},
   "source": [
    "7 - 11         Integer       serial       Atom  serial number.\n"
   ]
  },
  {
   "cell_type": "markdown",
   "metadata": {},
   "source": [
    "13 - 16        Atom          name         Atom name.\n"
   ]
  },
  {
   "cell_type": "markdown",
   "metadata": {},
   "source": [
    "17             Character     altLoc       Alternate location indicator.\n"
   ]
  },
  {
   "cell_type": "markdown",
   "metadata": {},
   "source": [
    "18 - 20        Residue name  resName      Residue name.\n"
   ]
  },
  {
   "cell_type": "markdown",
   "metadata": {},
   "source": [
    "22             Character     chainID      Chain identifier.\n"
   ]
  },
  {
   "cell_type": "markdown",
   "metadata": {},
   "source": [
    "23 - 26        Integer       resSeq       Residue sequence number.\n"
   ]
  },
  {
   "cell_type": "markdown",
   "metadata": {},
   "source": [
    "27             AChar         iCode        Code for insertion of residues.\n"
   ]
  },
  {
   "cell_type": "markdown",
   "metadata": {},
   "source": [
    "31 - 38        Real(8.3)     x            Orthogonal coordinates for X in Angstroms.\n"
   ]
  },
  {
   "cell_type": "markdown",
   "metadata": {},
   "source": [
    "39 - 46        Real(8.3)     y            Orthogonal coordinates for Y in Angstroms.\n"
   ]
  },
  {
   "cell_type": "markdown",
   "metadata": {},
   "source": [
    "47 - 54        Real(8.3)     z            Orthogonal coordinates for Z in Angstroms.\n"
   ]
  },
  {
   "cell_type": "markdown",
   "metadata": {},
   "source": [
    "55 - 60        Real(6.2)     occupancy    Occupancy.\n"
   ]
  },
  {
   "cell_type": "markdown",
   "metadata": {},
   "source": [
    "61 - 66        Real(6.2)     tempFactor   Temperature  factor.\n"
   ]
  },
  {
   "cell_type": "markdown",
   "metadata": {},
   "source": [
    "77 - 78        LString(2)    element      Element symbol, right-justified.\n"
   ]
  },
  {
   "cell_type": "markdown",
   "metadata": {},
   "source": [
    "79 - 80        LString(2)    charge       Charge  on the atom.\n"
   ]
  },
  {
   "cell_type": "markdown",
   "metadata": {},
   "source": [
    "Using library pdb-tools to edit PDB files. "
   ]
  },
  {
   "cell_type": "code",
   "execution_count": null,
   "metadata": {},
   "outputs": [],
   "source": [
    "from pdbtools import pdb_wc\n",
    "from pdbtools import pdb_delchain"
   ]
  },
  {
   "cell_type": "code",
   "execution_count": null,
   "metadata": {},
   "outputs": [
    {
     "data": {
      "text/plain": [
       "<module 'pdbtools.pdb_delchain' from '/home/pbuser/Desktop/PhD_WORK/MD_WORK/cco_structures/ParacoccusDenitrificans/pdbtools/pdb_delchain.py'>"
      ]
     },
     "execution_count": 156,
     "metadata": {},
     "output_type": "execute_result"
    }
   ],
   "source": [
    "pdb_delchain"
   ]
  },
  {
   "cell_type": "markdown",
   "metadata": {},
   "source": [
    "Syntax for use inside python programs not given in the program overview, or the github overview, so here it is:"
   ]
  },
  {
   "cell_type": "markdown",
   "metadata": {},
   "source": [
    "Syntax: info = function.checkinput(pdb-file)"
   ]
  },
  {
   "cell_type": "markdown",
   "metadata": {},
   "source": [
    "Syntax: variable = function.run(pdb-file, option='m')"
   ]
  },
  {
   "cell_type": "markdown",
   "metadata": {},
   "source": [
    "Example Syntax: info = pdb_wc.checkinput('x-ray/O-state/1ar1.pdb')"
   ]
  },
  {
   "cell_type": "markdown",
   "metadata": {},
   "source": [
    "Example Syntax: info = pdb_wc.run('x-ray/O-state/1ar1.pdb', option='m')"
   ]
  },
  {
   "cell_type": "code",
   "execution_count": null,
   "metadata": {},
   "outputs": [],
   "source": [
    "#_7au3_new = pdb_delchain.check_input('cEM/F-state/7au3.pdb')#, ('C','D'))"
   ]
  },
  {
   "cell_type": "code",
   "execution_count": null,
   "metadata": {},
   "outputs": [],
   "source": [
    "#print(_7au3_new)"
   ]
  },
  {
   "cell_type": "markdown",
   "metadata": {},
   "source": [
    "Since many functions from pdb-tools do not work inside a jupyter notebook, we compile a bash script that does the analyis for us and then execute the bash file that calls on all the python files. The package has to be in a subdirectory of the folder where execution happens though. "
   ]
  },
  {
   "cell_type": "markdown",
   "metadata": {},
   "source": [
    "In the PDB files we are deleting chains C and D if present, and in the HETATM section there are the \"resname PGV\" section. This does not belong to the regular active parts of chains A and B. So removing everything labeled as chain C or D is fine. "
   ]
  },
  {
   "cell_type": "code",
   "execution_count": null,
   "metadata": {},
   "outputs": [],
   "source": [
    "os.system('bash pdbtools.sh');"
   ]
  },
  {
   "cell_type": "markdown",
   "metadata": {},
   "source": [
    "Original PDBs have the unnecessary (non-active) chains removed (C,D chain) as well as all HETATMs belonging to those. Header and other information that might cluster the files are also removed. PDB files are now created that show conserved reisudes that were observed in the different experiments and states. Next: find out which are the differences between the structures? Load all the structures again but with biopython so that we can access the structures as list elements, and use bioinformatics tools for structure comparison. "
   ]
  },
  {
   "cell_type": "code",
   "execution_count": null,
   "metadata": {},
   "outputs": [],
   "source": [
    "#parser = pdbparser(PERMISSIVE=1)\n",
    "#structure_id_3hb3 = \"3hb3\"\n",
    "#_3hb3 = parser.get_structure(structure_id_3hb3, file='x-ray/O-state/3hb3.pdb')\n",
    "#structure_id_1ar1 = \"1ar1\"\n",
    "#_1ar1 = parser.get_structure(structure_id_1ar1, file='x-ray/O-state/1ar1.pdb')\n",
    "#structure_id_7au3 = \"7au3\"\n",
    "#_7au3 = parser.get_structure(structure_id_7au3, file='cEM/F-state/7au3.pdb')\n",
    "#structure_id_7au6 = \"7au6\"\n",
    "#_7au6 = parser.get_structure(structure_id_7au6, file='cEM/O-state/7au6.pdb')\n",
    "#structure_id_7ate = \"7ate\"\n",
    "#_7ate = parser.get_structure(structure_id_7ate, file='cEM/P-state/7ate.pdb')\n",
    "#structure_id_7atn = \"7atn\"\n",
    "#_7atn = parser.get_structure(structure_id_7atn, file='cEM/R-state/7atn.pdb')\n"
   ]
  },
  {
   "cell_type": "markdown",
   "metadata": {},
   "source": [
    "Warnings about discontinuous Chains are printed at the import, looking into the PDB file shows that line 6188 is the heme a iron atom, line 6728 is the CuA atom, line 7071 is water and line 7229 is water. All of these happen at the change of chains, because the PDB file is sorted with higher priority to the difference between protein atoms, hetatms, and waters than keeping the atoms inside the chains together. So warnings can be ignored without further cause to worry. Output collapsed."
   ]
  },
  {
   "cell_type": "markdown",
   "metadata": {},
   "source": [
    "Biopython does not do what I expected it to do, so now trying to do the comparison with MDAnalysis. "
   ]
  },
  {
   "cell_type": "code",
   "execution_count": null,
   "metadata": {},
   "outputs": [
    {
     "name": "stdout",
     "output_type": "stream",
     "text": [
      "(0.48343161285948183, 0.4834316128555406)\n",
      "RMSD in Angstrom: 0.4831399836645055 between structures 3HB3 and 1AR1\n"
     ]
    }
   ],
   "source": [
    "_3hb3_1ar1 = align.alignto(_3hb3, _1ar1, select='backbone or name CA', match_atoms=True)\n",
    "print(_3hb3_1ar1)\n",
    "#nv.show_mdanalysis(mda.Merge(_3hb3.atoms, _1ar1.atoms))\n",
    "RMSD = rms.rmsd(_3hb3.select_atoms('backbone').positions, _1ar1.select_atoms('backbone').positions, center=True, superposition=True)\n",
    "print(f'RMSD in Angstrom: {RMSD} between structures 3HB3 and 1AR1')"
   ]
  },
  {
   "cell_type": "code",
   "execution_count": null,
   "metadata": {},
   "outputs": [],
   "source": [
    "#_7au3_7au6 = align.alignto(_7au3, _7au6, select='backbone or name CA', match_atoms=True)\n",
    "#print(_7au3_7au6)\n",
    "#RMSD = rms.rmsd()"
   ]
  },
  {
   "cell_type": "code",
   "execution_count": null,
   "metadata": {},
   "outputs": [
    {
     "data": {
      "text/plain": [
       "256"
      ]
     },
     "execution_count": 164,
     "metadata": {},
     "output_type": "execute_result"
    }
   ],
   "source": [
    "os.system('diff x-ray/O-state/3hb3.pdb x-ray/O-state/1ar1.pdb > x-ray.pdb')"
   ]
  },
  {
   "cell_type": "code",
   "execution_count": null,
   "metadata": {},
   "outputs": [],
   "source": [
    "BNC_3hb3 = _3hb3.select_atoms('resname HEA or resname CUB or resid 278 or resid 280 and not resname HOH and not resname LMT')\n",
    "BNC_1ar1 = _1ar1.select_atoms('resname HEA or resname CUB or resid 278 or resid 280 and not resname HOH and not resname LMT')\n",
    "BNC_7au3 = _7au3.select_atoms('resname HEA or resname CUB or resid 278 or resid 280 and not resname HOH and not resname LMT')\n",
    "BNC_7au6 = _7au6.select_atoms('resname HEA or resname CUB or resid 278 or resid 280 and not resname HOH and not resname LMT')\n",
    "BNC_7ate = _7ate.select_atoms('resname HEA or resname CUB or resid 278 or resid 280 and not resname HOH and not resname LMT')\n",
    "BNC_7atn = _7atn.select_atoms('resname HEA or resname CUB or resid 278 or resid 280 and not resname HOH and not resname LMT')"
   ]
  },
  {
   "cell_type": "code",
   "execution_count": null,
   "metadata": {},
   "outputs": [],
   "source": [
    "BNC_3hb3.write('BNC_3hb3.pdb')"
   ]
  },
  {
   "cell_type": "code",
   "execution_count": null,
   "metadata": {},
   "outputs": [],
   "source": [
    "BNC_1ar1.write('BNC_1ar1.pdb')"
   ]
  },
  {
   "cell_type": "code",
   "execution_count": null,
   "metadata": {},
   "outputs": [],
   "source": [
    "BNC_7ate.write('BNC_7ate.pdb')"
   ]
  },
  {
   "cell_type": "code",
   "execution_count": null,
   "metadata": {},
   "outputs": [],
   "source": [
    "BNC_7atn.write('BNC_7atn.pdb')"
   ]
  },
  {
   "cell_type": "code",
   "execution_count": null,
   "metadata": {},
   "outputs": [],
   "source": [
    "BNC_7au3.write('BNC_7au3.pdb')"
   ]
  },
  {
   "cell_type": "code",
   "execution_count": null,
   "metadata": {},
   "outputs": [],
   "source": [
    "BNC_7au6.write('BNC_7au6.pdb')"
   ]
  },
  {
   "cell_type": "code",
   "execution_count": null,
   "metadata": {},
   "outputs": [],
   "source": [
    "#BNC_xray = align.alignto(BNC_3hb3, BNC_1ar1, match_atoms=True)\n",
    "#RMSD = rms.rmsd(BNC_3hb3.positions, BNC_1ar1.positions, center=True, superposition=True)\n",
    "#print(f'RMSD in Angstrom between structures 3HB3 and 1AR1 BNC: {RMSD}')"
   ]
  },
  {
   "cell_type": "markdown",
   "metadata": {},
   "source": [
    "Since there is an error in calculating the RMSD of the BNCs when using MDA regarding atom masses differentiating more than 0.1, I use VMD to calculate the RMSDs"
   ]
  },
  {
   "cell_type": "code",
   "execution_count": null,
   "metadata": {},
   "outputs": [],
   "source": [
    "RMSD_dict = {_7au3:[0.0, 0.373, 0.297, 0.275, ],\n",
    "    _7au6:[],\n",
    "    _7ate:[],\n",
    "    _7atn:[],\n",
    "    _1ar1:[],\n",
    "    _3hb3:[]\n",
    "}\n",
    "RMSD = pd.DataFrame(RMSD_dict)"
   ]
  },
  {
   "cell_type": "code",
   "execution_count": null,
   "metadata": {},
   "outputs": [],
   "source": []
  }
 ],
 "metadata": {
  "interpreter": {
   "hash": "2140ed94d7e985123a1a7c2e7e16e6e539e040772859bef8d97bb297edf06d90"
  },
  "kernelspec": {
   "display_name": "Python 3.9.7 64-bit ('work': conda)",
   "language": "python",
   "name": "python3"
  },
  "language_info": {
   "codemirror_mode": {
    "name": "ipython",
    "version": 3
   },
   "file_extension": ".py",
   "mimetype": "text/x-python",
   "name": "python",
   "nbconvert_exporter": "python",
   "pygments_lexer": "ipython3",
   "version": "3.9.7"
  },
  "orig_nbformat": 4
 },
 "nbformat": 4,
 "nbformat_minor": 2
}
