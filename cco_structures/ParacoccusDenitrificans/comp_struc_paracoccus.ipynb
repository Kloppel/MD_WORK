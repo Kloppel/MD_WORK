{
 "cells": [
  {
   "cell_type": "code",
   "execution_count": 342,
   "metadata": {},
   "outputs": [],
   "source": [
    "import numpy as np\n",
    "import pandas as pd\n",
    "import matplotlib.pyplot as plt \n",
    "import seaborn as sns\n",
    "import MDAnalysis as mda \n",
    "import MDAnalysisTests as mdt \n",
    "import nglview as nv \n",
    "from MDAnalysis.analysis import rms \n",
    "from MDAnalysis.analysis import align \n",
    "from MDAnalysis.analysis import distances \n",
    "import pdbtools as pdb "
   ]
  },
  {
   "cell_type": "markdown",
   "metadata": {},
   "source": [
    "## 3HB3"
   ]
  },
  {
   "cell_type": "code",
   "execution_count": 260,
   "metadata": {},
   "outputs": [
    {
     "name": "stderr",
     "output_type": "stream",
     "text": [
      "/home/pbuser/miniconda3/envs/work/lib/python3.9/site-packages/MDAnalysis/topology/guessers.py:146: UserWarning: Failed to guess the mass for the following atom types: MN\n",
      "  warnings.warn(\"Failed to guess the mass for the following atom types: {}\".format(atom_type))\n"
     ]
    }
   ],
   "source": [
    "_3hb3 = mda.Universe('x-ray/O-state/3hb3.pdb')\n",
    "_3hb3.atoms\n",
    "#Check for atoms where the masses could not be guessed. (Not guessed masses are 0)\n",
    "#np.where(_3hb3.atoms.masses==0)[0]\n",
    "#check how to access MN atom\n",
    "mn_3hb3 = _3hb3.select_atoms('resname MN')\n",
    "#how do i change the mass of the Mn atom?"
   ]
  },
  {
   "cell_type": "code",
   "execution_count": 261,
   "metadata": {},
   "outputs": [
    {
     "name": "stdout",
     "output_type": "stream",
     "text": [
      "<AtomGroup [<Atom 7957: FE of type FE of resname HEA, resid 559 and segid A and altLoc >, <Atom 8017: FE of type FE of resname HEA, resid 560 and segid A and altLoc >]>\n"
     ]
    }
   ],
   "source": [
    "heme_fe = _3hb3.select_atoms('name FE')\n",
    "print(heme_fe)"
   ]
  },
  {
   "cell_type": "code",
   "execution_count": 262,
   "metadata": {},
   "outputs": [
    {
     "name": "stdout",
     "output_type": "stream",
     "text": [
      "<AtomGroup [<Atom 7957: FE of type FE of resname HEA, resid 559 and segid A and altLoc >]> <AtomGroup [<Atom 8017: FE of type FE of resname HEA, resid 560 and segid A and altLoc >]> <AtomGroup [<Atom 8078: MN of type MN of resname MN, resid 562 and segid A and altLoc >]>\n"
     ]
    }
   ],
   "source": [
    "_3hb3_heme_a_fe = _3hb3.select_atoms('name FE and resid 559')\n",
    "_3hb3_heme_a3_fe = _3hb3.select_atoms('name FE and resid 560')\n",
    "_3hb3_mn = _3hb3.select_atoms('name MN')\n",
    "print(_3hb3_heme_a_fe, _3hb3_heme_a3_fe, _3hb3_mn)"
   ]
  },
  {
   "cell_type": "markdown",
   "metadata": {},
   "source": [
    "## 1AR1"
   ]
  },
  {
   "cell_type": "code",
   "execution_count": 263,
   "metadata": {},
   "outputs": [],
   "source": [
    "_1ar1 = mda.Universe('x-ray/O-state/1ar1.pdb')"
   ]
  },
  {
   "cell_type": "code",
   "execution_count": 264,
   "metadata": {},
   "outputs": [
    {
     "name": "stdout",
     "output_type": "stream",
     "text": [
      "<AtomGroup [<Atom 7926: FE of type FE of resname HEA, resid 562 and segid A and altLoc >, <Atom 7986: FE of type FE of resname HEA, resid 563 and segid A and altLoc >]>\n"
     ]
    }
   ],
   "source": [
    "heme_fe = _1ar1.select_atoms('name FE')\n",
    "print(heme_fe)"
   ]
  },
  {
   "cell_type": "code",
   "execution_count": 265,
   "metadata": {},
   "outputs": [
    {
     "name": "stdout",
     "output_type": "stream",
     "text": [
      "<AtomGroup [<Atom 7926: FE of type FE of resname HEA, resid 562 and segid A and altLoc >]> <AtomGroup [<Atom 7986: FE of type FE of resname HEA, resid 563 and segid A and altLoc >]> <AtomGroup [<Atom 7924: MG of type MG of resname MG, resid 560 and segid A and altLoc >]>\n"
     ]
    }
   ],
   "source": [
    "_1ar1_heme_a_fe = _1ar1.select_atoms('name FE and resid 562')\n",
    "_1ar1_heme_a3_fe = _1ar1.select_atoms('name FE and resid 563')\n",
    "_1ar1_mn = _1ar1.select_atoms('name MG')\n",
    "print(_1ar1_heme_a_fe, _1ar1_heme_a3_fe, _1ar1_mn)"
   ]
  },
  {
   "cell_type": "markdown",
   "metadata": {},
   "source": [
    "## 7AU3"
   ]
  },
  {
   "cell_type": "code",
   "execution_count": 266,
   "metadata": {},
   "outputs": [
    {
     "name": "stderr",
     "output_type": "stream",
     "text": [
      "/home/pbuser/miniconda3/envs/work/lib/python3.9/site-packages/MDAnalysis/coordinates/PDB.py:429: UserWarning: 1 A^3 CRYST1 record, this is usually a placeholder. Unit cell dimensions will be set to None.\n",
      "  warnings.warn(\"1 A^3 CRYST1 record,\"\n"
     ]
    }
   ],
   "source": [
    "_7au3 = mda.Universe('cEM/F-state/7au3.pdb')\n",
    "#np.where(_7au3.atoms.masses==0)[0]\n",
    "mn_7au3 = _7au3.select_atoms('resname MN')"
   ]
  },
  {
   "cell_type": "markdown",
   "metadata": {},
   "source": [
    "unit cell dimensions placeholder Warning can safely be ignored, \n",
    "since unit cell dimensions specified in the PDB are (1.0,1.0,1.0,90,90,90)"
   ]
  },
  {
   "cell_type": "code",
   "execution_count": 267,
   "metadata": {},
   "outputs": [
    {
     "name": "stdout",
     "output_type": "stream",
     "text": [
      "<AtomGroup [<Atom 8673: FE of type FE of resname HEA, resid 602 and segid A and altLoc >, <Atom 8733: FE of type FE of resname HEA, resid 603 and segid A and altLoc >]>\n"
     ]
    }
   ],
   "source": [
    "heme_fe = _7au3.select_atoms('name FE')\n",
    "print(heme_fe)"
   ]
  },
  {
   "cell_type": "code",
   "execution_count": 268,
   "metadata": {},
   "outputs": [
    {
     "name": "stdout",
     "output_type": "stream",
     "text": [
      "<AtomGroup [<Atom 8673: FE of type FE of resname HEA, resid 602 and segid A and altLoc >]> <AtomGroup [<Atom 8733: FE of type FE of resname HEA, resid 603 and segid A and altLoc >]> <AtomGroup [<Atom 8672: MN of type MN of resname MN, resid 601 and segid A and altLoc >]>\n"
     ]
    }
   ],
   "source": [
    "_7au3_heme_a_fe = _7au3.select_atoms('name FE and resid 602')\n",
    "_7au3_heme_a3_fe = _7au3.select_atoms('name FE and resid 603')\n",
    "_7au3_mn = _7au3.select_atoms('name MN')\n",
    "print(_7au3_heme_a_fe, _7au3_heme_a3_fe, _7au3_mn)"
   ]
  },
  {
   "cell_type": "markdown",
   "metadata": {},
   "source": [
    "## 7AU6"
   ]
  },
  {
   "cell_type": "code",
   "execution_count": 269,
   "metadata": {},
   "outputs": [],
   "source": [
    "_7au6 = mda.Universe('cEM/O-state/7au6.pdb')\n",
    "#np.where(_7au6.atoms.masses==0)[0]\n",
    "#mn_7au6 = _7au6.select_atoms('resname MN')"
   ]
  },
  {
   "cell_type": "code",
   "execution_count": 270,
   "metadata": {},
   "outputs": [
    {
     "name": "stdout",
     "output_type": "stream",
     "text": [
      "<AtomGroup [<Atom 8643: FE of type FE of resname HEA, resid 601 and segid A and altLoc >, <Atom 8703: FE of type FE of resname HEA, resid 602 and segid A and altLoc >]>\n"
     ]
    }
   ],
   "source": [
    "heme_fe = _7au6.select_atoms('name FE')\n",
    "print(heme_fe)"
   ]
  },
  {
   "cell_type": "code",
   "execution_count": 271,
   "metadata": {},
   "outputs": [
    {
     "name": "stdout",
     "output_type": "stream",
     "text": [
      "<AtomGroup [<Atom 8643: FE of type FE of resname HEA, resid 601 and segid A and altLoc >]> <AtomGroup [<Atom 8703: FE of type FE of resname HEA, resid 602 and segid A and altLoc >]> <AtomGroup [<Atom 8779: MN of type MN of resname MN, resid 612 and segid A and altLoc >]>\n"
     ]
    }
   ],
   "source": [
    "_7au6_heme_a_fe = _7au6.select_atoms('name FE and resid 601')\n",
    "_7au6_heme_a3_fe = _7au6.select_atoms('name FE and resid 602')\n",
    "_7au6_mn = _7au6.select_atoms('name MN')\n",
    "print(_7au6_heme_a_fe, _7au6_heme_a3_fe, _7au6_mn)"
   ]
  },
  {
   "cell_type": "markdown",
   "metadata": {},
   "source": [
    "## 7ATE"
   ]
  },
  {
   "cell_type": "code",
   "execution_count": 272,
   "metadata": {},
   "outputs": [],
   "source": [
    "_7ate = mda.Universe('cEM/P-state/7ate.pdb')\n",
    "#np.where(_7ate.atoms.masses==0)[0]\n",
    "#mn_7ate = _7ate.select_atoms('resname MN')"
   ]
  },
  {
   "cell_type": "code",
   "execution_count": 273,
   "metadata": {},
   "outputs": [
    {
     "name": "stdout",
     "output_type": "stream",
     "text": [
      "<AtomGroup [<Atom 8693: FE of type FE of resname HEA, resid 602 and segid A and altLoc >, <Atom 8753: FE of type FE of resname HEA, resid 603 and segid A and altLoc >]>\n"
     ]
    }
   ],
   "source": [
    "heme_fe = _7ate.select_atoms('name FE')\n",
    "print(heme_fe)"
   ]
  },
  {
   "cell_type": "code",
   "execution_count": 274,
   "metadata": {},
   "outputs": [
    {
     "name": "stdout",
     "output_type": "stream",
     "text": [
      "<AtomGroup [<Atom 8693: FE of type FE of resname HEA, resid 602 and segid A and altLoc >]> <AtomGroup [<Atom 8753: FE of type FE of resname HEA, resid 603 and segid A and altLoc >]> <AtomGroup [<Atom 8692: MN of type MN of resname MN, resid 601 and segid A and altLoc >]>\n"
     ]
    }
   ],
   "source": [
    "_7ate_heme_a_fe = _7ate.select_atoms('name FE and resid 602')\n",
    "_7ate_heme_a3_fe = _7ate.select_atoms('name FE and resid 603')\n",
    "_7ate_mn = _7ate.select_atoms('name MN')\n",
    "print(_7ate_heme_a_fe, _7ate_heme_a3_fe, _7ate_mn)"
   ]
  },
  {
   "cell_type": "markdown",
   "metadata": {},
   "source": [
    "## 7ATN"
   ]
  },
  {
   "cell_type": "code",
   "execution_count": 275,
   "metadata": {},
   "outputs": [],
   "source": [
    "_7atn = mda.Universe('cEM/R-state/7atn.pdb')\n",
    "#np.where(_7atn.atoms.masses==0)[0]\n",
    "#mn_7atn = _7atn.select_atoms('resname MN')"
   ]
  },
  {
   "cell_type": "code",
   "execution_count": 276,
   "metadata": {},
   "outputs": [
    {
     "name": "stdout",
     "output_type": "stream",
     "text": [
      "<AtomGroup [<Atom 8691: FE of type FE of resname HEA, resid 602 and segid A and altLoc >, <Atom 8753: FE of type FE of resname HEA, resid 605 and segid A and altLoc >]>\n"
     ]
    }
   ],
   "source": [
    "heme_fe = _7atn.select_atoms('name FE')\n",
    "print(heme_fe)"
   ]
  },
  {
   "cell_type": "code",
   "execution_count": 277,
   "metadata": {},
   "outputs": [
    {
     "name": "stdout",
     "output_type": "stream",
     "text": [
      "<AtomGroup [<Atom 8691: FE of type FE of resname HEA, resid 602 and segid A and altLoc >]> <AtomGroup []> <AtomGroup [<Atom 8690: MN of type MN of resname MN, resid 601 and segid A and altLoc >]>\n"
     ]
    }
   ],
   "source": [
    "_7atn_heme_a_fe = _7atn.select_atoms('name FE and resid 602')\n",
    "_7atn_heme_a3_fe = _7atn.select_atoms('name FE and resid 603')\n",
    "_7atn_mn = _7atn.select_atoms('name MN')\n",
    "print(_7atn_heme_a_fe, _7atn_heme_a3_fe, _7atn_mn)"
   ]
  },
  {
   "cell_type": "markdown",
   "metadata": {},
   "source": [
    "## Distances"
   ]
  },
  {
   "cell_type": "code",
   "execution_count": 278,
   "metadata": {},
   "outputs": [
    {
     "data": {
      "text/plain": [
       "array([13.27784298, 15.89315557, 17.05671864,  4.62071264, 14.11816285,\n",
       "       13.19991472])"
      ]
     },
     "execution_count": 278,
     "metadata": {},
     "output_type": "execute_result"
    }
   ],
   "source": [
    "dist_3hb3 = distances.self_distance_array(_3hb3.select_atoms('name FE or name MN or name CU').positions)\n",
    "dist_3hb3\n",
    "#iron(heme a) - iron(heme a3), iron(heme a) - MN, iron(heme a3) - MN, 270 CU - iron heme a3, 271 Cu - iron heme a3, \n",
    "# Cu 561 - iron heme a, 560 fe - mn, 560 fe 270 cu, 560 fe 271 cu, 561 cu - mn\n",
    "# Cu 561 - 270 Cu, 561 cu - 271 cu, mn - 270 cu, mn - 271 cu, 270 cu - 271 cu"
   ]
  },
  {
   "cell_type": "code",
   "execution_count": 279,
   "metadata": {},
   "outputs": [
    {
     "name": "stdout",
     "output_type": "stream",
     "text": [
      "<AtomGroup [<Atom 7957: FE of type FE of resname HEA, resid 559 and segid A and altLoc >, <Atom 8017: FE of type FE of resname HEA, resid 560 and segid A and altLoc >, <Atom 8078: MN of type MN of resname MN, resid 562 and segid A and altLoc >]>\n"
     ]
    }
   ],
   "source": [
    "print(_3hb3.select_atoms('name FE or name MN'))"
   ]
  },
  {
   "cell_type": "markdown",
   "metadata": {},
   "source": [
    "Find out which distance in self_distance_array is which, when selection worded like above"
   ]
  },
  {
   "cell_type": "code",
   "execution_count": 280,
   "metadata": {},
   "outputs": [
    {
     "data": {
      "text/plain": [
       "array([[17.05671836],\n",
       "       [14.11816283]])"
      ]
     },
     "execution_count": 280,
     "metadata": {},
     "output_type": "execute_result"
    }
   ],
   "source": [
    "fe_3hb3 = _3hb3.select_atoms('name FE')\n",
    "mn_3hb3 = _3hb3.select_atoms('name MN')\n",
    "distances.distance_array(fe_3hb3.positions, mn_3hb3.positions, box=_3hb3.dimensions)\n",
    "#distances.distance_array(fe_3hb3.positions, fe_3hb3.positions, box=_3hb3.dimensions)"
   ]
  },
  {
   "cell_type": "code",
   "execution_count": 281,
   "metadata": {},
   "outputs": [
    {
     "data": {
      "text/plain": [
       "array(['O', '13.277842982266828', '15.893155574384092',\n",
       "       '17.056718639586112', '4.620712644300235', '14.11816284634431',\n",
       "       '13.199914724918884'], dtype='<U32')"
      ]
     },
     "execution_count": 281,
     "metadata": {},
     "output_type": "execute_result"
    }
   ],
   "source": [
    "np.append(np.array('O'), dist_3hb3)"
   ]
  },
  {
   "cell_type": "code",
   "execution_count": 282,
   "metadata": {},
   "outputs": [],
   "source": [
    "#iron(heme a) - iron(heme a3), iron(heme a) - MN, iron(heme a3) - MN \n",
    "dist_3hb3 = distances.self_distance_array(_3hb3.select_atoms('name FE or name MN or name CU').positions)\n",
    "dist_3hb3 = np.append(np.array('O'), dist_3hb3)\n",
    "\n",
    "dist_1ar1 = distances.self_distance_array(_1ar1.select_atoms('name FE or name MG or name CU').positions)\n",
    "dist_1ar1 = np.append(np.array('O'), dist_1ar1)\n",
    "\n",
    "dist_7au3 = distances.self_distance_array(_7au3.select_atoms('name FE or name MN or name CU or name CU1 or name CU2').positions)\n",
    "dist_7au3 = np.append(np.array('F'), dist_7au3)\n",
    "\n",
    "dist_7au6 = distances.self_distance_array(_7au6.select_atoms('name FE or name MN or name CU or name CU1 or name CU2').positions)\n",
    "dist_7au6 = np.append(np.array('O'), dist_7au6)\n",
    "\n",
    "dist_7ate = distances.self_distance_array(_7ate.select_atoms('name FE or name MN or name CU or name CU1 or name CU2').positions)\n",
    "dist_7ate = np.append(np.array('P'), dist_7ate)\n",
    "\n",
    "dist_7atn = distances.self_distance_array(_7atn.select_atoms('name FE or name MN or name CU or name CU1 or name CU2').positions)\n",
    "dist_7atn = np.append(np.array('R'), dist_7atn)\n",
    "\n",
    "#print(dist_3hb3, dist_1ar1, dist_7au3, dist_7au6, dist_7ate, dist_7atn)\n"
   ]
  },
  {
   "cell_type": "code",
   "execution_count": 283,
   "metadata": {},
   "outputs": [
    {
     "data": {
      "text/html": [
       "<div>\n",
       "<style scoped>\n",
       "    .dataframe tbody tr th:only-of-type {\n",
       "        vertical-align: middle;\n",
       "    }\n",
       "\n",
       "    .dataframe tbody tr th {\n",
       "        vertical-align: top;\n",
       "    }\n",
       "\n",
       "    .dataframe thead th {\n",
       "        text-align: right;\n",
       "    }\n",
       "</style>\n",
       "<table border=\"1\" class=\"dataframe\">\n",
       "  <thead>\n",
       "    <tr style=\"text-align: right;\">\n",
       "      <th></th>\n",
       "      <th>state</th>\n",
       "      <th>Fe(a) - Fe(a3)</th>\n",
       "      <th>Fe(a) - Mn/Mg</th>\n",
       "      <th>Fe(a3) - Mn/Mg</th>\n",
       "      <th>Cu_A1 - Fe(a3)</th>\n",
       "      <th>Cu_A2 - Fe(a3)</th>\n",
       "      <th>Cu_B - Fe(a)</th>\n",
       "      <th>Fe(a3) - MG/MN</th>\n",
       "      <th>Fe(a3) - Cu_A1</th>\n",
       "      <th>Fe(a3) - Cu_A2</th>\n",
       "      <th>Cu_B - Mn/Mg</th>\n",
       "      <th>Cu_B - Cu_A1</th>\n",
       "      <th>Cu_B - Cu_A2</th>\n",
       "      <th>Mn/Mg - Cu_A2</th>\n",
       "      <th>Mn/Mg - Cu_A1</th>\n",
       "      <th>Cu_A1 - Cu_A2</th>\n",
       "    </tr>\n",
       "  </thead>\n",
       "  <tbody>\n",
       "    <tr>\n",
       "      <th>3HB3</th>\n",
       "      <td>O</td>\n",
       "      <td>13.277842982266828</td>\n",
       "      <td>15.893155574384092</td>\n",
       "      <td>17.056718639586112</td>\n",
       "      <td>4.620712644300235</td>\n",
       "      <td>14.11816284634431</td>\n",
       "      <td>13.199914724918884</td>\n",
       "      <td>None</td>\n",
       "      <td>None</td>\n",
       "      <td>None</td>\n",
       "      <td>None</td>\n",
       "      <td>None</td>\n",
       "      <td>None</td>\n",
       "      <td>None</td>\n",
       "      <td>None</td>\n",
       "      <td>None</td>\n",
       "    </tr>\n",
       "    <tr>\n",
       "      <th>1AR1</th>\n",
       "      <td>O</td>\n",
       "      <td>13.473607189592569</td>\n",
       "      <td>15.338440392860019</td>\n",
       "      <td>4.455524211906863</td>\n",
       "      <td>16.580954678405433</td>\n",
       "      <td>14.28779573433909</td>\n",
       "      <td>13.1413717762489</td>\n",
       "      <td>None</td>\n",
       "      <td>None</td>\n",
       "      <td>None</td>\n",
       "      <td>None</td>\n",
       "      <td>None</td>\n",
       "      <td>None</td>\n",
       "      <td>None</td>\n",
       "      <td>None</td>\n",
       "      <td>None</td>\n",
       "    </tr>\n",
       "    <tr>\n",
       "      <th>7AU3</th>\n",
       "      <td>F</td>\n",
       "      <td>16.796761757479654</td>\n",
       "      <td>14.212012782785207</td>\n",
       "      <td>13.183533897294945</td>\n",
       "      <td>9.319262184914082</td>\n",
       "      <td>10.710414343356609</td>\n",
       "      <td>13.360880458079311</td>\n",
       "      <td>15.821935298101156</td>\n",
       "      <td>19.37285177915332</td>\n",
       "      <td>21.952174291712055</td>\n",
       "      <td>4.462446620285363</td>\n",
       "      <td>22.134563898575674</td>\n",
       "      <td>24.23814571967684</td>\n",
       "      <td>21.91568959331642</td>\n",
       "      <td>23.669252353081784</td>\n",
       "      <td>2.7307145850803436</td>\n",
       "    </tr>\n",
       "    <tr>\n",
       "      <th>7AU6</th>\n",
       "      <td>O</td>\n",
       "      <td>13.198579903539796</td>\n",
       "      <td>16.02582739845232</td>\n",
       "      <td>16.874577057804608</td>\n",
       "      <td>19.496896034907856</td>\n",
       "      <td>22.072102246965642</td>\n",
       "      <td>4.660330508508928</td>\n",
       "      <td>14.003897586360367</td>\n",
       "      <td>21.764737550327954</td>\n",
       "      <td>24.052710350848294</td>\n",
       "      <td>13.003037726860024</td>\n",
       "      <td>21.498045572432424</td>\n",
       "      <td>23.518810400496378</td>\n",
       "      <td>8.994717097129625</td>\n",
       "      <td>10.730920645393642</td>\n",
       "      <td>2.618770440494295</td>\n",
       "    </tr>\n",
       "    <tr>\n",
       "      <th>7ATE</th>\n",
       "      <td>P</td>\n",
       "      <td>16.81747375569444</td>\n",
       "      <td>13.967247672867101</td>\n",
       "      <td>12.961699045571441</td>\n",
       "      <td>9.180417385461864</td>\n",
       "      <td>10.892372019580153</td>\n",
       "      <td>13.228668431994347</td>\n",
       "      <td>15.971221834436818</td>\n",
       "      <td>19.432038372352896</td>\n",
       "      <td>22.04446434926845</td>\n",
       "      <td>4.673110652466655</td>\n",
       "      <td>21.85731357305884</td>\n",
       "      <td>24.161357898077792</td>\n",
       "      <td>21.60939850980943</td>\n",
       "      <td>23.607814447024115</td>\n",
       "      <td>2.695562923425543</td>\n",
       "    </tr>\n",
       "    <tr>\n",
       "      <th>7ATN</th>\n",
       "      <td>R</td>\n",
       "      <td>16.85996414081963</td>\n",
       "      <td>13.085282722169797</td>\n",
       "      <td>14.190758540856377</td>\n",
       "      <td>9.582696199729295</td>\n",
       "      <td>10.593261990370793</td>\n",
       "      <td>15.25316430029518</td>\n",
       "      <td>12.990196209532463</td>\n",
       "      <td>19.6947454986504</td>\n",
       "      <td>22.297626591515673</td>\n",
       "      <td>3.8824061240160765</td>\n",
       "      <td>21.985083171306385</td>\n",
       "      <td>23.46443283111887</td>\n",
       "      <td>22.37758862102904</td>\n",
       "      <td>24.177510646493428</td>\n",
       "      <td>2.7494056943855307</td>\n",
       "    </tr>\n",
       "  </tbody>\n",
       "</table>\n",
       "</div>"
      ],
      "text/plain": [
       "     state      Fe(a) - Fe(a3)       Fe(a) - Mn/Mg      Fe(a3) - Mn/Mg  \\\n",
       "3HB3     O  13.277842982266828  15.893155574384092  17.056718639586112   \n",
       "1AR1     O  13.473607189592569  15.338440392860019   4.455524211906863   \n",
       "7AU3     F  16.796761757479654  14.212012782785207  13.183533897294945   \n",
       "7AU6     O  13.198579903539796   16.02582739845232  16.874577057804608   \n",
       "7ATE     P   16.81747375569444  13.967247672867101  12.961699045571441   \n",
       "7ATN     R   16.85996414081963  13.085282722169797  14.190758540856377   \n",
       "\n",
       "          Cu_A1 - Fe(a3)      Cu_A2 - Fe(a3)        Cu_B - Fe(a)  \\\n",
       "3HB3   4.620712644300235   14.11816284634431  13.199914724918884   \n",
       "1AR1  16.580954678405433   14.28779573433909    13.1413717762489   \n",
       "7AU3   9.319262184914082  10.710414343356609  13.360880458079311   \n",
       "7AU6  19.496896034907856  22.072102246965642   4.660330508508928   \n",
       "7ATE   9.180417385461864  10.892372019580153  13.228668431994347   \n",
       "7ATN   9.582696199729295  10.593261990370793   15.25316430029518   \n",
       "\n",
       "          Fe(a3) - MG/MN      Fe(a3) - Cu_A1      Fe(a3) - Cu_A2  \\\n",
       "3HB3                None                None                None   \n",
       "1AR1                None                None                None   \n",
       "7AU3  15.821935298101156   19.37285177915332  21.952174291712055   \n",
       "7AU6  14.003897586360367  21.764737550327954  24.052710350848294   \n",
       "7ATE  15.971221834436818  19.432038372352896   22.04446434926845   \n",
       "7ATN  12.990196209532463    19.6947454986504  22.297626591515673   \n",
       "\n",
       "            Cu_B - Mn/Mg        Cu_B - Cu_A1        Cu_B - Cu_A2  \\\n",
       "3HB3                None                None                None   \n",
       "1AR1                None                None                None   \n",
       "7AU3   4.462446620285363  22.134563898575674   24.23814571967684   \n",
       "7AU6  13.003037726860024  21.498045572432424  23.518810400496378   \n",
       "7ATE   4.673110652466655   21.85731357305884  24.161357898077792   \n",
       "7ATN  3.8824061240160765  21.985083171306385   23.46443283111887   \n",
       "\n",
       "          Mn/Mg - Cu_A2       Mn/Mg - Cu_A1       Cu_A1 - Cu_A2  \n",
       "3HB3               None                None                None  \n",
       "1AR1               None                None                None  \n",
       "7AU3  21.91568959331642  23.669252353081784  2.7307145850803436  \n",
       "7AU6  8.994717097129625  10.730920645393642   2.618770440494295  \n",
       "7ATE  21.60939850980943  23.607814447024115   2.695562923425543  \n",
       "7ATN  22.37758862102904  24.177510646493428  2.7494056943855307  "
      ]
     },
     "execution_count": 283,
     "metadata": {},
     "output_type": "execute_result"
    }
   ],
   "source": [
    "dist = pd.DataFrame([dist_3hb3, dist_1ar1, dist_7au3, dist_7au6, dist_7ate, dist_7atn], index=['3HB3', '1AR1', '7AU3', '7AU6', '7ATE', '7ATN'], columns=['state', 'Fe(a) - Fe(a3)', 'Fe(a) - Mn/Mg', 'Fe(a3) - Mn/Mg', 'Cu_A1 - Fe(a3)', 'Cu_A2 - Fe(a3)', 'Cu_B - Fe(a)', 'Fe(a3) - MG/MN', 'Fe(a3) - Cu_A1', 'Fe(a3) - Cu_A2', 'Cu_B - Mn/Mg', 'Cu_B - Cu_A1', 'Cu_B - Cu_A2', 'Mn/Mg - Cu_A2', 'Mn/Mg - Cu_A1', 'Cu_A1 - Cu_A2'])\n",
    "dist"
   ]
  },
  {
   "cell_type": "code",
   "execution_count": 284,
   "metadata": {},
   "outputs": [
    {
     "data": {
      "text/html": [
       "<div>\n",
       "<style scoped>\n",
       "    .dataframe tbody tr th:only-of-type {\n",
       "        vertical-align: middle;\n",
       "    }\n",
       "\n",
       "    .dataframe tbody tr th {\n",
       "        vertical-align: top;\n",
       "    }\n",
       "\n",
       "    .dataframe thead th {\n",
       "        text-align: right;\n",
       "    }\n",
       "</style>\n",
       "<table border=\"1\" class=\"dataframe\">\n",
       "  <thead>\n",
       "    <tr style=\"text-align: right;\">\n",
       "      <th></th>\n",
       "      <th>state</th>\n",
       "      <th>Fe(a) - Fe(a3)</th>\n",
       "      <th>Fe(a) - Mn/Mg</th>\n",
       "      <th>Fe(a3) - Mn/Mg</th>\n",
       "      <th>Cu_B - Fe(a)</th>\n",
       "      <th>Fe(a3) - MG/MN</th>\n",
       "      <th>Cu_B - Mn/Mg</th>\n",
       "    </tr>\n",
       "  </thead>\n",
       "  <tbody>\n",
       "    <tr>\n",
       "      <th>3HB3</th>\n",
       "      <td>O</td>\n",
       "      <td>13.277842982266828</td>\n",
       "      <td>15.893155574384092</td>\n",
       "      <td>17.056718639586112</td>\n",
       "      <td>13.199914724918884</td>\n",
       "      <td>None</td>\n",
       "      <td>None</td>\n",
       "    </tr>\n",
       "    <tr>\n",
       "      <th>1AR1</th>\n",
       "      <td>O</td>\n",
       "      <td>13.473607189592569</td>\n",
       "      <td>15.338440392860019</td>\n",
       "      <td>4.455524211906863</td>\n",
       "      <td>13.1413717762489</td>\n",
       "      <td>None</td>\n",
       "      <td>None</td>\n",
       "    </tr>\n",
       "    <tr>\n",
       "      <th>7AU3</th>\n",
       "      <td>F</td>\n",
       "      <td>16.796761757479654</td>\n",
       "      <td>14.212012782785207</td>\n",
       "      <td>13.183533897294945</td>\n",
       "      <td>13.360880458079311</td>\n",
       "      <td>15.821935298101156</td>\n",
       "      <td>4.462446620285363</td>\n",
       "    </tr>\n",
       "    <tr>\n",
       "      <th>7AU6</th>\n",
       "      <td>O</td>\n",
       "      <td>13.198579903539796</td>\n",
       "      <td>16.02582739845232</td>\n",
       "      <td>16.874577057804608</td>\n",
       "      <td>4.660330508508928</td>\n",
       "      <td>14.003897586360367</td>\n",
       "      <td>13.003037726860024</td>\n",
       "    </tr>\n",
       "    <tr>\n",
       "      <th>7ATE</th>\n",
       "      <td>P</td>\n",
       "      <td>16.81747375569444</td>\n",
       "      <td>13.967247672867101</td>\n",
       "      <td>12.961699045571441</td>\n",
       "      <td>13.228668431994347</td>\n",
       "      <td>15.971221834436818</td>\n",
       "      <td>4.673110652466655</td>\n",
       "    </tr>\n",
       "    <tr>\n",
       "      <th>7ATN</th>\n",
       "      <td>R</td>\n",
       "      <td>16.85996414081963</td>\n",
       "      <td>13.085282722169797</td>\n",
       "      <td>14.190758540856377</td>\n",
       "      <td>15.25316430029518</td>\n",
       "      <td>12.990196209532463</td>\n",
       "      <td>3.8824061240160765</td>\n",
       "    </tr>\n",
       "  </tbody>\n",
       "</table>\n",
       "</div>"
      ],
      "text/plain": [
       "     state      Fe(a) - Fe(a3)       Fe(a) - Mn/Mg      Fe(a3) - Mn/Mg  \\\n",
       "3HB3     O  13.277842982266828  15.893155574384092  17.056718639586112   \n",
       "1AR1     O  13.473607189592569  15.338440392860019   4.455524211906863   \n",
       "7AU3     F  16.796761757479654  14.212012782785207  13.183533897294945   \n",
       "7AU6     O  13.198579903539796   16.02582739845232  16.874577057804608   \n",
       "7ATE     P   16.81747375569444  13.967247672867101  12.961699045571441   \n",
       "7ATN     R   16.85996414081963  13.085282722169797  14.190758540856377   \n",
       "\n",
       "            Cu_B - Fe(a)      Fe(a3) - MG/MN        Cu_B - Mn/Mg  \n",
       "3HB3  13.199914724918884                None                None  \n",
       "1AR1    13.1413717762489                None                None  \n",
       "7AU3  13.360880458079311  15.821935298101156   4.462446620285363  \n",
       "7AU6   4.660330508508928  14.003897586360367  13.003037726860024  \n",
       "7ATE  13.228668431994347  15.971221834436818   4.673110652466655  \n",
       "7ATN   15.25316430029518  12.990196209532463  3.8824061240160765  "
      ]
     },
     "execution_count": 284,
     "metadata": {},
     "output_type": "execute_result"
    }
   ],
   "source": [
    "#drop unrelevant distances\n",
    "dist = dist.drop(['Cu_A1 - Fe(a3)', 'Cu_A2 - Fe(a3)', 'Fe(a3) - Cu_A1', 'Fe(a3) - Cu_A2', 'Cu_B - Cu_A1', 'Cu_B - Cu_A2', 'Mn/Mg - Cu_A2', 'Mn/Mg - Cu_A1', 'Cu_A1 - Cu_A2'], axis=1)\n",
    "dist"
   ]
  },
  {
   "cell_type": "markdown",
   "metadata": {},
   "source": [
    "observe values not matching expectations: \n",
    "Fe(a3) - Mn/Mg: 1AR1\n",
    "Cu_B - Fe(a): 1AR1,7AU3,7ATE\n",
    "Cu_B - Mn/Mg: 7AU3, 7ATE"
   ]
  },
  {
   "cell_type": "markdown",
   "metadata": {},
   "source": [
    "Order determined for 3HB3\n",
    "iron(heme a) - iron(heme a3), iron(heme a) - MN, iron(heme a3) - MN, 270 CU - iron heme a3, 271 Cu - iron heme a3, \n",
    "Cu 561 - iron heme a, 560 fe - mn, 560 fe 270 cu, 560 fe 270 cu, 561 cu - mn\n",
    "Cu 561 - 270 Cu, 561 cu - 271 cu, mn - 270 cu, mn - 271 cu, 270 cu - 271 cu"
   ]
  },
  {
   "cell_type": "code",
   "execution_count": 285,
   "metadata": {},
   "outputs": [
    {
     "data": {
      "text/plain": [
       "array(['F', '16.796761757479654', '14.212012782785207',\n",
       "       '13.183533897294945', '9.319262184914082', '10.710414343356609',\n",
       "       '13.360880458079311', '15.821935298101156', '19.37285177915332',\n",
       "       '21.952174291712055', '4.462446620285363', '22.134563898575674',\n",
       "       '24.23814571967684', '21.91568959331642', '23.669252353081784',\n",
       "       '2.7307145850803436'], dtype='<U32')"
      ]
     },
     "execution_count": 285,
     "metadata": {},
     "output_type": "execute_result"
    }
   ],
   "source": [
    "dist_7au3 = distances.self_distance_array(_7au3.select_atoms('name FE or name MN or name CU or name CU1 or name CU2').positions)\n",
    "dist_7au3 = np.append(np.array('F'), dist_7au3)\n",
    "dist_7au3"
   ]
  },
  {
   "cell_type": "markdown",
   "metadata": {},
   "source": [
    "Rename Copper Atoms in the PDB files, create copies of the original PDBs with the _original.pdb file-ending. Check rename-ing."
   ]
  },
  {
   "cell_type": "code",
   "execution_count": 286,
   "metadata": {},
   "outputs": [
    {
     "name": "stderr",
     "output_type": "stream",
     "text": [
      "/home/pbuser/miniconda3/envs/work/lib/python3.9/site-packages/MDAnalysis/topology/guessers.py:146: UserWarning: Failed to guess the mass for the following atom types: MN\n",
      "  warnings.warn(\"Failed to guess the mass for the following atom types: {}\".format(atom_type))\n",
      "/home/pbuser/miniconda3/envs/work/lib/python3.9/site-packages/MDAnalysis/coordinates/PDB.py:429: UserWarning: 1 A^3 CRYST1 record, this is usually a placeholder. Unit cell dimensions will be set to None.\n",
      "  warnings.warn(\"1 A^3 CRYST1 record,\"\n"
     ]
    }
   ],
   "source": [
    "_7au3_ = mda.Universe('cEM/F-state/7au3.pdb')\n",
    "CuA_7au3 = _7au3_.select_atoms('resname CUA')\n",
    "CuB_7au3 = _7au3_.select_atoms('resname CUB')"
   ]
  },
  {
   "cell_type": "code",
   "execution_count": 287,
   "metadata": {},
   "outputs": [
    {
     "name": "stdout",
     "output_type": "stream",
     "text": [
      "<AtomGroup [<Atom 8798: CU1 of type CU of resname CUA, resid 301 and segid B and altLoc >, <Atom 8799: CU2 of type CU of resname CUA, resid 301 and segid B and altLoc >]>\n"
     ]
    }
   ],
   "source": [
    "print(CuA_7au3)"
   ]
  },
  {
   "cell_type": "code",
   "execution_count": 288,
   "metadata": {},
   "outputs": [
    {
     "name": "stdout",
     "output_type": "stream",
     "text": [
      "<AtomGroup [<Atom 8793: CU of type CU of resname CUB, resid 604 and segid A and altLoc >]>\n"
     ]
    }
   ],
   "source": [
    "print(CuB_7au3)"
   ]
  },
  {
   "cell_type": "code",
   "execution_count": 289,
   "metadata": {},
   "outputs": [],
   "source": [
    "_7au6_ = mda.Universe('cEM/O-state/7au6.pdb')\n",
    "CuA_7au6 = _7au6_.select_atoms('resname CUA')\n",
    "CuB_7au6 = _7au6_.select_atoms('resname CUB')"
   ]
  },
  {
   "cell_type": "code",
   "execution_count": 290,
   "metadata": {},
   "outputs": [
    {
     "name": "stdout",
     "output_type": "stream",
     "text": [
      "<AtomGroup [<Atom 8780: CU1 of type CU of resname CUA, resid 301 and segid B and altLoc >, <Atom 8781: CU2 of type CU of resname CUA, resid 301 and segid B and altLoc >]>\n"
     ]
    }
   ],
   "source": [
    "print(CuA_7au6)"
   ]
  },
  {
   "cell_type": "code",
   "execution_count": 291,
   "metadata": {},
   "outputs": [
    {
     "name": "stdout",
     "output_type": "stream",
     "text": [
      "<AtomGroup [<Atom 8763: CU of type CU of resname CUB, resid 603 and segid A and altLoc >]>\n"
     ]
    }
   ],
   "source": [
    "print(CuB_7au6)"
   ]
  },
  {
   "cell_type": "code",
   "execution_count": 292,
   "metadata": {},
   "outputs": [],
   "source": [
    "_7ate_ = mda.Universe('cEM/P-state/7ate.pdb')\n",
    "CuA_7ate = _7ate_.select_atoms('resname CUA')\n",
    "CuB_7ate = _7ate_.select_atoms('resname CUB')"
   ]
  },
  {
   "cell_type": "code",
   "execution_count": 293,
   "metadata": {},
   "outputs": [
    {
     "name": "stdout",
     "output_type": "stream",
     "text": [
      "<AtomGroup [<Atom 8817: CU1 of type CU of resname CUA, resid 301 and segid B and altLoc >, <Atom 8818: CU2 of type CU of resname CUA, resid 301 and segid B and altLoc >]>\n"
     ]
    }
   ],
   "source": [
    "print(CuA_7ate)"
   ]
  },
  {
   "cell_type": "code",
   "execution_count": 294,
   "metadata": {},
   "outputs": [
    {
     "name": "stdout",
     "output_type": "stream",
     "text": [
      "<AtomGroup [<Atom 8813: CU of type CU of resname CUB, resid 604 and segid A and altLoc >]>\n"
     ]
    }
   ],
   "source": [
    "print(CuB_7ate)"
   ]
  },
  {
   "cell_type": "code",
   "execution_count": 295,
   "metadata": {},
   "outputs": [],
   "source": [
    "_7atn_ = mda.Universe('cEM/R-state/7atn.pdb')\n",
    "CuA_7atn = _7atn_.select_atoms('resname CUA')\n",
    "CuB_7atn = _7atn_.select_atoms('resname CUB')"
   ]
  },
  {
   "cell_type": "code",
   "execution_count": 296,
   "metadata": {},
   "outputs": [
    {
     "name": "stdout",
     "output_type": "stream",
     "text": [
      "<AtomGroup [<Atom 8813: CU1 of type CU of resname CUA, resid 301 and segid B and altLoc >, <Atom 8814: CU2 of type CU of resname CUA, resid 301 and segid B and altLoc >]>\n"
     ]
    }
   ],
   "source": [
    "print(CuA_7atn)"
   ]
  },
  {
   "cell_type": "code",
   "execution_count": 297,
   "metadata": {},
   "outputs": [
    {
     "name": "stdout",
     "output_type": "stream",
     "text": [
      "<AtomGroup [<Atom 8751: CU of type CU of resname CUB, resid 603 and segid A and altLoc >]>\n"
     ]
    }
   ],
   "source": [
    "print(CuB_7atn)"
   ]
  },
  {
   "cell_type": "code",
   "execution_count": 298,
   "metadata": {},
   "outputs": [],
   "source": [
    "_1ar1_ = mda.Universe('x-ray/O-state/1ar1.pdb')\n",
    "CuA_1ar1 = _1ar1_.select_atoms('resname CUA')\n",
    "CuB_1ar1 = _1ar1_.select_atoms('resname CUB')"
   ]
  },
  {
   "cell_type": "code",
   "execution_count": 299,
   "metadata": {},
   "outputs": [
    {
     "name": "stdout",
     "output_type": "stream",
     "text": [
      "<AtomGroup [<Atom 8142: CU1 of type CU of resname CUA, resid 270 and segid B and altLoc >, <Atom 8143: CU2 of type CU of resname CUA, resid 271 and segid B and altLoc >]>\n"
     ]
    }
   ],
   "source": [
    "print(CuA_1ar1)"
   ]
  },
  {
   "cell_type": "code",
   "execution_count": 300,
   "metadata": {},
   "outputs": [
    {
     "name": "stdout",
     "output_type": "stream",
     "text": [
      "<AtomGroup [<Atom 7923: CU of type CU of resname CUB, resid 559 and segid A and altLoc >]>\n"
     ]
    }
   ],
   "source": [
    "print(CuB_1ar1)"
   ]
  },
  {
   "cell_type": "code",
   "execution_count": 301,
   "metadata": {},
   "outputs": [],
   "source": [
    "_3hb3_ = mda.Universe('x-ray/O-state/3hb3.pdb')\n",
    "CuA_3hb3 = _3hb3_.select_atoms('resname CUA')\n",
    "CuB_3hb3 = _3hb3_.select_atoms('resname CUB')"
   ]
  },
  {
   "cell_type": "code",
   "execution_count": 302,
   "metadata": {},
   "outputs": [
    {
     "name": "stdout",
     "output_type": "stream",
     "text": [
      "<AtomGroup [<Atom 8497: CU1 of type CU of resname CUA, resid 270 and segid B and altLoc >, <Atom 8498: CU2 of type CU of resname CUA, resid 271 and segid B and altLoc >]>\n"
     ]
    }
   ],
   "source": [
    "print(CuA_3hb3)"
   ]
  },
  {
   "cell_type": "code",
   "execution_count": 303,
   "metadata": {},
   "outputs": [
    {
     "name": "stdout",
     "output_type": "stream",
     "text": [
      "<AtomGroup [<Atom 8077: CU of type CU of resname CUB, resid 561 and segid A and altLoc >]>\n"
     ]
    }
   ],
   "source": [
    "print(CuB_3hb3)"
   ]
  },
  {
   "cell_type": "markdown",
   "metadata": {},
   "source": [
    "According to https://www.ncbi.nlm.nih.gov/pmc/articles/PMC2638054/ the Mn is measured because Mg is not measurable in EPR measurements, and therefore the bacterria is grown on Manganese rich soil because that is measurable with EPR techniques and not affecting function that much."
   ]
  },
  {
   "cell_type": "markdown",
   "metadata": {},
   "source": [
    "\"Rhodobacter sphaeroides grown in a Mn(II)-rich medium replaces the intrinsic Mg(II) ion with an EPR-detectable Mn(II) ion without change in activity. Due to its close proximity and a shared ligand, oxidized CuA is spin-coupled to the Mn(II) ion, affecting the EPR spectrum. An examination of both bovine and R.s. oxidase crystal structures reveals a hydrogen-bonding pattern in the vicinity of the Mg(II) site that is consistent with three water ligands of the Mg(Mn) center when CuA is oxidized.\""
   ]
  },
  {
   "cell_type": "markdown",
   "metadata": {},
   "source": [
    "Therefore, all instances of MN will be changed to MG in the modified PDB files. Reload Files with Mg atoms. "
   ]
  },
  {
   "cell_type": "code",
   "execution_count": 307,
   "metadata": {},
   "outputs": [],
   "source": [
    "_3hb3 = mda.Universe('x-ray/O-state/3hb3.pdb')\n",
    "_1ar1 = mda.Universe('x-ray/O-state/1ar1.pdb')\n",
    "_7au3 = mda.Universe('cEM/F-state/7au3.pdb')\n",
    "_7au6 = mda.Universe('cEM/O-state/7au6.pdb')\n",
    "_7ate = mda.Universe('cEM/P-state/7ate.pdb')\n",
    "_7atn = mda.Universe('cEM/R-state/7atn.pdb')"
   ]
  },
  {
   "cell_type": "markdown",
   "metadata": {},
   "source": [
    "Add Dimensions to 7(...) structures, since none are given with the PDB files"
   ]
  },
  {
   "cell_type": "code",
   "execution_count": 308,
   "metadata": {},
   "outputs": [
    {
     "data": {
      "text/plain": [
       "75.113"
      ]
     },
     "execution_count": 308,
     "metadata": {},
     "output_type": "execute_result"
    }
   ],
   "source": [
    "max(_7au3.atoms.positions[:, 0]) - min(_7au3.atoms.positions[:, 0])"
   ]
  },
  {
   "cell_type": "code",
   "execution_count": 314,
   "metadata": {},
   "outputs": [
    {
     "name": "stderr",
     "output_type": "stream",
     "text": [
      "/home/pbuser/miniconda3/envs/work/lib/python3.9/site-packages/MDAnalysis/coordinates/PDB.py:429: UserWarning: 1 A^3 CRYST1 record, this is usually a placeholder. Unit cell dimensions will be set to None.\n",
      "  warnings.warn(\"1 A^3 CRYST1 record,\"\n"
     ]
    },
    {
     "data": {
      "application/vnd.jupyter.widget-view+json": {
       "model_id": "e8daf79569e14cce8714691facc93e77",
       "version_major": 2,
       "version_minor": 0
      },
      "text/plain": [
       "NGLWidget()"
      ]
     },
     "metadata": {},
     "output_type": "display_data"
    }
   ],
   "source": [
    "_7au3.dimensions=[93.500,151.000,156.700,90.00,90.00,90.00]\n",
    "_7au3.dimensions\n",
    "ngl.show_mdanalysis(_7au3)"
   ]
  },
  {
   "cell_type": "markdown",
   "metadata": {},
   "source": [
    "Warning:"
   ]
  },
  {
   "cell_type": "markdown",
   "metadata": {},
   "source": [
    "/home/pbuser/miniconda3/envs/work/lib/python3.9/site-packages/MDAnalysis/coordinates/PDB.py:429: UserWarning: 1 A^3 CRYST1 record, this is usually a placeholder. Unit cell dimensions will be set to None.\n",
    "  warnings.warn(\"1 A^3 CRYST1 record,\""
   ]
  },
  {
   "cell_type": "markdown",
   "metadata": {},
   "source": [
    "Changing dimensions with MDA does not work properly, so I changed the unit cell dimensions (CRYST1 in the PDB files) to the CRYST1 values of 1AR1, which are very similar to the CRYST1 values of 3HB3. "
   ]
  },
  {
   "cell_type": "code",
   "execution_count": 315,
   "metadata": {},
   "outputs": [],
   "source": [
    "_3hb3 = mda.Universe('x-ray/O-state/3hb3.pdb')\n",
    "_1ar1 = mda.Universe('x-ray/O-state/1ar1.pdb')\n",
    "_7au3 = mda.Universe('cEM/F-state/7au3.pdb')\n",
    "_7au6 = mda.Universe('cEM/O-state/7au6.pdb')\n",
    "_7ate = mda.Universe('cEM/P-state/7ate.pdb')\n",
    "_7atn = mda.Universe('cEM/R-state/7atn.pdb')"
   ]
  },
  {
   "cell_type": "markdown",
   "metadata": {},
   "source": [
    "## Alignment"
   ]
  },
  {
   "cell_type": "markdown",
   "metadata": {},
   "source": [
    "Backbone and C-alpha alignment to check for easily overlooked mistakes"
   ]
  },
  {
   "cell_type": "code",
   "execution_count": 319,
   "metadata": {},
   "outputs": [
    {
     "name": "stdout",
     "output_type": "stream",
     "text": [
      "(0.5560523516039728, 0.556052351601856)\n",
      "RMSD in Angstrom: 0.5558103509757741 between structures 3HB3 and 1AR1\n"
     ]
    }
   ],
   "source": [
    "#merged_xray = mda.Merge(_3hb3.atoms, _1ar1.atoms)\n",
    "#nv.show_mdanalysis(merged_xray)\n",
    "_3hb3_1ar1 = align.alignto(_3hb3, _1ar1, select='backbone or name CA', match_atoms=True)\n",
    "print(_3hb3_1ar1)\n",
    "#nv.show_mdanalysis(mda.Merge(_3hb3.atoms, _1ar1.atoms))\n",
    "RMSD = rms.rmsd(_3hb3.select_atoms('backbone').positions, _1ar1.select_atoms('backbone').positions, center=True, superposition=True)\n",
    "print(f'RMSD in Angstrom: {RMSD} between structures 3HB3 and 1AR1')"
   ]
  },
  {
   "cell_type": "code",
   "execution_count": 321,
   "metadata": {},
   "outputs": [],
   "source": [
    "#_3hb3_7au3 = align.alignto(_3hb3, _7au3, select='backbone or name CA', match_atoms=True)\n",
    "#print(_3hb3_7au3)\n",
    "#RMSD = rms.rmsd(_3hb3.select_atoms('backbone').positions, _7au3.select_atoms('backbone').positions, center=True, superposition=True)\n",
    "#print(f'RMSD in Angstrom: {RMSD} between structures 3HB3 and 7AU3')"
   ]
  },
  {
   "cell_type": "markdown",
   "metadata": {},
   "source": [
    "Distance between backbone atoms present between x-ray structures and cEM structure need different selection when aligning and comparing"
   ]
  },
  {
   "cell_type": "code",
   "execution_count": 339,
   "metadata": {},
   "outputs": [
    {
     "data": {
      "text/plain": [
       "[]"
      ]
     },
     "execution_count": 339,
     "metadata": {},
     "output_type": "execute_result"
    }
   ],
   "source": [
    "_3hb3_resids = _3hb3.select_atoms('backbone or name CA').residues\n",
    "_7au3_resids = _7au3.select_atoms('backbone or name CA').residues\n",
    "diff = list(set(list(_3hb3_resids)).difference(list(_7au3_resids)))\n",
    "diff"
   ]
  },
  {
   "cell_type": "code",
   "execution_count": 337,
   "metadata": {},
   "outputs": [
    {
     "data": {
      "text/plain": [
       "[<Residue GLY, 17>,\n",
       " <Residue PHE, 18>,\n",
       " <Residue PHE, 19>,\n",
       " <Residue THR, 20>,\n",
       " <Residue ARG, 21>,\n",
       " <Residue TRP, 22>,\n",
       " <Residue PHE, 23>,\n",
       " <Residue MET, 24>,\n",
       " <Residue SER, 25>,\n",
       " <Residue THR, 26>,\n",
       " <Residue ASN, 27>,\n",
       " <Residue HIS, 28>,\n",
       " <Residue LYS, 29>,\n",
       " <Residue ASP, 30>,\n",
       " <Residue ILE, 31>,\n",
       " <Residue GLY, 32>,\n",
       " <Residue ILE, 33>,\n",
       " <Residue LEU, 34>,\n",
       " <Residue TYR, 35>,\n",
       " <Residue LEU, 36>,\n",
       " <Residue PHE, 37>,\n",
       " <Residue THR, 38>,\n",
       " <Residue ALA, 39>,\n",
       " <Residue GLY, 40>,\n",
       " <Residue ILE, 41>,\n",
       " <Residue VAL, 42>,\n",
       " <Residue GLY, 43>,\n",
       " <Residue LEU, 44>,\n",
       " <Residue ILE, 45>,\n",
       " <Residue SER, 46>,\n",
       " <Residue VAL, 47>,\n",
       " <Residue CYS, 48>,\n",
       " <Residue PHE, 49>,\n",
       " <Residue THR, 50>,\n",
       " <Residue VAL, 51>,\n",
       " <Residue TYR, 52>,\n",
       " <Residue MET, 53>,\n",
       " <Residue ARG, 54>,\n",
       " <Residue MET, 55>,\n",
       " <Residue GLU, 56>,\n",
       " <Residue LEU, 57>,\n",
       " <Residue GLN, 58>,\n",
       " <Residue HIS, 59>,\n",
       " <Residue PRO, 60>,\n",
       " <Residue GLY, 61>,\n",
       " <Residue VAL, 62>,\n",
       " <Residue GLN, 63>,\n",
       " <Residue TYR, 64>,\n",
       " <Residue MET, 65>,\n",
       " <Residue CYS, 66>,\n",
       " <Residue LEU, 67>,\n",
       " <Residue GLU, 68>,\n",
       " <Residue GLY, 69>,\n",
       " <Residue ALA, 70>,\n",
       " <Residue ARG, 71>,\n",
       " <Residue LEU, 72>,\n",
       " <Residue ILE, 73>,\n",
       " <Residue ALA, 74>,\n",
       " <Residue ASP, 75>,\n",
       " <Residue ALA, 76>,\n",
       " <Residue SER, 77>,\n",
       " <Residue ALA, 78>,\n",
       " <Residue GLU, 79>,\n",
       " <Residue CYS, 80>,\n",
       " <Residue THR, 81>,\n",
       " <Residue PRO, 82>,\n",
       " <Residue ASN, 83>,\n",
       " <Residue GLY, 84>,\n",
       " <Residue HIS, 85>,\n",
       " <Residue LEU, 86>,\n",
       " <Residue TRP, 87>,\n",
       " <Residue ASN, 88>,\n",
       " <Residue VAL, 89>,\n",
       " <Residue MET, 90>,\n",
       " <Residue ILE, 91>,\n",
       " <Residue THR, 92>,\n",
       " <Residue TYR, 93>,\n",
       " <Residue HIS, 94>,\n",
       " <Residue GLY, 95>,\n",
       " <Residue VAL, 96>,\n",
       " <Residue LEU, 97>,\n",
       " <Residue MET, 98>,\n",
       " <Residue MET, 99>,\n",
       " <Residue PHE, 100>,\n",
       " <Residue PHE, 101>,\n",
       " <Residue VAL, 102>,\n",
       " <Residue VAL, 103>,\n",
       " <Residue ILE, 104>,\n",
       " <Residue PRO, 105>,\n",
       " <Residue ALA, 106>,\n",
       " <Residue LEU, 107>,\n",
       " <Residue PHE, 108>,\n",
       " <Residue GLY, 109>,\n",
       " <Residue GLY, 110>,\n",
       " <Residue PHE, 111>,\n",
       " <Residue GLY, 112>,\n",
       " <Residue ASN, 113>,\n",
       " <Residue TYR, 114>,\n",
       " <Residue PHE, 115>,\n",
       " <Residue MET, 116>,\n",
       " <Residue PRO, 117>,\n",
       " <Residue LEU, 118>,\n",
       " <Residue HIS, 119>,\n",
       " <Residue ILE, 120>,\n",
       " <Residue GLY, 121>,\n",
       " <Residue ALA, 122>,\n",
       " <Residue PRO, 123>,\n",
       " <Residue ASP, 124>,\n",
       " <Residue MET, 125>,\n",
       " <Residue ALA, 126>,\n",
       " <Residue PHE, 127>,\n",
       " <Residue PRO, 128>,\n",
       " <Residue ARG, 129>,\n",
       " <Residue LEU, 130>,\n",
       " <Residue ASN, 131>,\n",
       " <Residue ASN, 132>,\n",
       " <Residue LEU, 133>,\n",
       " <Residue SER, 134>,\n",
       " <Residue TYR, 135>,\n",
       " <Residue TRP, 136>,\n",
       " <Residue MET, 137>,\n",
       " <Residue TYR, 138>,\n",
       " <Residue VAL, 139>,\n",
       " <Residue CYS, 140>,\n",
       " <Residue GLY, 141>,\n",
       " <Residue VAL, 142>,\n",
       " <Residue ALA, 143>,\n",
       " <Residue LEU, 144>,\n",
       " <Residue GLY, 145>,\n",
       " <Residue VAL, 146>,\n",
       " <Residue ALA, 147>,\n",
       " <Residue SER, 148>,\n",
       " <Residue LEU, 149>,\n",
       " <Residue LEU, 150>,\n",
       " <Residue ALA, 151>,\n",
       " <Residue PRO, 152>,\n",
       " <Residue GLY, 153>,\n",
       " <Residue GLY, 154>,\n",
       " <Residue ASN, 155>,\n",
       " <Residue ASP, 156>,\n",
       " <Residue GLN, 157>,\n",
       " <Residue MET, 158>,\n",
       " <Residue GLY, 159>,\n",
       " <Residue SER, 160>,\n",
       " <Residue GLY, 161>,\n",
       " <Residue VAL, 162>,\n",
       " <Residue GLY, 163>,\n",
       " <Residue TRP, 164>,\n",
       " <Residue VAL, 165>,\n",
       " <Residue LEU, 166>,\n",
       " <Residue TYR, 167>,\n",
       " <Residue PRO, 168>,\n",
       " <Residue PRO, 169>,\n",
       " <Residue LEU, 170>,\n",
       " <Residue SER, 171>,\n",
       " <Residue THR, 172>,\n",
       " <Residue THR, 173>,\n",
       " <Residue GLU, 174>,\n",
       " <Residue ALA, 175>,\n",
       " <Residue GLY, 176>,\n",
       " <Residue TYR, 177>,\n",
       " <Residue SER, 178>,\n",
       " <Residue MET, 179>,\n",
       " <Residue ASP, 180>,\n",
       " <Residue LEU, 181>,\n",
       " <Residue ALA, 182>,\n",
       " <Residue ILE, 183>,\n",
       " <Residue PHE, 184>,\n",
       " <Residue ALA, 185>,\n",
       " <Residue VAL, 186>,\n",
       " <Residue HIS, 187>,\n",
       " <Residue VAL, 188>,\n",
       " <Residue SER, 189>,\n",
       " <Residue GLY, 190>,\n",
       " <Residue ALA, 191>,\n",
       " <Residue SER, 192>,\n",
       " <Residue SER, 193>,\n",
       " <Residue ILE, 194>,\n",
       " <Residue LEU, 195>,\n",
       " <Residue GLY, 196>,\n",
       " <Residue ALA, 197>,\n",
       " <Residue ILE, 198>,\n",
       " <Residue ASN, 199>,\n",
       " <Residue ILE, 200>,\n",
       " <Residue ILE, 201>,\n",
       " <Residue THR, 202>,\n",
       " <Residue THR, 203>,\n",
       " <Residue PHE, 204>,\n",
       " <Residue LEU, 205>,\n",
       " <Residue ASN, 206>,\n",
       " <Residue MET, 207>,\n",
       " <Residue ARG, 208>,\n",
       " <Residue ALA, 209>,\n",
       " <Residue PRO, 210>,\n",
       " <Residue GLY, 211>,\n",
       " <Residue MET, 212>,\n",
       " <Residue THR, 213>,\n",
       " <Residue LEU, 214>,\n",
       " <Residue PHE, 215>,\n",
       " <Residue LYS, 216>,\n",
       " <Residue VAL, 217>,\n",
       " <Residue PRO, 218>,\n",
       " <Residue LEU, 219>,\n",
       " <Residue PHE, 220>,\n",
       " <Residue ALA, 221>,\n",
       " <Residue TRP, 222>,\n",
       " <Residue SER, 223>,\n",
       " <Residue VAL, 224>,\n",
       " <Residue PHE, 225>,\n",
       " <Residue ILE, 226>,\n",
       " <Residue THR, 227>,\n",
       " <Residue ALA, 228>,\n",
       " <Residue TRP, 229>,\n",
       " <Residue LEU, 230>,\n",
       " <Residue ILE, 231>,\n",
       " <Residue LEU, 232>,\n",
       " <Residue LEU, 233>,\n",
       " <Residue SER, 234>,\n",
       " <Residue LEU, 235>,\n",
       " <Residue PRO, 236>,\n",
       " <Residue VAL, 237>,\n",
       " <Residue LEU, 238>,\n",
       " <Residue ALA, 239>,\n",
       " <Residue GLY, 240>,\n",
       " <Residue ALA, 241>,\n",
       " <Residue ILE, 242>,\n",
       " <Residue THR, 243>,\n",
       " <Residue MET, 244>,\n",
       " <Residue LEU, 245>,\n",
       " <Residue LEU, 246>,\n",
       " <Residue MET, 247>,\n",
       " <Residue ASP, 248>,\n",
       " <Residue ARG, 249>,\n",
       " <Residue ASN, 250>,\n",
       " <Residue PHE, 251>,\n",
       " <Residue GLY, 252>,\n",
       " <Residue THR, 253>,\n",
       " <Residue GLN, 254>,\n",
       " <Residue PHE, 255>,\n",
       " <Residue PHE, 256>,\n",
       " <Residue ASP, 257>,\n",
       " <Residue PRO, 258>,\n",
       " <Residue ALA, 259>,\n",
       " <Residue GLY, 260>,\n",
       " <Residue GLY, 261>,\n",
       " <Residue GLY, 262>,\n",
       " <Residue ASP, 263>,\n",
       " <Residue PRO, 264>,\n",
       " <Residue VAL, 265>,\n",
       " <Residue LEU, 266>,\n",
       " <Residue TYR, 267>,\n",
       " <Residue GLN, 268>,\n",
       " <Residue HIS, 269>,\n",
       " <Residue ILE, 270>,\n",
       " <Residue LEU, 271>,\n",
       " <Residue TRP, 272>,\n",
       " <Residue PHE, 273>,\n",
       " <Residue PHE, 274>,\n",
       " <Residue GLY, 275>,\n",
       " <Residue HIS, 276>,\n",
       " <Residue PRO, 277>,\n",
       " <Residue GLU, 278>,\n",
       " <Residue VAL, 279>,\n",
       " <Residue TYR, 280>,\n",
       " <Residue ILE, 281>,\n",
       " <Residue ILE, 282>,\n",
       " <Residue ILE, 283>,\n",
       " <Residue LEU, 284>,\n",
       " <Residue PRO, 285>,\n",
       " <Residue GLY, 286>,\n",
       " <Residue PHE, 287>,\n",
       " <Residue GLY, 288>,\n",
       " <Residue ILE, 289>,\n",
       " <Residue ILE, 290>,\n",
       " <Residue SER, 291>,\n",
       " <Residue HIS, 292>,\n",
       " <Residue VAL, 293>,\n",
       " <Residue ILE, 294>,\n",
       " <Residue SER, 295>,\n",
       " <Residue THR, 296>,\n",
       " <Residue PHE, 297>,\n",
       " <Residue ALA, 298>,\n",
       " <Residue LYS, 299>,\n",
       " <Residue LYS, 300>,\n",
       " <Residue PRO, 301>,\n",
       " <Residue ILE, 302>,\n",
       " <Residue PHE, 303>,\n",
       " <Residue GLY, 304>,\n",
       " <Residue TYR, 305>,\n",
       " <Residue LEU, 306>,\n",
       " <Residue PRO, 307>,\n",
       " <Residue MET, 308>,\n",
       " <Residue VAL, 309>,\n",
       " <Residue LEU, 310>,\n",
       " <Residue ALA, 311>,\n",
       " <Residue MET, 312>,\n",
       " <Residue ALA, 313>,\n",
       " <Residue ALA, 314>,\n",
       " <Residue ILE, 315>,\n",
       " <Residue GLY, 316>,\n",
       " <Residue ILE, 317>,\n",
       " <Residue LEU, 318>,\n",
       " <Residue GLY, 319>,\n",
       " <Residue PHE, 320>,\n",
       " <Residue VAL, 321>,\n",
       " <Residue VAL, 322>,\n",
       " <Residue TRP, 323>,\n",
       " <Residue ALA, 324>,\n",
       " <Residue HIS, 325>,\n",
       " <Residue HIS, 326>,\n",
       " <Residue MET, 327>,\n",
       " <Residue TYR, 328>,\n",
       " <Residue THR, 329>,\n",
       " <Residue ALA, 330>,\n",
       " <Residue GLY, 331>,\n",
       " <Residue MET, 332>,\n",
       " <Residue SER, 333>,\n",
       " <Residue LEU, 334>,\n",
       " <Residue THR, 335>,\n",
       " <Residue GLN, 336>,\n",
       " <Residue GLN, 337>,\n",
       " <Residue ALA, 338>,\n",
       " <Residue TYR, 339>,\n",
       " <Residue PHE, 340>,\n",
       " <Residue MET, 341>,\n",
       " <Residue LEU, 342>,\n",
       " <Residue ALA, 343>,\n",
       " <Residue THR, 344>,\n",
       " <Residue MET, 345>,\n",
       " <Residue THR, 346>,\n",
       " <Residue ILE, 347>,\n",
       " <Residue ALA, 348>,\n",
       " <Residue VAL, 349>,\n",
       " <Residue PRO, 350>,\n",
       " <Residue THR, 351>,\n",
       " <Residue GLY, 352>,\n",
       " <Residue ILE, 353>,\n",
       " <Residue LYS, 354>,\n",
       " <Residue VAL, 355>,\n",
       " <Residue PHE, 356>,\n",
       " <Residue SER, 357>,\n",
       " <Residue TRP, 358>,\n",
       " <Residue ILE, 359>,\n",
       " <Residue ALA, 360>,\n",
       " <Residue THR, 361>,\n",
       " <Residue MET, 362>,\n",
       " <Residue TRP, 363>,\n",
       " <Residue GLY, 364>,\n",
       " <Residue GLY, 365>,\n",
       " <Residue SER, 366>,\n",
       " <Residue ILE, 367>,\n",
       " <Residue GLU, 368>,\n",
       " <Residue PHE, 369>,\n",
       " <Residue LYS, 370>,\n",
       " <Residue THR, 371>,\n",
       " <Residue PRO, 372>,\n",
       " <Residue MET, 373>,\n",
       " <Residue LEU, 374>,\n",
       " <Residue TRP, 375>,\n",
       " <Residue ALA, 376>,\n",
       " <Residue PHE, 377>,\n",
       " <Residue GLY, 378>,\n",
       " <Residue PHE, 379>,\n",
       " <Residue LEU, 380>,\n",
       " <Residue PHE, 381>,\n",
       " <Residue LEU, 382>,\n",
       " <Residue PHE, 383>,\n",
       " <Residue THR, 384>,\n",
       " <Residue VAL, 385>,\n",
       " <Residue GLY, 386>,\n",
       " <Residue GLY, 387>,\n",
       " <Residue VAL, 388>,\n",
       " <Residue THR, 389>,\n",
       " <Residue GLY, 390>,\n",
       " <Residue VAL, 391>,\n",
       " <Residue VAL, 392>,\n",
       " <Residue LEU, 393>,\n",
       " <Residue SER, 394>,\n",
       " <Residue GLN, 395>,\n",
       " <Residue ALA, 396>,\n",
       " <Residue PRO, 397>,\n",
       " <Residue LEU, 398>,\n",
       " <Residue ASP, 399>,\n",
       " <Residue ARG, 400>,\n",
       " <Residue VAL, 401>,\n",
       " <Residue TYR, 402>,\n",
       " <Residue HIS, 403>,\n",
       " <Residue ASP, 404>,\n",
       " <Residue THR, 405>,\n",
       " <Residue TYR, 406>,\n",
       " <Residue TYR, 407>,\n",
       " <Residue VAL, 408>,\n",
       " <Residue VAL, 409>,\n",
       " <Residue ALA, 410>,\n",
       " <Residue HIS, 411>,\n",
       " <Residue PHE, 412>,\n",
       " <Residue HIS, 413>,\n",
       " <Residue TYR, 414>,\n",
       " <Residue VAL, 415>,\n",
       " <Residue MET, 416>,\n",
       " <Residue SER, 417>,\n",
       " <Residue LEU, 418>,\n",
       " <Residue GLY, 419>,\n",
       " <Residue ALA, 420>,\n",
       " <Residue VAL, 421>,\n",
       " <Residue PHE, 422>,\n",
       " <Residue GLY, 423>,\n",
       " <Residue ILE, 424>,\n",
       " <Residue PHE, 425>,\n",
       " <Residue ALA, 426>,\n",
       " <Residue GLY, 427>,\n",
       " <Residue VAL, 428>,\n",
       " <Residue TYR, 429>,\n",
       " <Residue TYR, 430>,\n",
       " <Residue TRP, 431>,\n",
       " <Residue ILE, 432>,\n",
       " <Residue GLY, 433>,\n",
       " <Residue LYS, 434>,\n",
       " <Residue MET, 435>,\n",
       " <Residue SER, 436>,\n",
       " <Residue GLY, 437>,\n",
       " <Residue ARG, 438>,\n",
       " <Residue GLN, 439>,\n",
       " <Residue TYR, 440>,\n",
       " <Residue PRO, 441>,\n",
       " <Residue GLU, 442>,\n",
       " <Residue TRP, 443>,\n",
       " <Residue ALA, 444>,\n",
       " <Residue GLY, 445>,\n",
       " <Residue GLN, 446>,\n",
       " <Residue LEU, 447>,\n",
       " <Residue HIS, 448>,\n",
       " <Residue PHE, 449>,\n",
       " <Residue TRP, 450>,\n",
       " <Residue MET, 451>,\n",
       " <Residue MET, 452>,\n",
       " <Residue PHE, 453>,\n",
       " <Residue ILE, 454>,\n",
       " <Residue GLY, 455>,\n",
       " <Residue SER, 456>,\n",
       " <Residue ASN, 457>,\n",
       " <Residue LEU, 458>,\n",
       " <Residue ILE, 459>,\n",
       " <Residue PHE, 460>,\n",
       " <Residue PHE, 461>,\n",
       " <Residue PRO, 462>,\n",
       " <Residue GLN, 463>,\n",
       " <Residue HIS, 464>,\n",
       " <Residue PHE, 465>,\n",
       " <Residue LEU, 466>,\n",
       " <Residue GLY, 467>,\n",
       " <Residue ARG, 468>,\n",
       " <Residue GLN, 469>,\n",
       " <Residue GLY, 470>,\n",
       " <Residue MET, 471>,\n",
       " <Residue PRO, 472>,\n",
       " <Residue ARG, 473>,\n",
       " <Residue ARG, 474>,\n",
       " <Residue TYR, 475>,\n",
       " <Residue ILE, 476>,\n",
       " <Residue ASP, 477>,\n",
       " <Residue TYR, 478>,\n",
       " <Residue PRO, 479>,\n",
       " <Residue VAL, 480>,\n",
       " <Residue GLU, 481>,\n",
       " <Residue PHE, 482>,\n",
       " <Residue ALA, 483>,\n",
       " <Residue TYR, 484>,\n",
       " <Residue TRP, 485>,\n",
       " <Residue ASN, 486>,\n",
       " <Residue ASN, 487>,\n",
       " <Residue ILE, 488>,\n",
       " <Residue SER, 489>,\n",
       " <Residue SER, 490>,\n",
       " <Residue ILE, 491>,\n",
       " <Residue GLY, 492>,\n",
       " <Residue ALA, 493>,\n",
       " <Residue TYR, 494>,\n",
       " <Residue ILE, 495>,\n",
       " <Residue SER, 496>,\n",
       " <Residue PHE, 497>,\n",
       " <Residue ALA, 498>,\n",
       " <Residue SER, 499>,\n",
       " <Residue PHE, 500>,\n",
       " <Residue LEU, 501>,\n",
       " <Residue PHE, 502>,\n",
       " <Residue PHE, 503>,\n",
       " <Residue ILE, 504>,\n",
       " <Residue GLY, 505>,\n",
       " <Residue ILE, 506>,\n",
       " <Residue VAL, 507>,\n",
       " <Residue PHE, 508>,\n",
       " <Residue TYR, 509>,\n",
       " <Residue THR, 510>,\n",
       " <Residue LEU, 511>,\n",
       " <Residue PHE, 512>,\n",
       " <Residue ALA, 513>,\n",
       " <Residue GLY, 514>,\n",
       " <Residue LYS, 515>,\n",
       " <Residue ARG, 516>,\n",
       " <Residue VAL, 517>,\n",
       " <Residue ASN, 518>,\n",
       " <Residue VAL, 519>,\n",
       " <Residue PRO, 520>,\n",
       " <Residue ASN, 521>,\n",
       " <Residue TYR, 522>,\n",
       " <Residue TRP, 523>,\n",
       " <Residue ASN, 524>,\n",
       " <Residue GLU, 525>,\n",
       " <Residue HIS, 526>,\n",
       " <Residue ALA, 527>,\n",
       " <Residue ASP, 528>,\n",
       " <Residue THR, 529>,\n",
       " <Residue LEU, 530>,\n",
       " <Residue GLU, 531>,\n",
       " <Residue TRP, 532>,\n",
       " <Residue THR, 533>,\n",
       " <Residue LEU, 534>,\n",
       " <Residue PRO, 535>,\n",
       " <Residue SER, 536>,\n",
       " <Residue PRO, 537>,\n",
       " <Residue PRO, 538>,\n",
       " <Residue PRO, 539>,\n",
       " <Residue GLU, 540>,\n",
       " <Residue HIS, 541>,\n",
       " <Residue THR, 542>,\n",
       " <Residue PHE, 543>,\n",
       " <Residue GLU, 544>,\n",
       " <Residue THR, 545>,\n",
       " <Residue GLN, 1>,\n",
       " <Residue ASP, 2>,\n",
       " <Residue VAL, 3>,\n",
       " <Residue LEU, 4>,\n",
       " <Residue GLY, 5>,\n",
       " <Residue ASP, 6>,\n",
       " <Residue LEU, 7>,\n",
       " <Residue PRO, 8>,\n",
       " <Residue VAL, 9>,\n",
       " <Residue ILE, 10>,\n",
       " <Residue GLY, 11>,\n",
       " <Residue LYS, 12>,\n",
       " <Residue PRO, 13>,\n",
       " <Residue VAL, 14>,\n",
       " <Residue ASN, 15>,\n",
       " <Residue GLY, 16>,\n",
       " <Residue GLY, 17>,\n",
       " <Residue MET, 18>,\n",
       " <Residue ASN, 19>,\n",
       " <Residue PHE, 20>,\n",
       " <Residue GLN, 21>,\n",
       " <Residue PRO, 22>,\n",
       " <Residue ALA, 23>,\n",
       " <Residue SER, 24>,\n",
       " <Residue SER, 25>,\n",
       " <Residue PRO, 26>,\n",
       " <Residue LEU, 27>,\n",
       " <Residue ALA, 28>,\n",
       " <Residue HIS, 29>,\n",
       " <Residue ASP, 30>,\n",
       " <Residue GLN, 31>,\n",
       " <Residue GLN, 32>,\n",
       " <Residue TRP, 33>,\n",
       " <Residue LEU, 34>,\n",
       " <Residue ASP, 35>,\n",
       " <Residue HIS, 36>,\n",
       " <Residue PHE, 37>,\n",
       " <Residue VAL, 38>,\n",
       " <Residue LEU, 39>,\n",
       " <Residue TYR, 40>,\n",
       " <Residue ILE, 41>,\n",
       " <Residue ILE, 42>,\n",
       " <Residue THR, 43>,\n",
       " <Residue ALA, 44>,\n",
       " <Residue VAL, 45>,\n",
       " <Residue THR, 46>,\n",
       " <Residue ILE, 47>,\n",
       " <Residue PHE, 48>,\n",
       " <Residue VAL, 49>,\n",
       " <Residue CYS, 50>,\n",
       " <Residue LEU, 51>,\n",
       " <Residue LEU, 52>,\n",
       " <Residue LEU, 53>,\n",
       " <Residue LEU, 54>,\n",
       " <Residue ILE, 55>,\n",
       " <Residue CYS, 56>,\n",
       " <Residue ILE, 57>,\n",
       " <Residue VAL, 58>,\n",
       " <Residue ARG, 59>,\n",
       " <Residue PHE, 60>,\n",
       " <Residue ASN, 61>,\n",
       " <Residue ARG, 62>,\n",
       " <Residue ARG, 63>,\n",
       " <Residue ALA, 64>,\n",
       " <Residue ASN, 65>,\n",
       " <Residue PRO, 66>,\n",
       " <Residue VAL, 67>,\n",
       " <Residue PRO, 68>,\n",
       " <Residue ALA, 69>,\n",
       " <Residue ARG, 70>,\n",
       " <Residue PHE, 71>,\n",
       " <Residue THR, 72>,\n",
       " <Residue HIS, 73>,\n",
       " <Residue ASN, 74>,\n",
       " <Residue THR, 75>,\n",
       " <Residue PRO, 76>,\n",
       " <Residue ILE, 77>,\n",
       " <Residue GLU, 78>,\n",
       " <Residue VAL, 79>,\n",
       " <Residue ILE, 80>,\n",
       " <Residue TRP, 81>,\n",
       " <Residue THR, 82>,\n",
       " <Residue LEU, 83>,\n",
       " <Residue VAL, 84>,\n",
       " <Residue PRO, 85>,\n",
       " <Residue VAL, 86>,\n",
       " <Residue LEU, 87>,\n",
       " <Residue ILE, 88>,\n",
       " <Residue LEU, 89>,\n",
       " <Residue VAL, 90>,\n",
       " <Residue ALA, 91>,\n",
       " <Residue ILE, 92>,\n",
       " <Residue GLY, 93>,\n",
       " <Residue ALA, 94>,\n",
       " <Residue PHE, 95>,\n",
       " <Residue SER, 96>,\n",
       " <Residue LEU, 97>,\n",
       " <Residue PRO, 98>,\n",
       " <Residue ILE, 99>,\n",
       " <Residue LEU, 100>,\n",
       " <Residue PHE, 101>,\n",
       " <Residue ARG, 102>,\n",
       " <Residue SER, 103>,\n",
       " <Residue GLN, 104>,\n",
       " <Residue GLU, 105>,\n",
       " <Residue MET, 106>,\n",
       " <Residue PRO, 107>,\n",
       " <Residue ASN, 108>,\n",
       " <Residue ASP, 109>,\n",
       " <Residue PRO, 110>,\n",
       " <Residue ASP, 111>,\n",
       " <Residue LEU, 112>,\n",
       " <Residue VAL, 113>,\n",
       " <Residue ILE, 114>,\n",
       " <Residue LYS, 115>,\n",
       " <Residue ALA, 116>,\n",
       " <Residue ILE, 117>,\n",
       " <Residue GLY, 118>,\n",
       " <Residue HIS, 119>,\n",
       " <Residue GLN, 120>,\n",
       " <Residue TRP, 121>,\n",
       " <Residue TYR, 122>,\n",
       " <Residue TRP, 123>,\n",
       " <Residue SER, 124>,\n",
       " <Residue TYR, 125>,\n",
       " <Residue GLU, 126>,\n",
       " <Residue TYR, 127>,\n",
       " <Residue PRO, 128>,\n",
       " <Residue ASN, 129>,\n",
       " <Residue ASP, 130>,\n",
       " <Residue GLY, 131>,\n",
       " <Residue VAL, 132>,\n",
       " <Residue ALA, 133>,\n",
       " <Residue PHE, 134>,\n",
       " <Residue ASP, 135>,\n",
       " <Residue ALA, 136>,\n",
       " <Residue LEU, 137>,\n",
       " <Residue MET, 138>,\n",
       " <Residue LEU, 139>,\n",
       " <Residue GLU, 140>,\n",
       " <Residue LYS, 141>,\n",
       " <Residue GLU, 142>,\n",
       " <Residue ALA, 143>,\n",
       " <Residue LEU, 144>,\n",
       " <Residue ALA, 145>,\n",
       " <Residue ASP, 146>,\n",
       " <Residue ALA, 147>,\n",
       " <Residue GLY, 148>,\n",
       " <Residue TYR, 149>,\n",
       " <Residue SER, 150>,\n",
       " <Residue GLU, 151>,\n",
       " <Residue ASP, 152>,\n",
       " <Residue GLU, 153>,\n",
       " <Residue TYR, 154>,\n",
       " <Residue LEU, 155>,\n",
       " <Residue LEU, 156>,\n",
       " <Residue ALA, 157>,\n",
       " <Residue THR, 158>,\n",
       " <Residue ASP, 159>,\n",
       " <Residue ASN, 160>,\n",
       " <Residue PRO, 161>,\n",
       " <Residue VAL, 162>,\n",
       " <Residue VAL, 163>,\n",
       " <Residue VAL, 164>,\n",
       " <Residue PRO, 165>,\n",
       " <Residue VAL, 166>,\n",
       " <Residue GLY, 167>,\n",
       " <Residue LYS, 168>,\n",
       " <Residue LYS, 169>,\n",
       " <Residue VAL, 170>,\n",
       " <Residue LEU, 171>,\n",
       " <Residue VAL, 172>,\n",
       " <Residue GLN, 173>,\n",
       " <Residue VAL, 174>,\n",
       " <Residue THR, 175>,\n",
       " <Residue ALA, 176>,\n",
       " <Residue THR, 177>,\n",
       " <Residue ASP, 178>,\n",
       " <Residue VAL, 179>,\n",
       " <Residue ILE, 180>,\n",
       " <Residue HIS, 181>,\n",
       " <Residue ALA, 182>,\n",
       " <Residue TRP, 183>,\n",
       " <Residue THR, 184>,\n",
       " <Residue ILE, 185>,\n",
       " <Residue PRO, 186>,\n",
       " <Residue ALA, 187>,\n",
       " <Residue PHE, 188>,\n",
       " <Residue ALA, 189>,\n",
       " <Residue VAL, 190>,\n",
       " <Residue LYS, 191>,\n",
       " <Residue GLN, 192>,\n",
       " <Residue ASP, 193>,\n",
       " <Residue ALA, 194>,\n",
       " <Residue VAL, 195>,\n",
       " <Residue PRO, 196>,\n",
       " <Residue GLY, 197>,\n",
       " <Residue ARG, 198>,\n",
       " <Residue ILE, 199>,\n",
       " <Residue ALA, 200>,\n",
       " <Residue GLN, 201>,\n",
       " <Residue LEU, 202>,\n",
       " <Residue TRP, 203>,\n",
       " <Residue PHE, 204>,\n",
       " <Residue SER, 205>,\n",
       " <Residue VAL, 206>,\n",
       " <Residue ASP, 207>,\n",
       " <Residue GLN, 208>,\n",
       " <Residue GLU, 209>,\n",
       " <Residue GLY, 210>,\n",
       " <Residue VAL, 211>,\n",
       " <Residue TYR, 212>,\n",
       " <Residue PHE, 213>,\n",
       " <Residue GLY, 214>,\n",
       " <Residue GLN, 215>,\n",
       " <Residue CYS, 216>,\n",
       " <Residue SER, 217>,\n",
       " <Residue GLU, 218>,\n",
       " <Residue LEU, 219>,\n",
       " <Residue CYS, 220>,\n",
       " <Residue GLY, 221>,\n",
       " <Residue ILE, 222>,\n",
       " <Residue ASN, 223>,\n",
       " <Residue HIS, 224>,\n",
       " <Residue ALA, 225>,\n",
       " <Residue TYR, 226>,\n",
       " <Residue MET, 227>,\n",
       " <Residue PRO, 228>,\n",
       " <Residue ILE, 229>,\n",
       " <Residue VAL, 230>,\n",
       " <Residue VAL, 231>,\n",
       " <Residue LYS, 232>,\n",
       " <Residue ALA, 233>,\n",
       " <Residue VAL, 234>,\n",
       " <Residue SER, 235>,\n",
       " <Residue GLN, 236>,\n",
       " <Residue GLU, 237>,\n",
       " <Residue LYS, 238>,\n",
       " <Residue TYR, 239>,\n",
       " <Residue GLU, 240>,\n",
       " <Residue ALA, 241>,\n",
       " <Residue TRP, 242>,\n",
       " <Residue LEU, 243>,\n",
       " <Residue ALA, 244>,\n",
       " <Residue GLY, 245>,\n",
       " <Residue ALA, 246>,\n",
       " <Residue LYS, 247>,\n",
       " <Residue GLU, 248>,\n",
       " <Residue GLU, 249>,\n",
       " <Residue PHE, 250>,\n",
       " <Residue ALA, 251>,\n",
       " <Residue ALA, 252>,\n",
       " <Residue GLU, 1>,\n",
       " <Residue VAL, 2>,\n",
       " <Residue LYS, 3>,\n",
       " <Residue LEU, 4>,\n",
       " <Residue GLN, 5>,\n",
       " <Residue GLU, 6>,\n",
       " <Residue SER, 7>,\n",
       " <Residue GLY, 8>,\n",
       " <Residue GLY, 9>,\n",
       " <Residue ASP, 10>,\n",
       " <Residue LEU, 11>,\n",
       " <Residue VAL, 12>,\n",
       " <Residue GLN, 13>,\n",
       " <Residue PRO, 14>,\n",
       " <Residue GLY, 15>,\n",
       " <Residue GLY, 16>,\n",
       " <Residue SER, 17>,\n",
       " <Residue LEU, 18>,\n",
       " <Residue LYS, 19>,\n",
       " <Residue LEU, 20>,\n",
       " <Residue SER, 21>,\n",
       " <Residue CYS, 22>,\n",
       " <Residue ALA, 23>,\n",
       " <Residue ALA, 24>,\n",
       " <Residue SER, 25>,\n",
       " <Residue GLY, 26>,\n",
       " <Residue PHE, 27>,\n",
       " <Residue THR, 28>,\n",
       " <Residue PHE, 29>,\n",
       " <Residue SER, 30>,\n",
       " <Residue SER, 31>,\n",
       " <Residue TYR, 32>,\n",
       " <Residue THR, 33>,\n",
       " <Residue MET, 34>,\n",
       " <Residue SER, 35>,\n",
       " <Residue TRP, 36>,\n",
       " <Residue VAL, 37>,\n",
       " <Residue ARG, 38>,\n",
       " <Residue GLN, 39>,\n",
       " <Residue THR, 40>,\n",
       " <Residue PRO, 41>,\n",
       " <Residue GLU, 42>,\n",
       " <Residue LYS, 43>,\n",
       " <Residue ARG, 44>,\n",
       " <Residue LEU, 45>,\n",
       " <Residue GLU, 46>,\n",
       " <Residue TRP, 47>,\n",
       " <Residue VAL, 48>,\n",
       " <Residue ALA, 49>,\n",
       " <Residue SER, 50>,\n",
       " <Residue ILE, 51>,\n",
       " <Residue ASN, 52>,\n",
       " <Residue ASN, 53>,\n",
       " <Residue GLY, 54>,\n",
       " <Residue GLY, 55>,\n",
       " <Residue GLY, 56>,\n",
       " <Residue ARG, 57>,\n",
       " <Residue THR, 58>,\n",
       " <Residue TYR, 59>,\n",
       " <Residue TYR, 60>,\n",
       " <Residue PRO, 61>,\n",
       " <Residue ASP, 62>,\n",
       " <Residue THR, 63>,\n",
       " <Residue VAL, 64>,\n",
       " <Residue LYS, 65>,\n",
       " <Residue GLY, 66>,\n",
       " <Residue ARG, 67>,\n",
       " <Residue PHE, 68>,\n",
       " <Residue THR, 69>,\n",
       " <Residue ILE, 70>,\n",
       " <Residue SER, 71>,\n",
       " <Residue ARG, 72>,\n",
       " <Residue ASP, 73>,\n",
       " <Residue ASN, 74>,\n",
       " <Residue ALA, 75>,\n",
       " <Residue LYS, 76>,\n",
       " <Residue ASN, 77>,\n",
       " <Residue THR, 78>,\n",
       " <Residue LEU, 79>,\n",
       " <Residue TYR, 80>,\n",
       " <Residue LEU, 81>,\n",
       " <Residue GLN, 82>,\n",
       " <Residue MET, 83>,\n",
       " <Residue SER, 84>,\n",
       " <Residue SER, 85>,\n",
       " <Residue LEU, 86>,\n",
       " <Residue LYS, 87>,\n",
       " <Residue SER, 88>,\n",
       " <Residue GLU, 89>,\n",
       " <Residue ASP, 90>,\n",
       " <Residue THR, 91>,\n",
       " <Residue ALA, 92>,\n",
       " <Residue MET, 93>,\n",
       " <Residue TYR, 94>,\n",
       " <Residue TYR, 95>,\n",
       " <Residue CYS, 96>,\n",
       " <Residue VAL, 97>,\n",
       " <Residue ARG, 98>,\n",
       " <Residue HIS, 99>,\n",
       " <Residue GLU, 100>,\n",
       " <Residue TYR, 101>,\n",
       " <Residue TYR, 102>,\n",
       " <Residue TYR, 103>,\n",
       " <Residue ALA, 104>,\n",
       " <Residue MET, 105>,\n",
       " <Residue ASP, 106>,\n",
       " <Residue TYR, 107>,\n",
       " <Residue TRP, 108>,\n",
       " <Residue GLY, 109>,\n",
       " <Residue GLN, 110>,\n",
       " <Residue GLY, 111>,\n",
       " <Residue THR, 112>,\n",
       " <Residue THR, 113>,\n",
       " <Residue VAL, 114>,\n",
       " <Residue THR, 115>,\n",
       " <Residue VAL, 116>,\n",
       " <Residue SER, 117>,\n",
       " <Residue SER, 118>,\n",
       " <Residue ASP, 1>,\n",
       " <Residue ILE, 2>,\n",
       " <Residue GLU, 3>,\n",
       " <Residue LEU, 4>,\n",
       " <Residue THR, 5>,\n",
       " <Residue GLN, 6>,\n",
       " <Residue THR, 7>,\n",
       " <Residue PRO, 8>,\n",
       " <Residue VAL, 9>,\n",
       " <Residue SER, 10>,\n",
       " <Residue LEU, 11>,\n",
       " <Residue SER, 12>,\n",
       " <Residue ALA, 13>,\n",
       " <Residue SER, 14>,\n",
       " <Residue VAL, 15>,\n",
       " <Residue GLY, 16>,\n",
       " <Residue GLU, 17>,\n",
       " <Residue THR, 18>,\n",
       " <Residue VAL, 19>,\n",
       " <Residue THR, 20>,\n",
       " <Residue ILE, 21>,\n",
       " <Residue THR, 22>,\n",
       " <Residue CYS, 23>,\n",
       " <Residue ARG, 24>,\n",
       " <Residue ALA, 25>,\n",
       " <Residue SER, 26>,\n",
       " <Residue GLU, 27>,\n",
       " <Residue ASN, 28>,\n",
       " <Residue ILE, 29>,\n",
       " <Residue TYR, 30>,\n",
       " <Residue SER, 31>,\n",
       " <Residue TYR, 32>,\n",
       " <Residue LEU, 33>,\n",
       " <Residue ALA, 34>,\n",
       " <Residue TRP, 35>,\n",
       " <Residue TYR, 36>,\n",
       " <Residue GLN, 37>,\n",
       " <Residue GLN, 38>,\n",
       " <Residue LYS, 39>,\n",
       " <Residue GLN, 40>,\n",
       " <Residue GLY, 41>,\n",
       " <Residue LYS, 42>,\n",
       " <Residue SER, 43>,\n",
       " <Residue PRO, 44>,\n",
       " <Residue GLN, 45>,\n",
       " <Residue PHE, 46>,\n",
       " <Residue LEU, 47>,\n",
       " <Residue VAL, 48>,\n",
       " <Residue TYR, 49>,\n",
       " <Residue ASN, 50>,\n",
       " <Residue ALA, 51>,\n",
       " <Residue LYS, 52>,\n",
       " <Residue THR, 53>,\n",
       " <Residue LEU, 54>,\n",
       " <Residue GLY, 55>,\n",
       " <Residue GLU, 56>,\n",
       " <Residue GLY, 57>,\n",
       " <Residue VAL, 58>,\n",
       " <Residue PRO, 59>,\n",
       " <Residue SER, 60>,\n",
       " <Residue ARG, 61>,\n",
       " <Residue PHE, 62>,\n",
       " <Residue SER, 63>,\n",
       " <Residue GLY, 64>,\n",
       " <Residue SER, 65>,\n",
       " <Residue GLY, 66>,\n",
       " <Residue SER, 67>,\n",
       " <Residue GLY, 68>,\n",
       " <Residue THR, 69>,\n",
       " <Residue GLN, 70>,\n",
       " <Residue PHE, 71>,\n",
       " <Residue SER, 72>,\n",
       " <Residue LEU, 73>,\n",
       " <Residue LYS, 74>,\n",
       " <Residue ILE, 75>,\n",
       " <Residue ASN, 76>,\n",
       " <Residue SER, 77>,\n",
       " <Residue LEU, 78>,\n",
       " <Residue LEU, 79>,\n",
       " <Residue PRO, 80>,\n",
       " <Residue GLU, 81>,\n",
       " <Residue ASP, 82>,\n",
       " <Residue PHE, 83>,\n",
       " <Residue GLY, 84>,\n",
       " <Residue SER, 85>,\n",
       " <Residue TYR, 86>,\n",
       " <Residue TYR, 87>,\n",
       " <Residue CYS, 88>,\n",
       " <Residue GLN, 89>,\n",
       " <Residue HIS, 90>,\n",
       " <Residue HIS, 91>,\n",
       " <Residue TYR, 92>,\n",
       " <Residue GLY, 93>,\n",
       " <Residue THR, 94>,\n",
       " <Residue PRO, 95>,\n",
       " <Residue PRO, 96>,\n",
       " <Residue LEU, 97>,\n",
       " <Residue THR, 98>,\n",
       " <Residue PHE, 99>,\n",
       " <Residue GLY, 100>,\n",
       " <Residue GLY, 101>,\n",
       " ...]"
      ]
     },
     "execution_count": 337,
     "metadata": {},
     "output_type": "execute_result"
    }
   ],
   "source": [
    "_3hb3_resids = _3hb3.select_atoms('backbone or name CA').residues\n",
    "list(_3hb3_resids)"
   ]
  },
  {
   "cell_type": "markdown",
   "metadata": {},
   "source": [
    "Comparing structures does not work because comparing lists of Residue objects does not work with regular pythonic ways. Therefore, the structures will be changed in a way, that chain names are more clear, and can be accessed more easily and less error prone. "
   ]
  },
  {
   "cell_type": "markdown",
   "metadata": {},
   "source": [
    "PDB Format:"
   ]
  },
  {
   "cell_type": "markdown",
   "metadata": {},
   "source": [
    "1 -  6         Record name   \"ATOM  \""
   ]
  },
  {
   "cell_type": "markdown",
   "metadata": {},
   "source": [
    "7 - 11         Integer       serial       Atom  serial number.\n"
   ]
  },
  {
   "cell_type": "markdown",
   "metadata": {},
   "source": [
    "13 - 16        Atom          name         Atom name.\n"
   ]
  },
  {
   "cell_type": "markdown",
   "metadata": {},
   "source": [
    "17             Character     altLoc       Alternate location indicator.\n"
   ]
  },
  {
   "cell_type": "markdown",
   "metadata": {},
   "source": [
    "18 - 20        Residue name  resName      Residue name.\n"
   ]
  },
  {
   "cell_type": "markdown",
   "metadata": {},
   "source": [
    "22             Character     chainID      Chain identifier.\n"
   ]
  },
  {
   "cell_type": "markdown",
   "metadata": {},
   "source": [
    "23 - 26        Integer       resSeq       Residue sequence number.\n"
   ]
  },
  {
   "cell_type": "markdown",
   "metadata": {},
   "source": [
    "27             AChar         iCode        Code for insertion of residues.\n"
   ]
  },
  {
   "cell_type": "markdown",
   "metadata": {},
   "source": [
    "31 - 38        Real(8.3)     x            Orthogonal coordinates for X in Angstroms.\n"
   ]
  },
  {
   "cell_type": "markdown",
   "metadata": {},
   "source": [
    "39 - 46        Real(8.3)     y            Orthogonal coordinates for Y in Angstroms.\n"
   ]
  },
  {
   "cell_type": "markdown",
   "metadata": {},
   "source": [
    "47 - 54        Real(8.3)     z            Orthogonal coordinates for Z in Angstroms.\n"
   ]
  },
  {
   "cell_type": "markdown",
   "metadata": {},
   "source": [
    "55 - 60        Real(6.2)     occupancy    Occupancy.\n"
   ]
  },
  {
   "cell_type": "markdown",
   "metadata": {},
   "source": [
    "61 - 66        Real(6.2)     tempFactor   Temperature  factor.\n"
   ]
  },
  {
   "cell_type": "markdown",
   "metadata": {},
   "source": [
    "77 - 78        LString(2)    element      Element symbol, right-justified.\n"
   ]
  },
  {
   "cell_type": "markdown",
   "metadata": {},
   "source": [
    "79 - 80        LString(2)    charge       Charge  on the atom.\n"
   ]
  },
  {
   "cell_type": "markdown",
   "metadata": {},
   "source": [
    "Using library pdb-tools to edit PDB files. "
   ]
  },
  {
   "cell_type": "code",
   "execution_count": 353,
   "metadata": {},
   "outputs": [],
   "source": [
    "from pdbtools import pdb_wc\n",
    "from pdbtools import pdb_delchain"
   ]
  },
  {
   "cell_type": "markdown",
   "metadata": {},
   "source": [
    "Syntax for use inside python programs not given in the program overview, or the github overview, so here it is:"
   ]
  },
  {
   "cell_type": "markdown",
   "metadata": {},
   "source": [
    "Syntax: info = function.checkinput(pdb-file)"
   ]
  },
  {
   "cell_type": "markdown",
   "metadata": {},
   "source": [
    "Syntax: variable = function.run(pdb-file, option='m')"
   ]
  },
  {
   "cell_type": "markdown",
   "metadata": {},
   "source": [
    "Example Syntax: info = pdb_wc.checkinput('x-ray/O-state/1ar1.pdb')"
   ]
  },
  {
   "cell_type": "markdown",
   "metadata": {},
   "source": [
    "Example Syntax: info = pdb_wc.run('x-ray/O-state/1ar1.pdb', option='m')"
   ]
  },
  {
   "cell_type": "code",
   "execution_count": 363,
   "metadata": {},
   "outputs": [
    {
     "name": "stderr",
     "output_type": "stream",
     "text": [
      "\n",
      "Deletes all atoms matching specific chains in the PDB file.\n",
      "\n",
      "Usage:\n",
      "    python pdb_delchain.py -<option> <pdb file>\n",
      "\n",
      "Example:\n",
      "    python pdb_delchain.py -A 1CTF.pdb  # removes chain A from PDB file\n",
      "    python pdb_delchain.py -A,B 1CTF.pdb  # removes chains A and B from PDB file\n",
      "\n",
      "This program is part of the `pdb-tools` suite of utilities and should not be\n",
      "distributed isolatedly. The `pdb-tools` were created to quickly manipulate PDB\n",
      "files using the terminal, and can be used sequentially, with one tool streaming\n",
      "data to another. They are based on old FORTRAN77 code that was taking too much\n",
      "effort to maintain and compile. RIP.\n"
     ]
    },
    {
     "ename": "SystemExit",
     "evalue": "1",
     "output_type": "error",
     "traceback": [
      "An exception has occurred, use %tb to see the full traceback.\n",
      "\u001b[0;31mSystemExit\u001b[0m\u001b[0;31m:\u001b[0m 1\n"
     ]
    },
    {
     "name": "stderr",
     "output_type": "stream",
     "text": [
      "/home/pbuser/miniconda3/envs/work/lib/python3.9/site-packages/IPython/core/interactiveshell.py:3452: UserWarning: To exit: use 'exit', 'quit', or Ctrl-D.\n",
      "  warn(\"To exit: use 'exit', 'quit', or Ctrl-D.\", stacklevel=1)\n"
     ]
    }
   ],
   "source": [
    "#_7au3_new = pdb_delchain.check_input('cEM/F-state/7au3.pdb')#, ('C','D'))"
   ]
  },
  {
   "cell_type": "code",
   "execution_count": 364,
   "metadata": {},
   "outputs": [
    {
     "name": "stdout",
     "output_type": "stream",
     "text": [
      "<generator object run at 0x7fc59ca81cf0>\n"
     ]
    }
   ],
   "source": [
    "#print(_7au3_new)"
   ]
  },
  {
   "cell_type": "markdown",
   "metadata": {},
   "source": [
    "Since many functions from pdb-tools do not work inside a jupyter notebook, we compile a bash script that does the analyis for us and then execute the bash file that calls on all the python files. The package has to be in a subdirectory of the folder where execution happens though. "
   ]
  },
  {
   "cell_type": "code",
   "execution_count": null,
   "metadata": {},
   "outputs": [],
   "source": []
  }
 ],
 "metadata": {
  "interpreter": {
   "hash": "2140ed94d7e985123a1a7c2e7e16e6e539e040772859bef8d97bb297edf06d90"
  },
  "kernelspec": {
   "display_name": "Python 3.9.7 64-bit ('work': conda)",
   "language": "python",
   "name": "python3"
  },
  "language_info": {
   "codemirror_mode": {
    "name": "ipython",
    "version": 3
   },
   "file_extension": ".py",
   "mimetype": "text/x-python",
   "name": "python",
   "nbconvert_exporter": "python",
   "pygments_lexer": "ipython3",
   "version": "3.9.7"
  },
  "orig_nbformat": 4
 },
 "nbformat": 4,
 "nbformat_minor": 2
}
