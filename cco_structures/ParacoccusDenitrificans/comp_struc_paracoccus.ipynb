{
 "cells": [
  {
   "cell_type": "code",
   "execution_count": 119,
   "metadata": {},
   "outputs": [],
   "source": [
    "import numpy as np\n",
    "import pandas as pd\n",
    "import matplotlib.pyplot as plt \n",
    "import seaborn as sns\n",
    "import MDAnalysis as mda \n",
    "import MDAnalysisTests as mdt \n",
    "import nglview as nv "
   ]
  },
  {
   "cell_type": "markdown",
   "metadata": {},
   "source": [
    "3HB3"
   ]
  },
  {
   "cell_type": "code",
   "execution_count": 120,
   "metadata": {},
   "outputs": [
    {
     "name": "stderr",
     "output_type": "stream",
     "text": [
      "/home/pbuser/miniconda3/envs/work/lib/python3.9/site-packages/MDAnalysis/topology/guessers.py:146: UserWarning: Failed to guess the mass for the following atom types: MN\n",
      "  warnings.warn(\"Failed to guess the mass for the following atom types: {}\".format(atom_type))\n"
     ]
    }
   ],
   "source": [
    "_3hb3 = mda.Universe('x-ray/3hb3.pdb')\n",
    "_3hb3.atoms\n",
    "#Check for atoms where the masses could not be guessed. (Not guessed masses are 0)\n",
    "#np.where(_3hb3.atoms.masses==0)[0]\n",
    "#check how to access MN atom\n",
    "mn_3hb3 = _3hb3.select_atoms('resname MN')\n",
    "#how do i change the mass of the Mn atom?"
   ]
  },
  {
   "cell_type": "markdown",
   "metadata": {},
   "source": [
    "1AR1"
   ]
  },
  {
   "cell_type": "code",
   "execution_count": 121,
   "metadata": {},
   "outputs": [],
   "source": [
    "_1ar1 = mda.Universe('x-ray/1ar1.pdb')"
   ]
  },
  {
   "cell_type": "markdown",
   "metadata": {},
   "source": [
    "7AU3"
   ]
  },
  {
   "cell_type": "code",
   "execution_count": 122,
   "metadata": {},
   "outputs": [
    {
     "name": "stderr",
     "output_type": "stream",
     "text": [
      "/home/pbuser/miniconda3/envs/work/lib/python3.9/site-packages/MDAnalysis/coordinates/PDB.py:429: UserWarning: 1 A^3 CRYST1 record, this is usually a placeholder. Unit cell dimensions will be set to None.\n",
      "  warnings.warn(\"1 A^3 CRYST1 record,\"\n"
     ]
    }
   ],
   "source": [
    "_7au3 = mda.Universe('cEM/F-state/7au3.pdb')\n",
    "#np.where(_7au3.atoms.masses==0)[0]\n",
    "mn_7au3 = _7au3.select_atoms('resname MN')\n",
    "#unit cell dimensions placeholder Warning can safely be ignored, \n",
    "#since unit cell dimensions specified in the PDB are (1.0,1.0,1.0,90,90,90)"
   ]
  },
  {
   "cell_type": "markdown",
   "metadata": {},
   "source": [
    "7AU6"
   ]
  },
  {
   "cell_type": "code",
   "execution_count": 123,
   "metadata": {},
   "outputs": [],
   "source": [
    "_7au6 = mda.Universe('cEM/O-state/7au6.pdb')\n",
    "#np.where(_7au6.atoms.masses==0)[0]\n",
    "#mn_7au6 = _7au6.select_atoms('resname MN')"
   ]
  },
  {
   "cell_type": "markdown",
   "metadata": {},
   "source": [
    "7ATE"
   ]
  },
  {
   "cell_type": "code",
   "execution_count": 124,
   "metadata": {},
   "outputs": [],
   "source": [
    "_7ate = mda.Universe('cEM/P-state/7ate.pdb')\n",
    "#np.where(_7ate.atoms.masses==0)[0]\n",
    "#mn_7ate = _7ate.select_atoms('resname MN')"
   ]
  },
  {
   "cell_type": "markdown",
   "metadata": {},
   "source": [
    "7ATN"
   ]
  },
  {
   "cell_type": "code",
   "execution_count": 125,
   "metadata": {},
   "outputs": [],
   "source": [
    "_7atn = mda.Universe('cEM/R-state/7atn.pdb')\n",
    "#np.where(_7atn.atoms.masses==0)[0]\n",
    "#mn_7atn = _7atn.select_atoms('resname MN')"
   ]
  },
  {
   "cell_type": "code",
   "execution_count": 126,
   "metadata": {},
   "outputs": [],
   "source": [
    "#list of all universes to iterate over\n",
    "strucs = [_3hb3, _1ar1, _7au3, _7au6, _7ate, _7atn]\n",
    "from MDAnalysis.analysis import rms \n",
    "from MDAnalysis.analysis import align \n",
    "from MDAnalysis.analysis import distances "
   ]
  },
  {
   "cell_type": "markdown",
   "metadata": {},
   "source": [
    "Align example structures"
   ]
  },
  {
   "cell_type": "code",
   "execution_count": 127,
   "metadata": {},
   "outputs": [
    {
     "name": "stdout",
     "output_type": "stream",
     "text": [
      "(44.012201540915676, 0.5560523324153217)\n"
     ]
    }
   ],
   "source": [
    "#merged_xray = mda.Merge(_3hb3.atoms, _1ar1.atoms)\n",
    "#nv.show_mdanalysis(merged_xray)\n",
    "aligned = align.alignto(_3hb3, _1ar1, select='backbone or name CA', match_atoms=True)\n",
    "print(aligned)\n",
    "#nv.show_mdanalysis(mda.Merge(_3hb3.atoms, _1ar1.atoms))"
   ]
  },
  {
   "cell_type": "markdown",
   "metadata": {},
   "source": [
    "Calculate RMSD of example structures"
   ]
  },
  {
   "cell_type": "code",
   "execution_count": 128,
   "metadata": {},
   "outputs": [
    {
     "name": "stdout",
     "output_type": "stream",
     "text": [
      "RMSD in Angstrom: 0.5558103525386527\n"
     ]
    }
   ],
   "source": [
    "RMSD = rms.rmsd(_3hb3.select_atoms('backbone').positions, _1ar1.select_atoms('backbone').positions, center=True, superposition=True)\n",
    "print(r'RMSD in Angstrom: '+str(RMSD))"
   ]
  },
  {
   "cell_type": "markdown",
   "metadata": {},
   "source": [
    "3HB3"
   ]
  },
  {
   "cell_type": "code",
   "execution_count": 129,
   "metadata": {},
   "outputs": [
    {
     "name": "stdout",
     "output_type": "stream",
     "text": [
      "<AtomGroup [<Atom 7957: FE of type FE of resname HEA, resid 559 and segid A and altLoc >, <Atom 8017: FE of type FE of resname HEA, resid 560 and segid A and altLoc >]>\n"
     ]
    }
   ],
   "source": [
    "heme_fe = _3hb3.select_atoms('name FE')\n",
    "print(heme_fe)"
   ]
  },
  {
   "cell_type": "code",
   "execution_count": 130,
   "metadata": {},
   "outputs": [
    {
     "name": "stdout",
     "output_type": "stream",
     "text": [
      "<AtomGroup [<Atom 7957: FE of type FE of resname HEA, resid 559 and segid A and altLoc >]> <AtomGroup [<Atom 8017: FE of type FE of resname HEA, resid 560 and segid A and altLoc >]> <AtomGroup [<Atom 8078: MN of type MN of resname MN, resid 562 and segid A and altLoc >]>\n"
     ]
    }
   ],
   "source": [
    "_3hb3_heme_a_fe = _3hb3.select_atoms('name FE and resid 559')\n",
    "_3hb3_heme_a3_fe = _3hb3.select_atoms('name FE and resid 560')\n",
    "_3hb3_mn = _3hb3.select_atoms('name MN')\n",
    "print(_3hb3_heme_a_fe, _3hb3_heme_a3_fe, _3hb3_mn)"
   ]
  },
  {
   "cell_type": "markdown",
   "metadata": {},
   "source": [
    "1AR1"
   ]
  },
  {
   "cell_type": "code",
   "execution_count": 131,
   "metadata": {},
   "outputs": [
    {
     "name": "stdout",
     "output_type": "stream",
     "text": [
      "<AtomGroup [<Atom 7926: FE of type FE of resname HEA, resid 562 and segid A and altLoc >, <Atom 7986: FE of type FE of resname HEA, resid 563 and segid A and altLoc >]>\n"
     ]
    }
   ],
   "source": [
    "heme_fe = _1ar1.select_atoms('name FE')\n",
    "print(heme_fe)"
   ]
  },
  {
   "cell_type": "code",
   "execution_count": 132,
   "metadata": {},
   "outputs": [
    {
     "name": "stdout",
     "output_type": "stream",
     "text": [
      "<AtomGroup [<Atom 7926: FE of type FE of resname HEA, resid 562 and segid A and altLoc >]> <AtomGroup [<Atom 7986: FE of type FE of resname HEA, resid 563 and segid A and altLoc >]> <AtomGroup [<Atom 7924: MG of type MG of resname MG, resid 560 and segid A and altLoc >]>\n"
     ]
    }
   ],
   "source": [
    "_1ar1_heme_a_fe = _1ar1.select_atoms('name FE and resid 562')\n",
    "_1ar1_heme_a3_fe = _1ar1.select_atoms('name FE and resid 563')\n",
    "_1ar1_mn = _1ar1.select_atoms('name MG')\n",
    "print(_1ar1_heme_a_fe, _1ar1_heme_a3_fe, _1ar1_mn)"
   ]
  },
  {
   "cell_type": "markdown",
   "metadata": {},
   "source": [
    "7AU3"
   ]
  },
  {
   "cell_type": "code",
   "execution_count": 133,
   "metadata": {},
   "outputs": [
    {
     "name": "stdout",
     "output_type": "stream",
     "text": [
      "<AtomGroup [<Atom 8673: FE of type FE of resname HEA, resid 602 and segid A and altLoc >, <Atom 8733: FE of type FE of resname HEA, resid 603 and segid A and altLoc >]>\n"
     ]
    }
   ],
   "source": [
    "heme_fe = _7au3.select_atoms('name FE')\n",
    "print(heme_fe)"
   ]
  },
  {
   "cell_type": "code",
   "execution_count": 134,
   "metadata": {},
   "outputs": [
    {
     "name": "stdout",
     "output_type": "stream",
     "text": [
      "<AtomGroup [<Atom 8673: FE of type FE of resname HEA, resid 602 and segid A and altLoc >]> <AtomGroup [<Atom 8733: FE of type FE of resname HEA, resid 603 and segid A and altLoc >]> <AtomGroup [<Atom 8672: MN of type MN of resname MN, resid 601 and segid A and altLoc >]>\n"
     ]
    }
   ],
   "source": [
    "_7au3_heme_a_fe = _7au3.select_atoms('name FE and resid 602')\n",
    "_7au3_heme_a3_fe = _7au3.select_atoms('name FE and resid 603')\n",
    "_7au3_mn = _7au3.select_atoms('name MN')\n",
    "print(_7au3_heme_a_fe, _7au3_heme_a3_fe, _7au3_mn)"
   ]
  },
  {
   "cell_type": "markdown",
   "metadata": {},
   "source": [
    "7AU6"
   ]
  },
  {
   "cell_type": "code",
   "execution_count": 135,
   "metadata": {},
   "outputs": [
    {
     "name": "stdout",
     "output_type": "stream",
     "text": [
      "<AtomGroup [<Atom 8643: FE of type FE of resname HEA, resid 601 and segid A and altLoc >, <Atom 8703: FE of type FE of resname HEA, resid 602 and segid A and altLoc >]>\n"
     ]
    }
   ],
   "source": [
    "heme_fe = _7au6.select_atoms('name FE')\n",
    "print(heme_fe)"
   ]
  },
  {
   "cell_type": "code",
   "execution_count": 136,
   "metadata": {},
   "outputs": [
    {
     "name": "stdout",
     "output_type": "stream",
     "text": [
      "<AtomGroup [<Atom 8643: FE of type FE of resname HEA, resid 601 and segid A and altLoc >]> <AtomGroup [<Atom 8703: FE of type FE of resname HEA, resid 602 and segid A and altLoc >]> <AtomGroup [<Atom 8779: MN of type MN of resname MN, resid 612 and segid A and altLoc >]>\n"
     ]
    }
   ],
   "source": [
    "_7au6_heme_a_fe = _7au6.select_atoms('name FE and resid 601')\n",
    "_7au6_heme_a3_fe = _7au6.select_atoms('name FE and resid 602')\n",
    "_7au6_mn = _7au6.select_atoms('name MN')\n",
    "print(_7au6_heme_a_fe, _7au6_heme_a3_fe, _7au6_mn)"
   ]
  },
  {
   "cell_type": "markdown",
   "metadata": {},
   "source": [
    "7ATE"
   ]
  },
  {
   "cell_type": "code",
   "execution_count": 137,
   "metadata": {},
   "outputs": [
    {
     "name": "stdout",
     "output_type": "stream",
     "text": [
      "<AtomGroup [<Atom 8693: FE of type FE of resname HEA, resid 602 and segid A and altLoc >, <Atom 8753: FE of type FE of resname HEA, resid 603 and segid A and altLoc >]>\n"
     ]
    }
   ],
   "source": [
    "heme_fe = _7ate.select_atoms('name FE')\n",
    "print(heme_fe)"
   ]
  },
  {
   "cell_type": "code",
   "execution_count": 138,
   "metadata": {},
   "outputs": [
    {
     "name": "stdout",
     "output_type": "stream",
     "text": [
      "<AtomGroup [<Atom 8693: FE of type FE of resname HEA, resid 602 and segid A and altLoc >]> <AtomGroup [<Atom 8753: FE of type FE of resname HEA, resid 603 and segid A and altLoc >]> <AtomGroup [<Atom 8692: MN of type MN of resname MN, resid 601 and segid A and altLoc >]>\n"
     ]
    }
   ],
   "source": [
    "_7ate_heme_a_fe = _7ate.select_atoms('name FE and resid 602')\n",
    "_7ate_heme_a3_fe = _7ate.select_atoms('name FE and resid 603')\n",
    "_7ate_mn = _7ate.select_atoms('name MN')\n",
    "print(_7ate_heme_a_fe, _7ate_heme_a3_fe, _7ate_mn)"
   ]
  },
  {
   "cell_type": "markdown",
   "metadata": {},
   "source": [
    "7ATN"
   ]
  },
  {
   "cell_type": "code",
   "execution_count": 139,
   "metadata": {},
   "outputs": [
    {
     "name": "stdout",
     "output_type": "stream",
     "text": [
      "<AtomGroup [<Atom 8691: FE of type FE of resname HEA, resid 602 and segid A and altLoc >, <Atom 8753: FE of type FE of resname HEA, resid 605 and segid A and altLoc >]>\n"
     ]
    }
   ],
   "source": [
    "heme_fe = _7atn.select_atoms('name FE')\n",
    "print(heme_fe)"
   ]
  },
  {
   "cell_type": "code",
   "execution_count": 140,
   "metadata": {},
   "outputs": [
    {
     "name": "stdout",
     "output_type": "stream",
     "text": [
      "<AtomGroup [<Atom 8691: FE of type FE of resname HEA, resid 602 and segid A and altLoc >]> <AtomGroup []> <AtomGroup [<Atom 8690: MN of type MN of resname MN, resid 601 and segid A and altLoc >]>\n"
     ]
    }
   ],
   "source": [
    "_7atn_heme_a_fe = _7atn.select_atoms('name FE and resid 602')\n",
    "_7atn_heme_a3_fe = _7atn.select_atoms('name FE and resid 603')\n",
    "_7atn_mn = _7atn.select_atoms('name MN')\n",
    "print(_7atn_heme_a_fe, _7atn_heme_a3_fe, _7atn_mn)"
   ]
  },
  {
   "cell_type": "code",
   "execution_count": 141,
   "metadata": {},
   "outputs": [],
   "source": [
    "list_3hb3 = [_3hb3_heme_a_fe, _3hb3_heme_a3_fe, _3hb3_mn]\n",
    "list_1ar1 = [_1ar1_heme_a_fe, _1ar1_heme_a3_fe, _1ar1_mn]\n",
    "list_7au3 = [_7au3_heme_a_fe, _7au3_heme_a3_fe, _7au3_mn]\n",
    "list_7au6 = [_7au6_heme_a_fe, _7au6_heme_a3_fe, _7au6_mn]\n",
    "list_7ate = [_7ate_heme_a_fe, _7ate_heme_a3_fe, _7ate_mn]\n",
    "list_7atn = [_7atn_heme_a_fe, _7atn_heme_a3_fe, _7atn_mn]"
   ]
  },
  {
   "cell_type": "code",
   "execution_count": 149,
   "metadata": {},
   "outputs": [
    {
     "data": {
      "text/plain": [
       "array([13.27784087, 15.89315501, 17.05671829, 19.45729233, 22.13413773,\n",
       "        4.62071194, 14.11816272, 21.99756148, 24.25571142, 13.19991473,\n",
       "       21.8106377 , 23.76206633,  9.32050189, 10.90242615,  2.7350118 ])"
      ]
     },
     "execution_count": 149,
     "metadata": {},
     "output_type": "execute_result"
    }
   ],
   "source": [
    "dist_3hb3 = distances.self_distance_array(_3hb3.select_atoms('name FE or name MN or name CU').positions)\n",
    "dist_3hb3\n",
    "#iron(heme a) - iron(heme a3), iron(heme a) - MN, iron(heme a3) - MN, 270 CU - iron heme a3, 271 Cu - iron heme a3, \n",
    "# Cu 561 - iron heme a, 560 fe - mn, 560 fe 270 cu, 560 fe 271 cu, 561 cu - mn\n",
    "# Cu 561 - 270 Cu, 561 cu - 271 cu, mn - 270 cu, mn - 271 cu, 270 cu - 271 cu"
   ]
  },
  {
   "cell_type": "code",
   "execution_count": 143,
   "metadata": {},
   "outputs": [
    {
     "name": "stdout",
     "output_type": "stream",
     "text": [
      "<AtomGroup [<Atom 7957: FE of type FE of resname HEA, resid 559 and segid A and altLoc >, <Atom 8017: FE of type FE of resname HEA, resid 560 and segid A and altLoc >, <Atom 8078: MN of type MN of resname MN, resid 562 and segid A and altLoc >]>\n"
     ]
    }
   ],
   "source": [
    "print(_3hb3.select_atoms('name FE or name MN'))"
   ]
  },
  {
   "cell_type": "markdown",
   "metadata": {},
   "source": [
    "Find out which distance in self_distance_array is which, when selection worded like above"
   ]
  },
  {
   "cell_type": "code",
   "execution_count": 144,
   "metadata": {},
   "outputs": [
    {
     "data": {
      "text/plain": [
       "array([[17.05671812],\n",
       "       [14.11816271]])"
      ]
     },
     "execution_count": 144,
     "metadata": {},
     "output_type": "execute_result"
    }
   ],
   "source": [
    "fe_3hb3 = _3hb3.select_atoms('name FE')\n",
    "mn_3hb3 = _3hb3.select_atoms('name MN')\n",
    "distances.distance_array(fe_3hb3.positions, mn_3hb3.positions, box=_3hb3.dimensions)\n",
    "#distances.distance_array(fe_3hb3.positions, fe_3hb3.positions, box=_3hb3.dimensions)"
   ]
  },
  {
   "cell_type": "code",
   "execution_count": 145,
   "metadata": {},
   "outputs": [
    {
     "data": {
      "text/plain": [
       "array(['O', '13.277840874751718', '17.056718290347394',\n",
       "       '14.118162717303361'], dtype='<U32')"
      ]
     },
     "execution_count": 145,
     "metadata": {},
     "output_type": "execute_result"
    }
   ],
   "source": [
    "np.append(np.array('O'), dist_3hb3)"
   ]
  },
  {
   "cell_type": "code",
   "execution_count": 153,
   "metadata": {},
   "outputs": [
    {
     "data": {
      "text/html": [
       "<div>\n",
       "<style scoped>\n",
       "    .dataframe tbody tr th:only-of-type {\n",
       "        vertical-align: middle;\n",
       "    }\n",
       "\n",
       "    .dataframe tbody tr th {\n",
       "        vertical-align: top;\n",
       "    }\n",
       "\n",
       "    .dataframe thead th {\n",
       "        text-align: right;\n",
       "    }\n",
       "</style>\n",
       "<table border=\"1\" class=\"dataframe\">\n",
       "  <thead>\n",
       "    <tr style=\"text-align: right;\">\n",
       "      <th></th>\n",
       "      <th>state</th>\n",
       "      <th>Fe(a) - Fe(a3)</th>\n",
       "      <th>Fe(a) - Mn/Mg</th>\n",
       "      <th>Fe(a3) - Mn/Mg</th>\n",
       "      <th>Cu_A1 - Fe(a3)</th>\n",
       "      <th>Cu_A2 - Fe(a3)</th>\n",
       "      <th>Cu_B - Fe(a)</th>\n",
       "      <th>Fe(a3) - MG/MN</th>\n",
       "      <th>Fe(a3) - Cu_A1</th>\n",
       "      <th>Fe(a3) - Cu_A2</th>\n",
       "      <th>Cu_B - Mn/Mg</th>\n",
       "      <th>Cu_B - Cu_A1</th>\n",
       "      <th>Cu_B - Cu_A2</th>\n",
       "      <th>Mn/Mg - Cu_A2</th>\n",
       "      <th>Mn/Mg - Cu_A1</th>\n",
       "      <th>Cu_A1 - Cu_A2</th>\n",
       "    </tr>\n",
       "  </thead>\n",
       "  <tbody>\n",
       "    <tr>\n",
       "      <th>3HB3</th>\n",
       "      <td>O</td>\n",
       "      <td>13.277840874751718</td>\n",
       "      <td>15.893155013454123</td>\n",
       "      <td>17.056718290347394</td>\n",
       "      <td>19.45729232567879</td>\n",
       "      <td>22.13413772891621</td>\n",
       "      <td>4.620711939080564</td>\n",
       "      <td>14.118162717303361</td>\n",
       "      <td>21.99756148312899</td>\n",
       "      <td>24.255711422131633</td>\n",
       "      <td>13.19991473120243</td>\n",
       "      <td>21.810637697202232</td>\n",
       "      <td>23.762066329985718</td>\n",
       "      <td>9.320501892208839</td>\n",
       "      <td>10.902426148415381</td>\n",
       "      <td>2.7350117995475656</td>\n",
       "    </tr>\n",
       "    <tr>\n",
       "      <th>1AR1</th>\n",
       "      <td>O</td>\n",
       "      <td>13.473607189592569</td>\n",
       "      <td>15.338440392860019</td>\n",
       "      <td>4.455524211906863</td>\n",
       "      <td>21.86765422257275</td>\n",
       "      <td>23.48671915115191</td>\n",
       "      <td>16.580954678405433</td>\n",
       "      <td>14.28779573433909</td>\n",
       "      <td>9.006876537393781</td>\n",
       "      <td>10.32589577338658</td>\n",
       "      <td>13.1413717762489</td>\n",
       "      <td>19.4754697783197</td>\n",
       "      <td>21.933159881227937</td>\n",
       "      <td>22.193960743964883</td>\n",
       "      <td>24.109586757739237</td>\n",
       "      <td>2.5452444816437287</td>\n",
       "    </tr>\n",
       "    <tr>\n",
       "      <th>7AU3</th>\n",
       "      <td>F</td>\n",
       "      <td>16.796761757479654</td>\n",
       "      <td>14.212012782785207</td>\n",
       "      <td>13.183533897294945</td>\n",
       "      <td>9.319262184914082</td>\n",
       "      <td>10.710414343356609</td>\n",
       "      <td>13.360880458079311</td>\n",
       "      <td>15.821935298101156</td>\n",
       "      <td>19.37285177915332</td>\n",
       "      <td>21.952174291712055</td>\n",
       "      <td>4.462446620285363</td>\n",
       "      <td>22.134563898575674</td>\n",
       "      <td>24.23814571967684</td>\n",
       "      <td>21.91568959331642</td>\n",
       "      <td>23.669252353081784</td>\n",
       "      <td>2.7307145850803436</td>\n",
       "    </tr>\n",
       "    <tr>\n",
       "      <th>7AU6</th>\n",
       "      <td>O</td>\n",
       "      <td>13.198579903539796</td>\n",
       "      <td>16.02582739845232</td>\n",
       "      <td>16.874577057804608</td>\n",
       "      <td>19.496896034907856</td>\n",
       "      <td>22.072102246965642</td>\n",
       "      <td>4.660330508508928</td>\n",
       "      <td>14.003897586360367</td>\n",
       "      <td>21.764737550327954</td>\n",
       "      <td>24.052710350848294</td>\n",
       "      <td>13.003037726860024</td>\n",
       "      <td>21.498045572432424</td>\n",
       "      <td>23.518810400496378</td>\n",
       "      <td>8.994717097129625</td>\n",
       "      <td>10.730920645393642</td>\n",
       "      <td>2.618770440494295</td>\n",
       "    </tr>\n",
       "    <tr>\n",
       "      <th>7ATE</th>\n",
       "      <td>P</td>\n",
       "      <td>16.81747375569444</td>\n",
       "      <td>13.967247672867101</td>\n",
       "      <td>12.961699045571441</td>\n",
       "      <td>9.180417385461864</td>\n",
       "      <td>10.892372019580153</td>\n",
       "      <td>13.228668431994347</td>\n",
       "      <td>15.971221834436818</td>\n",
       "      <td>19.432038372352896</td>\n",
       "      <td>22.04446434926845</td>\n",
       "      <td>4.673110652466655</td>\n",
       "      <td>21.85731357305884</td>\n",
       "      <td>24.161357898077792</td>\n",
       "      <td>21.60939850980943</td>\n",
       "      <td>23.607814447024115</td>\n",
       "      <td>2.695562923425543</td>\n",
       "    </tr>\n",
       "    <tr>\n",
       "      <th>7ATN</th>\n",
       "      <td>R</td>\n",
       "      <td>16.85996414081963</td>\n",
       "      <td>13.085282722169797</td>\n",
       "      <td>14.190758540856377</td>\n",
       "      <td>9.582696199729295</td>\n",
       "      <td>10.593261990370793</td>\n",
       "      <td>15.25316430029518</td>\n",
       "      <td>12.990196209532463</td>\n",
       "      <td>19.6947454986504</td>\n",
       "      <td>22.297626591515673</td>\n",
       "      <td>3.8824061240160765</td>\n",
       "      <td>21.985083171306385</td>\n",
       "      <td>23.46443283111887</td>\n",
       "      <td>22.37758862102904</td>\n",
       "      <td>24.177510646493428</td>\n",
       "      <td>2.7494056943855307</td>\n",
       "    </tr>\n",
       "  </tbody>\n",
       "</table>\n",
       "</div>"
      ],
      "text/plain": [
       "     state      Fe(a) - Fe(a3)       Fe(a) - Mn/Mg      Fe(a3) - Mn/Mg  \\\n",
       "3HB3     O  13.277840874751718  15.893155013454123  17.056718290347394   \n",
       "1AR1     O  13.473607189592569  15.338440392860019   4.455524211906863   \n",
       "7AU3     F  16.796761757479654  14.212012782785207  13.183533897294945   \n",
       "7AU6     O  13.198579903539796   16.02582739845232  16.874577057804608   \n",
       "7ATE     P   16.81747375569444  13.967247672867101  12.961699045571441   \n",
       "7ATN     R   16.85996414081963  13.085282722169797  14.190758540856377   \n",
       "\n",
       "          Cu_A1 - Fe(a3)      Cu_A2 - Fe(a3)        Cu_B - Fe(a)  \\\n",
       "3HB3   19.45729232567879   22.13413772891621   4.620711939080564   \n",
       "1AR1   21.86765422257275   23.48671915115191  16.580954678405433   \n",
       "7AU3   9.319262184914082  10.710414343356609  13.360880458079311   \n",
       "7AU6  19.496896034907856  22.072102246965642   4.660330508508928   \n",
       "7ATE   9.180417385461864  10.892372019580153  13.228668431994347   \n",
       "7ATN   9.582696199729295  10.593261990370793   15.25316430029518   \n",
       "\n",
       "          Fe(a3) - MG/MN      Fe(a3) - Cu_A1      Fe(a3) - Cu_A2  \\\n",
       "3HB3  14.118162717303361   21.99756148312899  24.255711422131633   \n",
       "1AR1   14.28779573433909   9.006876537393781   10.32589577338658   \n",
       "7AU3  15.821935298101156   19.37285177915332  21.952174291712055   \n",
       "7AU6  14.003897586360367  21.764737550327954  24.052710350848294   \n",
       "7ATE  15.971221834436818  19.432038372352896   22.04446434926845   \n",
       "7ATN  12.990196209532463    19.6947454986504  22.297626591515673   \n",
       "\n",
       "            Cu_B - Mn/Mg        Cu_B - Cu_A1        Cu_B - Cu_A2  \\\n",
       "3HB3   13.19991473120243  21.810637697202232  23.762066329985718   \n",
       "1AR1    13.1413717762489    19.4754697783197  21.933159881227937   \n",
       "7AU3   4.462446620285363  22.134563898575674   24.23814571967684   \n",
       "7AU6  13.003037726860024  21.498045572432424  23.518810400496378   \n",
       "7ATE   4.673110652466655   21.85731357305884  24.161357898077792   \n",
       "7ATN  3.8824061240160765  21.985083171306385   23.46443283111887   \n",
       "\n",
       "           Mn/Mg - Cu_A2       Mn/Mg - Cu_A1       Cu_A1 - Cu_A2  \n",
       "3HB3   9.320501892208839  10.902426148415381  2.7350117995475656  \n",
       "1AR1  22.193960743964883  24.109586757739237  2.5452444816437287  \n",
       "7AU3   21.91568959331642  23.669252353081784  2.7307145850803436  \n",
       "7AU6   8.994717097129625  10.730920645393642   2.618770440494295  \n",
       "7ATE   21.60939850980943  23.607814447024115   2.695562923425543  \n",
       "7ATN   22.37758862102904  24.177510646493428  2.7494056943855307  "
      ]
     },
     "execution_count": 153,
     "metadata": {},
     "output_type": "execute_result"
    }
   ],
   "source": [
    "#iron(heme a) - iron(heme a3), iron(heme a) - MN, iron(heme a3) - MN \n",
    "dist_3hb3 = distances.self_distance_array(_3hb3.select_atoms('name FE or name MN or name CU').positions)\n",
    "dist_3hb3 = np.append(np.array('O'), dist_3hb3)\n",
    "\n",
    "dist_1ar1 = distances.self_distance_array(_1ar1.select_atoms('name FE or name MG or name CU').positions)\n",
    "dist_1ar1 = np.append(np.array('O'), dist_1ar1)\n",
    "\n",
    "dist_7au3 = distances.self_distance_array(_7au3.select_atoms('name FE or name MN or name CU or name CU1 or name CU2').positions)\n",
    "dist_7au3 = np.append(np.array('F'), dist_7au3)\n",
    "\n",
    "dist_7au6 = distances.self_distance_array(_7au6.select_atoms('name FE or name MN or name CU or name CU1 or name CU2').positions)\n",
    "dist_7au6 = np.append(np.array('O'), dist_7au6)\n",
    "\n",
    "dist_7ate = distances.self_distance_array(_7ate.select_atoms('name FE or name MN or name CU or name CU1 or name CU2').positions)\n",
    "dist_7ate = np.append(np.array('P'), dist_7ate)\n",
    "\n",
    "dist_7atn = distances.self_distance_array(_7atn.select_atoms('name FE or name MN or name CU or name CU1 or name CU2').positions)\n",
    "dist_7atn = np.append(np.array('R'), dist_7atn)\n",
    "\n",
    "#print(dist_3hb3, dist_1ar1, dist_7au3, dist_7au6, dist_7ate, dist_7atn)\n",
    "dist = pd.DataFrame([dist_3hb3, dist_1ar1, dist_7au3, dist_7au6, dist_7ate, dist_7atn], index=['3HB3', '1AR1', '7AU3', '7AU6', '7ATE', '7ATN'], columns=['state', 'Fe(a) - Fe(a3)', 'Fe(a) - Mn/Mg', 'Fe(a3) - Mn/Mg', 'Cu_A1 - Fe(a3)', 'Cu_A2 - Fe(a3)', 'Cu_B - Fe(a)', 'Fe(a3) - MG/MN', 'Fe(a3) - Cu_A1', 'Fe(a3) - Cu_A2', 'Cu_B - Mn/Mg', 'Cu_B - Cu_A1', 'Cu_B - Cu_A2', 'Mn/Mg - Cu_A2', 'Mn/Mg - Cu_A1', 'Cu_A1 - Cu_A2'])\n",
    "dist"
   ]
  },
  {
   "cell_type": "code",
   "execution_count": null,
   "metadata": {},
   "outputs": [],
   "source": [
    "#iron(heme a) - iron(heme a3), iron(heme a) - MN, iron(heme a3) - MN, 270 CU - iron heme a3, 271 Cu - iron heme a3, \n",
    "# Cu 561 - iron heme a, 560 fe - mn, 560 fe 270 cu, 560 fe 270 cu, 561 cu - mn\n",
    "# Cu 561 - 270 Cu, 561 cu - 271 cu, mn - 270 cu, mn - 271 cu, 270 cu - 271 cu"
   ]
  }
 ],
 "metadata": {
  "interpreter": {
   "hash": "2140ed94d7e985123a1a7c2e7e16e6e539e040772859bef8d97bb297edf06d90"
  },
  "kernelspec": {
   "display_name": "Python 3.9.7 64-bit ('work': conda)",
   "language": "python",
   "name": "python3"
  },
  "language_info": {
   "codemirror_mode": {
    "name": "ipython",
    "version": 3
   },
   "file_extension": ".py",
   "mimetype": "text/x-python",
   "name": "python",
   "nbconvert_exporter": "python",
   "pygments_lexer": "ipython3",
   "version": "3.9.7"
  },
  "orig_nbformat": 4
 },
 "nbformat": 4,
 "nbformat_minor": 2
}
