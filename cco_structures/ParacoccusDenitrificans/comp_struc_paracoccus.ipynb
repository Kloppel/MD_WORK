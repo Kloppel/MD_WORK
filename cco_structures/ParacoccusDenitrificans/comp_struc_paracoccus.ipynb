{
 "cells": [
  {
   "cell_type": "code",
   "execution_count": 39,
   "metadata": {},
   "outputs": [],
   "source": [
    "import numpy as np\n",
    "import pandas as pd\n",
    "import matplotlib.pyplot as plt \n",
    "import seaborn as sns\n",
    "import MDAnalysis as mda \n",
    "import MDAnalysisTests as mdt \n",
    "import nglview as nv "
   ]
  },
  {
   "cell_type": "markdown",
   "metadata": {},
   "source": [
    "3HB3"
   ]
  },
  {
   "cell_type": "code",
   "execution_count": 3,
   "metadata": {},
   "outputs": [
    {
     "name": "stderr",
     "output_type": "stream",
     "text": [
      "/home/pbuser/miniconda3/envs/work/lib/python3.9/site-packages/MDAnalysis/topology/guessers.py:146: UserWarning: Failed to guess the mass for the following atom types: MN\n",
      "  warnings.warn(\"Failed to guess the mass for the following atom types: {}\".format(atom_type))\n"
     ]
    },
    {
     "data": {
      "text/plain": [
       "<AtomGroup with 9393 atoms>"
      ]
     },
     "execution_count": 3,
     "metadata": {},
     "output_type": "execute_result"
    }
   ],
   "source": [
    "_3hb3 = mda.Universe('x-ray/3hb3.pdb')\n",
    "_3hb3.atoms\n",
    "#Check for atoms where the masses could not be guessed. (Not guessed masses are 0)\n",
    "#np.where(_3hb3.atoms.masses==0)[0]\n",
    "#check how to access MN atom\n",
    "mn_3hb3 = _3hb3.select_atoms('resname MN')\n",
    "#how do i change the mass of the Mn atom?"
   ]
  },
  {
   "cell_type": "markdown",
   "metadata": {},
   "source": [
    "1AR1"
   ]
  },
  {
   "cell_type": "code",
   "execution_count": 12,
   "metadata": {},
   "outputs": [
    {
     "data": {
      "text/plain": [
       "<Universe with 8243 atoms>"
      ]
     },
     "execution_count": 12,
     "metadata": {},
     "output_type": "execute_result"
    }
   ],
   "source": [
    "_1ar1 = mda.Universe('x-ray/1ar1.pdb')"
   ]
  },
  {
   "cell_type": "markdown",
   "metadata": {},
   "source": [
    "7AU3"
   ]
  },
  {
   "cell_type": "code",
   "execution_count": 17,
   "metadata": {},
   "outputs": [
    {
     "name": "stderr",
     "output_type": "stream",
     "text": [
      "/home/pbuser/miniconda3/envs/work/lib/python3.9/site-packages/MDAnalysis/topology/guessers.py:146: UserWarning: Failed to guess the mass for the following atom types: MN\n",
      "  warnings.warn(\"Failed to guess the mass for the following atom types: {}\".format(atom_type))\n",
      "/home/pbuser/miniconda3/envs/work/lib/python3.9/site-packages/MDAnalysis/coordinates/PDB.py:429: UserWarning: 1 A^3 CRYST1 record, this is usually a placeholder. Unit cell dimensions will be set to None.\n",
      "  warnings.warn(\"1 A^3 CRYST1 record,\"\n"
     ]
    }
   ],
   "source": [
    "_7au3 = mda.Universe('cEM/F-state/7au3.pdb')\n",
    "#np.where(_7au3.atoms.masses==0)[0]\n",
    "mn_7au3 = _7au3.select_atoms('resname MN')\n",
    "#unit cell dimensions placeholder Warning can safely be ignored, \n",
    "#since unit cell dimensions specified in the PDB are (1.0,1.0,1.0,90,90,90)"
   ]
  },
  {
   "cell_type": "markdown",
   "metadata": {},
   "source": [
    "7AU6"
   ]
  },
  {
   "cell_type": "code",
   "execution_count": 20,
   "metadata": {},
   "outputs": [
    {
     "name": "stderr",
     "output_type": "stream",
     "text": [
      "/home/pbuser/miniconda3/envs/work/lib/python3.9/site-packages/MDAnalysis/topology/guessers.py:146: UserWarning: Failed to guess the mass for the following atom types: MN\n",
      "  warnings.warn(\"Failed to guess the mass for the following atom types: {}\".format(atom_type))\n",
      "/home/pbuser/miniconda3/envs/work/lib/python3.9/site-packages/MDAnalysis/coordinates/PDB.py:429: UserWarning: 1 A^3 CRYST1 record, this is usually a placeholder. Unit cell dimensions will be set to None.\n",
      "  warnings.warn(\"1 A^3 CRYST1 record,\"\n"
     ]
    }
   ],
   "source": [
    "_7au6 = mda.Universe('cEM/O-state/7au6.pdb')\n",
    "#np.where(_7au6.atoms.masses==0)[0]\n",
    "#mn_7au6 = _7au6.select_atoms('resname MN')"
   ]
  },
  {
   "cell_type": "markdown",
   "metadata": {},
   "source": [
    "7ATE"
   ]
  },
  {
   "cell_type": "code",
   "execution_count": 22,
   "metadata": {},
   "outputs": [],
   "source": [
    "_7ate = mda.Universe('cEM/P-state/7ate.pdb')\n",
    "#np.where(_7ate.atoms.masses==0)[0]\n",
    "#mn_7ate = _7ate.select_atoms('resname MN')"
   ]
  },
  {
   "cell_type": "markdown",
   "metadata": {},
   "source": [
    "7ATN"
   ]
  },
  {
   "cell_type": "code",
   "execution_count": 24,
   "metadata": {},
   "outputs": [],
   "source": [
    "_7atn = mda.Universe('cEM/R-state/7atn.pdb')\n",
    "#np.where(_7atn.atoms.masses==0)[0]\n",
    "#mn_7atn = _7atn.select_atoms('resname MN')"
   ]
  },
  {
   "cell_type": "code",
   "execution_count": 35,
   "metadata": {},
   "outputs": [],
   "source": [
    "#list of all universes to iterate over\n",
    "strucs = [_3hb3, _1ar1, _7au3, _7au6, _7ate, _7atn]\n",
    "from MDAnalysis.analysis import rms \n",
    "from MDAnalysis.analysis import align "
   ]
  },
  {
   "cell_type": "markdown",
   "metadata": {},
   "source": [
    "Align example structures"
   ]
  },
  {
   "cell_type": "code",
   "execution_count": 46,
   "metadata": {},
   "outputs": [
    {
     "name": "stdout",
     "output_type": "stream",
     "text": [
      "(0.5560523508164131, 0.5560523508178329)\n"
     ]
    }
   ],
   "source": [
    "#merged_xray = mda.Merge(_3hb3.atoms, _1ar1.atoms)\n",
    "#nv.show_mdanalysis(merged_xray)\n",
    "aligned = align.alignto(_3hb3, _1ar1, select='backbone or name CA', match_atoms=True)\n",
    "print(aligned)\n",
    "#nv.show_mdanalysis(mda.Merge(_3hb3.atoms, _1ar1.atoms))"
   ]
  },
  {
   "cell_type": "markdown",
   "metadata": {},
   "source": [
    "Calculate RMSD of example structures"
   ]
  },
  {
   "cell_type": "code",
   "execution_count": 62,
   "metadata": {},
   "outputs": [
    {
     "name": "stdout",
     "output_type": "stream",
     "text": [
      "RMSD in Angstrom: 0.5558103501841432\n"
     ]
    }
   ],
   "source": [
    "RMSD = rms.rmsd(_3hb3.select_atoms('backbone').positions, _1ar1.select_atoms('backbone').positions, center=True, superposition=True)\n",
    "print(r'RMSD in Angstrom: '+str(RMSD))"
   ]
  },
  {
   "cell_type": "code",
   "execution_count": null,
   "metadata": {},
   "outputs": [],
   "source": []
  }
 ],
 "metadata": {
  "interpreter": {
   "hash": "2140ed94d7e985123a1a7c2e7e16e6e539e040772859bef8d97bb297edf06d90"
  },
  "kernelspec": {
   "display_name": "Python 3.9.7 64-bit ('work': conda)",
   "language": "python",
   "name": "python3"
  },
  "language_info": {
   "codemirror_mode": {
    "name": "ipython",
    "version": 3
   },
   "file_extension": ".py",
   "mimetype": "text/x-python",
   "name": "python",
   "nbconvert_exporter": "python",
   "pygments_lexer": "ipython3",
   "version": "3.9.7"
  },
  "orig_nbformat": 4
 },
 "nbformat": 4,
 "nbformat_minor": 2
}
