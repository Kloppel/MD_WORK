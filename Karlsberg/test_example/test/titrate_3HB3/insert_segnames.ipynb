{
 "cells": [
  {
   "cell_type": "code",
   "execution_count": 11,
   "metadata": {},
   "outputs": [],
   "source": [
    "import warnings as warn"
   ]
  },
  {
   "cell_type": "code",
   "execution_count": 1,
   "metadata": {},
   "outputs": [],
   "source": [
    "def add_segnames_PDB(file, outputfile, text, **kwargs):\n",
    "    f = open(file, 'r+')\n",
    "    new_file = []\n",
    "    #76 characters in line before replacement of 4 characters with segID identifiers, starts counting at 0.\n",
    "    position=75\n",
    "    for line in f:\n",
    "        line_ = line[:position] + text + line[position+1:]\n",
    "        new_file.append(line_)\n",
    "    os.remove(file)\n",
    "    with open(outputfile, 'w+') as f:\n",
    "        for i in new_file:\n",
    "            f.write(i)"
   ]
  },
  {
   "cell_type": "code",
   "execution_count": 2,
   "metadata": {},
   "outputs": [],
   "source": [
    "#add_segnames_PDB(file='ACHA.pdb', outputfile='ACHA.pdb', text='ACHA')"
   ]
  },
  {
   "cell_type": "code",
   "execution_count": 12,
   "metadata": {},
   "outputs": [],
   "source": [
    "def merge_pdbs(files, outputfile, **kwargs):\n",
    "    with open(outputfile, 'w') as outfile:\n",
    "        for fname in files:\n",
    "            with open(fname) as infile:\n",
    "                for line in infile:\n",
    "                    outfile.write(line)\n",
    "    warn.warn('IO Warning: This programm may not recognize newline characters, so check the resulting file for the regular pdb file format.')\n"
   ]
  },
  {
   "cell_type": "code",
   "execution_count": 13,
   "metadata": {},
   "outputs": [
    {
     "name": "stderr",
     "output_type": "stream",
     "text": [
      "/tmp/ipykernel_9721/3460560500.py:7: UserWarning: IO Warning: This programm may not recognize newline characters, so check the resulting file for the regular pdb file format.\n",
      "  warn.warn('IO Warning: This programm may not recognize newline characters, so check the resulting file for the regular pdb file format.')\n"
     ]
    }
   ],
   "source": [
    "files=['ACHA.pdb', 'BCHA.pdb', 'EHEM.pdb', 'FEOH.pdb', 'GHEM.pdb', 'META.pdb']\n",
    "merge_pdbs(files=files, outputfile='3HB3_.pdb')"
   ]
  },
  {
   "cell_type": "code",
   "execution_count": null,
   "metadata": {},
   "outputs": [],
   "source": []
  }
 ],
 "metadata": {
  "interpreter": {
   "hash": "95c14bbcb5f488471bc984962048bfb1d1a8c9ca1ca0a54d1ccfa50aab96354e"
  },
  "kernelspec": {
   "display_name": "Python 3.9.5 64-bit ('base': conda)",
   "language": "python",
   "name": "python3"
  },
  "language_info": {
   "codemirror_mode": {
    "name": "ipython",
    "version": 3
   },
   "file_extension": ".py",
   "mimetype": "text/x-python",
   "name": "python",
   "nbconvert_exporter": "python",
   "pygments_lexer": "ipython3",
   "version": "3.9.7"
  },
  "orig_nbformat": 4
 },
 "nbformat": 4,
 "nbformat_minor": 2
}
