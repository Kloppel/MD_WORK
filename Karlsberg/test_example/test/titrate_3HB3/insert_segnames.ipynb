{
 "cells": [
  {
   "cell_type": "code",
   "execution_count": 8,
   "metadata": {},
   "outputs": [],
   "source": [
    "f = open('ACHA.pdb', 'r+')\n",
    "new_file = []\n",
    "#72 characters in line before replacement of 4 characters with segID identifiers, starts counting at 0?\n",
    "position=75\n",
    "for line in f:\n",
    "    line_ = line[:position] + 'ACHA' + line[position+1:]\n",
    "    new_file.append(line_)\n",
    "new_file\n",
    "with open('ACHA_.pdb', 'w+') as f:\n",
    "    for i in new_file:\n",
    "        f.write(i)\n"
   ]
  },
  {
   "cell_type": "code",
   "execution_count": 9,
   "metadata": {},
   "outputs": [],
   "source": [
    "def add_segnames_PDB(file, outputfile, text, **kwargs):\n",
    "    f = open(file, 'r+')\n",
    "    new_file = []\n",
    "    #76 characters in line before replacement of 4 characters with segID identifiers, starts counting at 0.\n",
    "    position=75\n",
    "    for line in f:\n",
    "        line_ = line[:position] + text + line[position+1:]\n",
    "        new_file.append(line_)\n",
    "    with open(outputfile, 'w+') as f:\n",
    "        for i in new_file:\n",
    "            f.write(i)\n",
    "\n",
    "add_segnames_PDB(file='ACHA.pdb', outputfile='ACHA_out.pdb', text='ACHA')"
   ]
  },
  {
   "cell_type": "code",
   "execution_count": null,
   "metadata": {},
   "outputs": [],
   "source": []
  }
 ],
 "metadata": {
  "interpreter": {
   "hash": "95c14bbcb5f488471bc984962048bfb1d1a8c9ca1ca0a54d1ccfa50aab96354e"
  },
  "kernelspec": {
   "display_name": "Python 3.9.5 64-bit ('base': conda)",
   "language": "python",
   "name": "python3"
  },
  "language_info": {
   "codemirror_mode": {
    "name": "ipython",
    "version": 3
   },
   "file_extension": ".py",
   "mimetype": "text/x-python",
   "name": "python",
   "nbconvert_exporter": "python",
   "pygments_lexer": "ipython3",
   "version": "3.9.7"
  },
  "orig_nbformat": 4
 },
 "nbformat": 4,
 "nbformat_minor": 2
}
